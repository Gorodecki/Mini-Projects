{
  "nbformat": 4,
  "nbformat_minor": 0,
  "metadata": {
    "colab": {
      "name": "NLP_NER_News.ipynb",
      "provenance": [],
      "collapsed_sections": [
        "RSCnFLlBgOKT",
        "xywhjKtDRXqa",
        "esQZA8PgyIMX",
        "zqtWO5F2MSQe"
      ],
      "include_colab_link": true
    },
    "kernelspec": {
      "name": "python3",
      "display_name": "Python 3"
    },
    "accelerator": "GPU"
  },
  "cells": [
    {
      "cell_type": "markdown",
      "metadata": {
        "id": "view-in-github",
        "colab_type": "text"
      },
      "source": [
        "<a href=\"https://colab.research.google.com/github/Gorodecki/Projects/blob/master/NLP_NER_News.ipynb\" target=\"_parent\"><img src=\"https://colab.research.google.com/assets/colab-badge.svg\" alt=\"Open In Colab\"/></a>"
      ]
    },
    {
      "cell_type": "markdown",
      "metadata": {
        "id": "Qq1nfWCfahbH",
        "colab_type": "text"
      },
      "source": [
        "# NER задача на базе новостей"
      ]
    },
    {
      "cell_type": "code",
      "metadata": {
        "id": "1yp3Hnkt9bDa",
        "colab_type": "code",
        "colab": {}
      },
      "source": [
        "import numpy as np\n",
        "import pandas as pd\n",
        "\n",
        "from tensorflow.keras.layers import Dense, SimpleRNN, Concatenate, Input, concatenate, LSTM, Embedding, BatchNormalization, Dropout, Bidirectional, GlobalMaxPool1D\n",
        "from tensorflow.keras.models import Model, Sequential\n",
        "from tensorflow.keras.optimizers import Adam\n",
        "from tensorflow.keras.metrics import AUC, Accuracy\n",
        "from tensorflow.keras.preprocessing.text import Tokenizer\n",
        "from tensorflow.keras.utils import to_categorical, plot_model\n",
        "from tensorflow.keras.preprocessing.sequence import pad_sequences\n",
        "from sklearn.model_selection import train_test_split\n",
        "from tensorflow.keras.callbacks import EarlyStopping\n",
        "\n",
        "import io\n",
        "import re\n",
        "from google.colab import drive\n",
        "import sklearn\n",
        "from sklearn.metrics import roc_curve, auc, classification_report\n",
        "import matplotlib.pyplot as plt\n",
        "colors_map = plt.rcParams['axes.prop_cycle'].by_key()['color']\n",
        "%matplotlib inline"
      ],
      "execution_count": null,
      "outputs": []
    },
    {
      "cell_type": "code",
      "metadata": {
        "id": "Zj3NPCtS9n86",
        "colab_type": "code",
        "colab": {
          "base_uri": "https://localhost:8080/",
          "height": 85
        },
        "outputId": "29bc34bc-348f-4d90-eee0-04b3d216057d"
      },
      "source": [
        "drive.mount('/content/drive')\n",
        "%cd '/content/drive/My Drive/Colab Notebooks/NLP course/Данные/News_NLP_4/'\n",
        "!ls"
      ],
      "execution_count": null,
      "outputs": [
        {
          "output_type": "stream",
          "text": [
            "Drive already mounted at /content/drive; to attempt to forcibly remount, call drive.mount(\"/content/drive\", force_remount=True).\n",
            "/content/drive/My Drive/Colab Notebooks/NLP course/Данные/News_NLP_4\n",
            " news_1.xml  'База новостей часть 1.docx'\n",
            " news_2.xml  'База новостей. часть 2.docx'\n"
          ],
          "name": "stdout"
        }
      ]
    },
    {
      "cell_type": "markdown",
      "metadata": {
        "id": "RSCnFLlBgOKT",
        "colab_type": "text"
      },
      "source": [
        "#Парсим файлы формата XML (.docx)"
      ]
    },
    {
      "cell_type": "code",
      "metadata": {
        "id": "Xh97-tC0Scyc",
        "colab_type": "code",
        "colab": {}
      },
      "source": [
        "import xml.etree.ElementTree as ET"
      ],
      "execution_count": null,
      "outputs": []
    },
    {
      "cell_type": "code",
      "metadata": {
        "id": "IMvE9uSvScyd",
        "colab_type": "code",
        "colab": {}
      },
      "source": [
        "color_meaning = {'00ff00':'сравнение', '00ffff':'дальность', '9900ff':'эмоции', 'ff00ff':'комфорт', 'ffff00':'скорость',\n",
        "                'green':'сравнение', 'yellow':'скорость', 'cyan':'дальность', 'magenta':'комфорт'} #создаем словарь соответствий цвет-значение"
      ],
      "execution_count": null,
      "outputs": []
    },
    {
      "cell_type": "code",
      "metadata": {
        "id": "JaRdLrkiScyg",
        "colab_type": "code",
        "colab": {}
      },
      "source": [
        "#названия необходимых тегов\n",
        "r = '{http://schemas.openxmlformats.org/wordprocessingml/2006/main}r'\n",
        "rpr = '{http://schemas.openxmlformats.org/wordprocessingml/2006/main}rPr'\n",
        "t = '{http://schemas.openxmlformats.org/wordprocessingml/2006/main}t'\n",
        "shd = '{http://schemas.openxmlformats.org/wordprocessingml/2006/main}shd'\n",
        "fill = '{http://schemas.openxmlformats.org/wordprocessingml/2006/main}fill'\n",
        "highlight = '{http://schemas.openxmlformats.org/wordprocessingml/2006/main}highlight'\n",
        "val = '{http://schemas.openxmlformats.org/wordprocessingml/2006/main}val'"
      ],
      "execution_count": null,
      "outputs": []
    },
    {
      "cell_type": "code",
      "metadata": {
        "id": "OeZvSQE76IXX",
        "colab_type": "code",
        "colab": {}
      },
      "source": [
        "#парсим tesla_1\n",
        "tree = ET.parse('news_1.xml')\n",
        "root = tree.getroot()\n",
        "body = root[0]\n",
        "ps1 = list(iter(body))[:-1]"
      ],
      "execution_count": null,
      "outputs": []
    },
    {
      "cell_type": "code",
      "metadata": {
        "id": "4t_xXSDWScyh",
        "colab_type": "code",
        "colab": {}
      },
      "source": [
        "#парсим tesla_2\n",
        "tree = ET.parse('news_2.xml') #открываем xml файл\n",
        "root = tree.getroot() #находим корень\n",
        "body = root[0]\n",
        "ps2 = list(iter(body))[:-1] #получаем список всех отзывов"
      ],
      "execution_count": null,
      "outputs": []
    },
    {
      "cell_type": "code",
      "metadata": {
        "id": "k7sM3i7cNc3A",
        "colab_type": "code",
        "colab": {}
      },
      "source": [
        "news_all = ps1 + ps2"
      ],
      "execution_count": null,
      "outputs": []
    },
    {
      "cell_type": "code",
      "metadata": {
        "id": "tGhEjmz_IiqP",
        "colab_type": "code",
        "colab": {
          "base_uri": "https://localhost:8080/",
          "height": 71
        },
        "outputId": "e7983e5a-7b49-44f3-e0b5-e1f37654fc76"
      },
      "source": [
        "#Сведем все в кучу для токенайзера\n",
        "all_txt=[]\n",
        "\n",
        "for paragraph in ps1: # отзывы из 1 блока\n",
        "    phrases_list = paragraph.findall(r)\n",
        "    text=''\n",
        "    for phrase in phrases_list:\n",
        "        text+= phrase.find(t).text\n",
        "    all_txt.append(text)\n",
        "\n",
        "for paragraph in ps2: # отзывы из 2 блока\n",
        "    phrases_list = paragraph.findall(r)\n",
        "    text=''\n",
        "    for phrase in phrases_list:\n",
        "        text+= phrase.find(t).text\n",
        "    all_txt.append(text)\n",
        "\n",
        "print('Количество отзывов:', len(all_txt))\n",
        "all_txt[100]"
      ],
      "execution_count": null,
      "outputs": [
        {
          "output_type": "stream",
          "text": [
            "Количество отзывов: 3518\n"
          ],
          "name": "stdout"
        },
        {
          "output_type": "execute_result",
          "data": {
            "text/plain": [
              "'Волка подозревают в нападении на загон с кенгуру на севере Бельгии, одно животное погибло, другое было ранено, пишет местная газета Soir со ссылкой на природоохранную организацию Landschap. Инцидент произошел в ночь на среду в коммуне Бален (провинция Антверпен). Подвергшиеся нападению кенгуру проживали в служившем им загоном саду рядом с домом владельца. По мнению экспертов Landschap и кампании Welkom Wolf (\"Добро пожаловать, волк\"), нападение совершил волк Август, который во вторник был замечен в районе коммуны. Согласно наблюдениям натуралистов, за прошедшие несколько недель хищник также задрал несколько овец, принадлежавших местным фермерам. Представитель Landschap Ян Лос убежден, что на кенгуру напал именно волк. \"Волк проскользнул под решеткой загона и утащил кенгуру\", — сказал он изданию, добавив, что речь идет об Августе или, что менее вероятно, появившемся в регионе новом волке.'"
            ]
          },
          "metadata": {
            "tags": []
          },
          "execution_count": 199
        }
      ]
    },
    {
      "cell_type": "code",
      "metadata": {
        "id": "KlnIc0MKvZA7",
        "colab_type": "code",
        "colab": {
          "base_uri": "https://localhost:8080/",
          "height": 85
        },
        "outputId": "f99aa230-be4a-4066-a783-84d2ef6dffa7"
      },
      "source": [
        "# PyMorphy используем для нормализации форм слов (чтобы не раздувать num_character, а соответственно Embedding)\n",
        "!pip install pymorphy2 \n",
        "import pymorphy2\n",
        "morph = pymorphy2.MorphAnalyzer()"
      ],
      "execution_count": null,
      "outputs": [
        {
          "output_type": "stream",
          "text": [
            "Requirement already satisfied: pymorphy2 in /usr/local/lib/python3.6/dist-packages (0.8)\n",
            "Requirement already satisfied: dawg-python>=0.7 in /usr/local/lib/python3.6/dist-packages (from pymorphy2) (0.7.2)\n",
            "Requirement already satisfied: pymorphy2-dicts<3.0,>=2.4 in /usr/local/lib/python3.6/dist-packages (from pymorphy2) (2.4.393442.3710985)\n",
            "Requirement already satisfied: docopt>=0.6 in /usr/local/lib/python3.6/dist-packages (from pymorphy2) (0.6.2)\n"
          ],
          "name": "stdout"
        }
      ]
    },
    {
      "cell_type": "code",
      "metadata": {
        "id": "YH13Qy3TbkSn",
        "colab_type": "code",
        "colab": {}
      },
      "source": [
        "# Пересобираем текст в нормальной форме\n",
        "def morphy_clean(text):\n",
        "  '''\n",
        "  функция возвращает list слов в нормальной форме, в расчёт не берём \"NUMR - числительное, PREP - предикатив, CONJ - предлог, PRCL - союз, INTJ - частица или междометие\" \n",
        "  '''\n",
        "  for i in range(len(text)):\n",
        "    # генератор перебирает слова внутри i-го предложения, собираем через пробел в строку\n",
        "    text[i]=' '.join([morph.parse(word.replace('.',''))[0].normal_form for word in text[i].split() if morph.parse(word.replace('.',''))[0].tag.POS not in ('NUMR','PREP','CONJ','PRCL','INTJ')])\n",
        "  return text"
      ],
      "execution_count": null,
      "outputs": []
    },
    {
      "cell_type": "code",
      "metadata": {
        "id": "SDbZirWbv5gx",
        "colab_type": "code",
        "colab": {
          "base_uri": "https://localhost:8080/",
          "height": 54
        },
        "outputId": "e4c3b997-637e-4dbb-950c-8a975b7b7a73"
      },
      "source": [
        "# смешно, но как будто пишет человек иностранец, не знающий русский язык )))\n",
        "all_txt = morphy_clean(all_txt)\n",
        "all_txt[100]"
      ],
      "execution_count": null,
      "outputs": [
        {
          "output_type": "execute_result",
          "data": {
            "text/plain": [
              "'волк подозревать нападение загон кенгуру север бельгии, один животный погибло, другой быть ранено, писать местный газета soir ссылка природоохранный организация landschap инцидент произойти ночь среда коммуна бальный (провинция антверпен) подвергнуться нападение кенгуру проживать служить имя загон сад ряд дом владелец мнение эксперт landschap кампания welkom wolf (\"добро пожаловать, волк\"), нападение совершить волк август, который вторник быть заметить район коммуна наблюдение натуралистов, прошедшее несколько неделя хищник задрать несколько овец, принадлежать местный фермер представитель landschap ян лос убежден, кенгуру напасть волк \"волк проскользнуть решётка загон утащить кенгуру\", — сказать он изданию, добавив, речь идти август или, менее вероятно, появиться регион новый волк'"
            ]
          },
          "metadata": {
            "tags": []
          },
          "execution_count": 202
        }
      ]
    },
    {
      "cell_type": "code",
      "metadata": {
        "id": "MEwe2k7yI_C0",
        "colab_type": "code",
        "colab": {
          "base_uri": "https://localhost:8080/",
          "height": 136
        },
        "outputId": "62f0f013-93c4-4565-b40e-9861ba75c44e"
      },
      "source": [
        "# создаем словарь частотности по всему тексту исключая знаки\n",
        "num_characters = 15000\n",
        "tokenizer = Tokenizer(num_words=num_characters, filters='!\"#$%&()*+,-./:;<=>?@[\\\\]^_`{|}~\\t\\n', oov_token='<unk>') #токенизируем на уровне слов\n",
        "tokenizer.fit_on_texts(np.array(all_txt)) #формируем токены на основе частотности в нашем тексте\n",
        "tok_ind = tokenizer.word_index # выводим сколько всего уникальных слов\n",
        "print(len(tok_ind))\n",
        "[_ for _ in tok_ind.items() if _[0] in ['город', 'правительство', 'человек', 'управление', 'депутат', 'россия']] # генератор по словарю, по нескольким ключам"
      ],
      "execution_count": null,
      "outputs": [
        {
          "output_type": "stream",
          "text": [
            "29230\n"
          ],
          "name": "stdout"
        },
        {
          "output_type": "execute_result",
          "data": {
            "text/plain": [
              "[('россия', 11),\n",
              " ('человек', 21),\n",
              " ('город', 40),\n",
              " ('правительство', 48),\n",
              " ('управление', 319),\n",
              " ('депутат', 399)]"
            ]
          },
          "metadata": {
            "tags": []
          },
          "execution_count": 203
        }
      ]
    },
    {
      "cell_type": "code",
      "metadata": {
        "id": "wvkdXubv0JzP",
        "colab_type": "code",
        "colab": {}
      },
      "source": [
        "# словарь всех цветов встречающихся в тексте\n",
        "colors = set()"
      ],
      "execution_count": null,
      "outputs": []
    },
    {
      "cell_type": "code",
      "metadata": {
        "id": "oQQ8mbd4emUf",
        "colab_type": "code",
        "colab": {}
      },
      "source": [
        "# функция вычисления всех встретившихся цветов в тексте --->>> потом смотрим эти цвета в файле и создаём словарь соответствия \"Цвет - Окраска\"\n",
        "def colors_in_doc(doc):\n",
        "  for i, paragraph in enumerate(doc):\n",
        "    phrases_list = paragraph.findall(r)\n",
        "    for phrase in phrases_list:\n",
        "        text = phrase.find(t).text\n",
        "        style = phrase.find(rpr)\n",
        "        \n",
        "        if style.find(shd) is not None:\n",
        "            color = style.find(shd).attrib[fill]\n",
        "        elif style.find(highlight) is not None:\n",
        "            color = style.find(highlight).attrib[val]\n",
        "        else:\n",
        "            color = 'white'\n",
        "        color = color.lower()\n",
        "        \n",
        "        colors.add(color)\n",
        "        \n",
        "  print(colors)"
      ],
      "execution_count": null,
      "outputs": []
    },
    {
      "cell_type": "code",
      "metadata": {
        "id": "EiVXHIE-fLuj",
        "colab_type": "code",
        "colab": {
          "base_uri": "https://localhost:8080/",
          "height": 34
        },
        "outputId": "acb53d8c-d6a4-48f5-bad2-1b32b095890c"
      },
      "source": [
        "colors_in_doc(ps1)"
      ],
      "execution_count": null,
      "outputs": [
        {
          "output_type": "stream",
          "text": [
            "{'ffffff', 'cccccc', '00ff00', 'ffff00', '9900ff', '674ea7', 'd9d9d9', '00ffff', 'b4a7d6', 'fff2cc', 'efefef', 'white', 'ff00ff', '8e7cc3', '999999', 'c27ba0'}\n"
          ],
          "name": "stdout"
        }
      ]
    },
    {
      "cell_type": "code",
      "metadata": {
        "id": "_N1uSrt9Fgvt",
        "colab_type": "code",
        "colab": {
          "base_uri": "https://localhost:8080/",
          "height": 54
        },
        "outputId": "38bae4d7-2694-4e61-ce32-cd09e9e0ba98"
      },
      "source": [
        "colors_in_doc(ps2)"
      ],
      "execution_count": null,
      "outputs": [
        {
          "output_type": "stream",
          "text": [
            "{'00ff00', 'd9d9d9', 'b4a7d6', 'efefef', 'ff00ff', 'yellow', '999999', 'c27ba0', 'ffffff', '9900ff', 'b7b7b7', '674ea7', '00ffff', 'white', 'cyan', 'cccccc', 'ffff00', 'fff2cc', 'green', '8e7cc3', 'magenta'}\n"
          ],
          "name": "stdout"
        }
      ]
    },
    {
      "cell_type": "code",
      "metadata": {
        "id": "q7LdHbJZFnI9",
        "colab_type": "code",
        "colab": {
          "base_uri": "https://localhost:8080/",
          "height": 374
        },
        "outputId": "f92dec3b-4290-4aed-f5e9-3e1e4243a06b"
      },
      "source": [
        "colors = list(colors)\n",
        "colors"
      ],
      "execution_count": null,
      "outputs": [
        {
          "output_type": "execute_result",
          "data": {
            "text/plain": [
              "['00ff00',\n",
              " 'd9d9d9',\n",
              " 'b4a7d6',\n",
              " 'efefef',\n",
              " 'ff00ff',\n",
              " 'yellow',\n",
              " '999999',\n",
              " 'c27ba0',\n",
              " 'ffffff',\n",
              " '9900ff',\n",
              " 'b7b7b7',\n",
              " '674ea7',\n",
              " '00ffff',\n",
              " 'white',\n",
              " 'cyan',\n",
              " 'cccccc',\n",
              " 'ffff00',\n",
              " 'fff2cc',\n",
              " 'green',\n",
              " '8e7cc3',\n",
              " 'magenta']"
            ]
          },
          "metadata": {
            "tags": []
          },
          "execution_count": 208
        }
      ]
    },
    {
      "cell_type": "code",
      "metadata": {
        "id": "Pr1L9JuuQDao",
        "colab_type": "code",
        "colab": {}
      },
      "source": [
        "# создаём словарь окраски\n",
        "index_color = ['Пусто', 'Личность', 'Локация', 'Организация, группа', 'Дата', 'Национальность', 'Звание, профессия, чин']\n",
        "\n",
        "# передаём привет тем кто размечал текст :))\n",
        "color_dict = {'cyan':1, 'efefef':5, 'green':3, 'b4a7d6':6, '9900ff':4, '00ffff':1, 'ffff00':2, 'yellow':2,\n",
        "              '674ea7':6, 'd9d9d9':5, '999999':5, '00ff00':3, 'white':0, 'b7b7b7':5, 'ffffff':0, 'ff00ff':4,\n",
        "              '8e7cc3':6, 'fff2cc':2, 'cccccc':5, 'magenta':4, 'c27ba0':4}"
      ],
      "execution_count": null,
      "outputs": []
    },
    {
      "cell_type": "code",
      "metadata": {
        "id": "Mir51XmIKfjm",
        "colab_type": "code",
        "colab": {}
      },
      "source": [
        "# из текста в ворде нам необходимо выделить слова в которых есть окраска\n",
        "X_train = []\n",
        "Y_train = []"
      ],
      "execution_count": null,
      "outputs": []
    },
    {
      "cell_type": "code",
      "metadata": {
        "id": "h0IPXh60Jorq",
        "colab_type": "code",
        "colab": {}
      },
      "source": [
        "# функция парсинга текста\n",
        "def parsing_doc(doc2txt):\n",
        "  X_train = []\n",
        "  Y_train = []\n",
        "  for i, paragraph in enumerate(doc2txt): #проходим по всем отзывам\n",
        "      phrases_list = paragraph.findall(r) #находим все фразы (часть отзыва) \n",
        "      text_temp = ''\n",
        "      X_train_temp = []\n",
        "      Y_train_temp = []\n",
        "      \n",
        "      for j, phrase in enumerate(phrases_list): #проходим по всем фразам\n",
        "          text = phrase.find(t).text #получаем текст, содержащийся во фразе\n",
        "          text = ' '.join(morphy_clean(text.split(' ')))  # текст приводим к нормальной форме\n",
        "          #text_temp += text\n",
        "          ###\n",
        "          style = phrase.find(rpr) #получаем стили фразы\n",
        "        \n",
        "          if style.find(shd) is not None: #если размечали через заливку\n",
        "              color = style.find(shd).attrib[fill] #получаем значение цвета заливки\n",
        "          elif style.find(highlight) is not None: #если размечали через хайлайт\n",
        "              color = style.find(highlight).attrib[val] #получаем значение цвета хайлайта\n",
        "          else:\n",
        "              color = 'white' #иных вариантов выделения в word нет, значит эта фраза не выделена (белый цвет)\n",
        "          color = color.lower() #переводим строковое значение цвета в нижний регистр\n",
        " \n",
        "          for x in range(len(text.split())):\n",
        "            X_train_temp.append(text.split()[x])\n",
        "            try:\n",
        "              Y_train_temp.append(color_dict[color] + 1)\n",
        "            except:\n",
        "              Y_train_temp.append(0)     \n",
        "      Y_train.append(Y_train_temp)\n",
        "      X_train.append(X_train_temp)\n",
        "  return X_train, Y_train"
      ],
      "execution_count": null,
      "outputs": []
    },
    {
      "cell_type": "code",
      "metadata": {
        "id": "eBkKLhgOkUqI",
        "colab_type": "code",
        "colab": {}
      },
      "source": [
        "X_train, Y_train = parsing_doc(news_all)"
      ],
      "execution_count": null,
      "outputs": []
    },
    {
      "cell_type": "code",
      "metadata": {
        "id": "bfaPcraQQV50",
        "colab_type": "code",
        "colab": {
          "base_uri": "https://localhost:8080/",
          "height": 139
        },
        "outputId": "42aec0fc-faa7-49b5-a9b0-a2c4f2703253"
      },
      "source": [
        "#сверяемся с размерностью, смотрим правильность парсинга\n",
        "print(len(X_train[8]))\n",
        "print(len(Y_train[8]))\n",
        "print(X_train[8], '\\n', Y_train[8])\n",
        "print(len(X_train))\n",
        "print(len(Y_train))"
      ],
      "execution_count": null,
      "outputs": [
        {
          "output_type": "stream",
          "text": [
            "150\n",
            "150\n",
            "['власть', 'бельгия', 'отказаться', 'последовать', 'призыв', 'еврокомиссия', 'принять', 'страна', 'нелегальный', 'мигрант', 'борт', 'корабль', 'германский', 'нпо,', 'находиться', 'территориальный', 'вод', 'мальта', 'сообщить', 'журналист', 'представитель', 'премьер-министр', 'бельгия', 'шарль', 'мишель', ',', 'кабинет', 'министр', 'считает,', 'власть', 'королевство', 'уже', 'продемонстрировать', 'свой', 'солидарность', 'ес', 'миграционный', 'вопросе,', 'принимать', '«повышенный', 'число', 'проситель', 'убежища»', 'еврокомиссия', 'ранее', 'призвать', 'страна-член', 'евросоюз', 'распределить', 'себя', '49', 'мигрантов,', 'спасти', 'работник', 'германский', 'нпо', 'вод', 'средиземный', 'море', 'власть', 'мальта', 'настаивают,', 'это', 'беженец', 'быть', 'добавить', '249', 'мигрантов,', 'который', 'несколько', 'день', 'назад', 'быть', 'спасти', 'мальтийский', 'моряк', 'принять', 'временной', 'содержание', 'власть', 'страна', 'ранее', 'декабрь', 'король', 'бельгиец', 'филипп', ',', 'являться', 'формальный', 'главый', 'государства,', 'принять', 'прошение', 'премьера', 'бельгия', 'отставка', 'это', 'предшествовать', 'выход', 'правительственный', 'коалиция', 'самый', 'влиятельный', 'она', 'состав', 'правый', 'партия', '«', 'новый', 'фламандский', 'альянс', '»', '-', 'знак', 'протест', 'обещание', 'мишель', 'подписать', 'глобальный', 'соглашение', 'область', 'миграционный', 'политика', 'привести', 'перестановка', 'кабинет', 'министр', 'потеря', 'коалиция', 'большинство', 'федеральный', 'парламент', 'итог', 'монарх', 'поручить', 'премьера', 'член', 'действующий', 'кабинет', 'министр', 'временно', 'исполнять', 'текущий', 'обязанность', 'очередной', 'парламентский', 'выбор', 'май', '2019', 'год'] \n",
            " [1, 3, 1, 1, 1, 4, 1, 1, 1, 1, 1, 1, 1, 1, 1, 1, 1, 3, 1, 1, 7, 7, 3, 2, 2, 1, 1, 1, 1, 1, 1, 1, 1, 1, 1, 3, 1, 1, 1, 1, 1, 1, 1, 4, 1, 1, 1, 4, 1, 1, 1, 1, 1, 7, 1, 1, 1, 3, 3, 1, 3, 1, 1, 1, 1, 1, 1, 1, 1, 5, 5, 5, 1, 1, 7, 7, 1, 1, 1, 1, 1, 5, 5, 7, 7, 2, 1, 1, 1, 1, 1, 1, 1, 7, 3, 1, 1, 1, 1, 1, 1, 1, 1, 1, 1, 1, 1, 1, 4, 4, 4, 1, 1, 1, 1, 1, 2, 1, 1, 1, 1, 1, 1, 1, 1, 1, 1, 1, 1, 1, 1, 1, 1, 7, 1, 1, 1, 1, 1, 1, 1, 1, 1, 1, 1, 1, 1, 5, 5, 5]\n",
            "3518\n",
            "3518\n"
          ],
          "name": "stdout"
        }
      ]
    },
    {
      "cell_type": "markdown",
      "metadata": {
        "id": "xywhjKtDRXqa",
        "colab_type": "text"
      },
      "source": [
        "# Обработка данных"
      ]
    },
    {
      "cell_type": "code",
      "metadata": {
        "id": "GZPZrtm1pTLb",
        "colab_type": "code",
        "colab": {}
      },
      "source": [
        "def split_train_val(datax, datay, p_val=0.2):\n",
        "    n = datax.shape[0]\n",
        "    sample = np.random.choice(n, n, False)\n",
        "    n = n-int(n*p_val)\n",
        "    return datax[sample[:n]], datax[sample[n:]], datay[sample[:n]], datay[sample[n:]]"
      ],
      "execution_count": null,
      "outputs": []
    },
    {
      "cell_type": "code",
      "metadata": {
        "id": "tvx4zkHSHxVX",
        "colab_type": "code",
        "colab": {}
      },
      "source": [
        "x_train_token = np.array(tokenizer.texts_to_sequences(X_train))[7:]\n",
        "y_train_all = np.array(Y_train)[7:]"
      ],
      "execution_count": null,
      "outputs": []
    },
    {
      "cell_type": "code",
      "metadata": {
        "id": "bevR0gDBJwiL",
        "colab_type": "code",
        "colab": {
          "base_uri": "https://localhost:8080/",
          "height": 88
        },
        "outputId": "7ad2e34b-1dd5-4be1-8a79-b1abb1814726"
      },
      "source": [
        "# сверяемся с правильностью преобразований\n",
        "print(x_train_token[7])\n",
        "print(y_train_all[7])\n",
        "print(x_train_token.shape, y_train_all.shape)"
      ],
      "execution_count": null,
      "outputs": [
        {
          "output_type": "stream",
          "text": [
            "[775, 28, 11, 271, 2472, 4913, 1, 23, 421, 967, 8408, 271, 1, 1, 117, 1, 32, 421, 967, 20, 8408, 271, 16, 1, 1041, 1375, 1, 10641, 271, 103, 1, 1, 45, 4, 333, 42, 43, 7045, 1, 6, 1, 3838, 1, 33, 917, 1, 1, 1768, 702, 33, 917, 8408, 1, 652, 1504, 1593, 6113, 2474, 55, 6, 207, 1, 32, 67, 2854, 6114, 1, 1, 1, 3367, 10642, 752, 2367, 2475, 1376, 1, 1, 117, 1, 22, 65, 4467, 2, 1, 1, 45, 4913, 216, 1, 1, 1, 1, 271, 67, 1, 251, 4]\n",
            "[7, 7, 7, 3, 2, 2, 1, 3, 1, 1, 1, 3, 1, 1, 1, 1, 1, 1, 1, 1, 1, 3, 1, 1, 1, 1, 1, 1, 3, 1, 1, 1, 1, 1, 1, 4, 4, 7, 1, 1, 1, 1, 1, 1, 1, 1, 1, 1, 1, 1, 1, 1, 1, 7, 7, 1, 1, 1, 1, 1, 1, 1, 1, 1, 1, 1, 1, 1, 1, 1, 1, 1, 1, 1, 1, 1, 1, 1, 1, 1, 1, 1, 1, 1, 1, 1, 2, 1, 1, 1, 1, 1, 3, 1, 1, 1, 1]\n",
            "(3511,) (3511,)\n"
          ],
          "name": "stdout"
        }
      ]
    },
    {
      "cell_type": "code",
      "metadata": {
        "id": "Qix0jE5ajmWF",
        "colab_type": "code",
        "colab": {
          "base_uri": "https://localhost:8080/",
          "height": 34
        },
        "outputId": "a11ecdeb-ea20-45dc-f002-490cf24c1456"
      },
      "source": [
        "# проверим какой делать длины заполнение нулями \n",
        "count_len = [len(x) for x in x_train_token]\n",
        "print('Средняя длина предложения - {}. Минимальная длина предложения - {}. Максимальная длина предложения - {}.'.format(np.median(count_len), np.min(count_len), np.max(count_len)))"
      ],
      "execution_count": null,
      "outputs": [
        {
          "output_type": "stream",
          "text": [
            "Средняя длина предложения - 76.0. Минимальная длина предложения - 0. Максимальная длина предложения - 385.\n"
          ],
          "name": "stdout"
        }
      ]
    },
    {
      "cell_type": "code",
      "metadata": {
        "id": "4IJZSMMJkByq",
        "colab_type": "code",
        "colab": {}
      },
      "source": [
        "# заполняем нулями и обрезаем\n",
        "sent_len=200\n",
        "X_train_zero = pad_sequences(x_train_token, maxlen=sent_len, padding='post', truncating='post')\n",
        "Y_train_zero = pad_sequences(y_train_all, maxlen=sent_len, padding='post', truncating='post')"
      ],
      "execution_count": null,
      "outputs": []
    },
    {
      "cell_type": "code",
      "metadata": {
        "id": "j_3uMiFikPAr",
        "colab_type": "code",
        "colab": {
          "base_uri": "https://localhost:8080/",
          "height": 408
        },
        "outputId": "78f74021-9048-4a2e-ddbd-8bdd0b736e3d"
      },
      "source": [
        "# смотрим что получилось\n",
        "print(X_train_zero[7], X_train_zero.shape)\n",
        "print(Y_train_zero[7], Y_train_zero.shape)"
      ],
      "execution_count": null,
      "outputs": [
        {
          "output_type": "stream",
          "text": [
            "[  775    28    11   271  2472  4913     1    23   421   967  8408   271\n",
            "     1     1   117     1    32   421   967    20  8408   271    16     1\n",
            "  1041  1375     1 10641   271   103     1     1    45     4   333    42\n",
            "    43  7045     1     6     1  3838     1    33   917     1     1  1768\n",
            "   702    33   917  8408     1   652  1504  1593  6113  2474    55     6\n",
            "   207     1    32    67  2854  6114     1     1     1  3367 10642   752\n",
            "  2367  2475  1376     1     1   117     1    22    65  4467     2     1\n",
            "     1    45  4913   216     1     1     1     1   271    67     1   251\n",
            "     4     0     0     0     0     0     0     0     0     0     0     0\n",
            "     0     0     0     0     0     0     0     0     0     0     0     0\n",
            "     0     0     0     0     0     0     0     0     0     0     0     0\n",
            "     0     0     0     0     0     0     0     0     0     0     0     0\n",
            "     0     0     0     0     0     0     0     0     0     0     0     0\n",
            "     0     0     0     0     0     0     0     0     0     0     0     0\n",
            "     0     0     0     0     0     0     0     0     0     0     0     0\n",
            "     0     0     0     0     0     0     0     0     0     0     0     0\n",
            "     0     0     0     0     0     0     0     0] (3511, 200)\n",
            "[7 7 7 3 2 2 1 3 1 1 1 3 1 1 1 1 1 1 1 1 1 3 1 1 1 1 1 1 3 1 1 1 1 1 1 4 4\n",
            " 7 1 1 1 1 1 1 1 1 1 1 1 1 1 1 1 7 7 1 1 1 1 1 1 1 1 1 1 1 1 1 1 1 1 1 1 1\n",
            " 1 1 1 1 1 1 1 1 1 1 1 1 2 1 1 1 1 1 3 1 1 1 1 0 0 0 0 0 0 0 0 0 0 0 0 0 0\n",
            " 0 0 0 0 0 0 0 0 0 0 0 0 0 0 0 0 0 0 0 0 0 0 0 0 0 0 0 0 0 0 0 0 0 0 0 0 0\n",
            " 0 0 0 0 0 0 0 0 0 0 0 0 0 0 0 0 0 0 0 0 0 0 0 0 0 0 0 0 0 0 0 0 0 0 0 0 0\n",
            " 0 0 0 0 0 0 0 0 0 0 0 0 0 0 0] (3511, 200)\n"
          ],
          "name": "stdout"
        }
      ]
    },
    {
      "cell_type": "code",
      "metadata": {
        "id": "PPV9PDPUUEZg",
        "colab_type": "code",
        "colab": {}
      },
      "source": [
        "# переведем в OHE\n",
        "Y_train_OHE = to_categorical(Y_train_zero, len(index_color)+1)[:,:,1:]"
      ],
      "execution_count": null,
      "outputs": []
    },
    {
      "cell_type": "code",
      "metadata": {
        "id": "-zTreqk2qWOy",
        "colab_type": "code",
        "colab": {}
      },
      "source": [
        "x_sem_train, x_sem_test, y_sem_train, y_sem_test = split_train_val(X_train_zero, Y_train_OHE, p_val=0.1) # этой  функцией лучше происходит разделение"
      ],
      "execution_count": null,
      "outputs": []
    },
    {
      "cell_type": "markdown",
      "metadata": {
        "id": "esQZA8PgyIMX",
        "colab_type": "text"
      },
      "source": [
        "# Создаем нейросеть (Вариант LSTM)"
      ]
    },
    {
      "cell_type": "code",
      "metadata": {
        "id": "PcPAY80aFw1K",
        "colab_type": "code",
        "colab": {}
      },
      "source": [
        "# настройки с которыми происходили изменения, пробы, тесты\n",
        "embedding_size = 100\n",
        "count_lstm = 100"
      ],
      "execution_count": null,
      "outputs": []
    },
    {
      "cell_type": "code",
      "metadata": {
        "colab_type": "code",
        "id": "mS5vFipVFeLD",
        "colab": {
          "base_uri": "https://localhost:8080/",
          "height": 323
        },
        "outputId": "8f9eee36-6850-4c98-b275-6a2ee727f79b"
      },
      "source": [
        "model_sem = Sequential()\n",
        "model_sem.add(Embedding(num_characters, embedding_size, input_length=sent_len))\n",
        "model_sem.add(Bidirectional(LSTM(count_lstm, return_sequences=True)))\n",
        "model_sem.add(LSTM(count_lstm*2, return_sequences=True))\n",
        "model_sem.add(Dropout(0.3))\n",
        "#model_sem.add(Dense(embedding_size*2, activation='relu'))\n",
        "#model_sem.add(Dropout(0.2))\n",
        "model_sem.add(Dense(len(index_color), activation='softmax')) \n",
        "\n",
        "model_sem.compile(loss='categorical_crossentropy', metrics='accuracy', optimizer=Adam(lr=1e-3)) # было num_thresholds=200 \n",
        "model_sem.summary()"
      ],
      "execution_count": null,
      "outputs": [
        {
          "output_type": "stream",
          "text": [
            "Model: \"sequential_1\"\n",
            "_________________________________________________________________\n",
            "Layer (type)                 Output Shape              Param #   \n",
            "=================================================================\n",
            "embedding_1 (Embedding)      (None, 200, 100)          1500000   \n",
            "_________________________________________________________________\n",
            "bidirectional_1 (Bidirection (None, 200, 200)          160800    \n",
            "_________________________________________________________________\n",
            "lstm_3 (LSTM)                (None, 200, 200)          320800    \n",
            "_________________________________________________________________\n",
            "dropout_1 (Dropout)          (None, 200, 200)          0         \n",
            "_________________________________________________________________\n",
            "dense_1 (Dense)              (None, 200, 7)            1407      \n",
            "=================================================================\n",
            "Total params: 1,983,007\n",
            "Trainable params: 1,983,007\n",
            "Non-trainable params: 0\n",
            "_________________________________________________________________\n"
          ],
          "name": "stdout"
        }
      ]
    },
    {
      "cell_type": "code",
      "metadata": {
        "id": "Pj_adOXMJT5y",
        "colab_type": "code",
        "colab": {}
      },
      "source": [
        "# настройка CallBack - оценивает Точность Валидации, с минимальным значением среди 7 последних значений, возвращает лучшие веса\n",
        "# взял как самый простой тип остановки, в остальных надо разбираться\n",
        "early_stop = EarlyStopping(monitor='val_accuracy', patience=10, mode='max', restore_best_weights = True)\n"
      ],
      "execution_count": null,
      "outputs": []
    },
    {
      "cell_type": "code",
      "metadata": {
        "colab_type": "code",
        "id": "Sm1thf-HFeLL",
        "colab": {
          "base_uri": "https://localhost:8080/",
          "height": 663
        },
        "outputId": "1cad3312-1bda-4d65-def6-785728443262"
      },
      "source": [
        "epochs = 100\n",
        "batch_size = 50\n",
        "model_sem.compile(loss='categorical_crossentropy', metrics='accuracy', optimizer=Adam(lr=1e-3)) \n",
        "view_sem = model_sem.fit(x_sem_train, y_sem_train, batch_size=batch_size, epochs=epochs, validation_split=0.2, callbacks=early_stop)"
      ],
      "execution_count": null,
      "outputs": [
        {
          "output_type": "stream",
          "text": [
            "Epoch 1/100\n",
            "51/51 [==============================] - 4s 73ms/step - loss: 0.4315 - accuracy: 0.8800 - val_loss: 0.3708 - val_accuracy: 0.9056\n",
            "Epoch 2/100\n",
            "51/51 [==============================] - 3s 56ms/step - loss: 0.3555 - accuracy: 0.9049 - val_loss: 0.3146 - val_accuracy: 0.9064\n",
            "Epoch 3/100\n",
            "51/51 [==============================] - 3s 56ms/step - loss: 0.2634 - accuracy: 0.9163 - val_loss: 0.2300 - val_accuracy: 0.9264\n",
            "Epoch 4/100\n",
            "51/51 [==============================] - 3s 56ms/step - loss: 0.2007 - accuracy: 0.9378 - val_loss: 0.1797 - val_accuracy: 0.9460\n",
            "Epoch 5/100\n",
            "51/51 [==============================] - 3s 55ms/step - loss: 0.1435 - accuracy: 0.9556 - val_loss: 0.1383 - val_accuracy: 0.9586\n",
            "Epoch 6/100\n",
            "51/51 [==============================] - 3s 56ms/step - loss: 0.1036 - accuracy: 0.9676 - val_loss: 0.1211 - val_accuracy: 0.9629\n",
            "Epoch 7/100\n",
            "51/51 [==============================] - 3s 55ms/step - loss: 0.0840 - accuracy: 0.9735 - val_loss: 0.1167 - val_accuracy: 0.9660\n",
            "Epoch 8/100\n",
            "51/51 [==============================] - 3s 54ms/step - loss: 0.0698 - accuracy: 0.9775 - val_loss: 0.1177 - val_accuracy: 0.9639\n",
            "Epoch 9/100\n",
            "51/51 [==============================] - 3s 54ms/step - loss: 0.0612 - accuracy: 0.9800 - val_loss: 0.1173 - val_accuracy: 0.9671\n",
            "Epoch 10/100\n",
            "51/51 [==============================] - 3s 55ms/step - loss: 0.0531 - accuracy: 0.9823 - val_loss: 0.1208 - val_accuracy: 0.9662\n",
            "Epoch 11/100\n",
            "51/51 [==============================] - 3s 54ms/step - loss: 0.0466 - accuracy: 0.9844 - val_loss: 0.1351 - val_accuracy: 0.9660\n",
            "Epoch 12/100\n",
            "51/51 [==============================] - 3s 55ms/step - loss: 0.0403 - accuracy: 0.9865 - val_loss: 0.1409 - val_accuracy: 0.9657\n",
            "Epoch 13/100\n",
            "51/51 [==============================] - 3s 55ms/step - loss: 0.0352 - accuracy: 0.9882 - val_loss: 0.1514 - val_accuracy: 0.9641\n",
            "Epoch 14/100\n",
            "51/51 [==============================] - 3s 54ms/step - loss: 0.0296 - accuracy: 0.9903 - val_loss: 0.1664 - val_accuracy: 0.9646\n",
            "Epoch 15/100\n",
            "51/51 [==============================] - 3s 55ms/step - loss: 0.0256 - accuracy: 0.9917 - val_loss: 0.1752 - val_accuracy: 0.9636\n",
            "Epoch 16/100\n",
            "51/51 [==============================] - 3s 54ms/step - loss: 0.0217 - accuracy: 0.9929 - val_loss: 0.1801 - val_accuracy: 0.9631\n",
            "Epoch 17/100\n",
            "51/51 [==============================] - 3s 54ms/step - loss: 0.0185 - accuracy: 0.9941 - val_loss: 0.1912 - val_accuracy: 0.9642\n",
            "Epoch 18/100\n",
            "51/51 [==============================] - 3s 55ms/step - loss: 0.0156 - accuracy: 0.9952 - val_loss: 0.2014 - val_accuracy: 0.9628\n",
            "Epoch 19/100\n",
            "51/51 [==============================] - 3s 54ms/step - loss: 0.0131 - accuracy: 0.9959 - val_loss: 0.2072 - val_accuracy: 0.9613\n"
          ],
          "name": "stdout"
        }
      ]
    },
    {
      "cell_type": "code",
      "metadata": {
        "colab_type": "code",
        "id": "4WUUdYIDFeLN",
        "colab": {
          "base_uri": "https://localhost:8080/",
          "height": 280
        },
        "outputId": "958e3b08-bfc2-468b-b023-9b1e29156266"
      },
      "source": [
        "# график прогрессии обучения нейросети в Matplotlib\n",
        "plt.plot(view_sem.history['accuracy'], \n",
        "         label='Доля верных ответов на обучающем наборе')\n",
        "plt.plot(view_sem.history['val_accuracy'], \n",
        "         label='Доля верных ответов на проверочном наборе')\n",
        "plt.xlabel('Эпоха обучения')\n",
        "plt.ylabel('Доля верных ответов')\n",
        "plt.legend(loc='best')\n",
        "plt.show()"
      ],
      "execution_count": null,
      "outputs": [
        {
          "output_type": "display_data",
          "data": {
            "image/png": "[encoded data removed]",
            "text/plain": [
              "<Figure size 432x288 with 1 Axes>"
            ]
          },
          "metadata": {
            "tags": [],
            "needs_background": "light"
          }
        }
      ]
    },
    {
      "cell_type": "code",
      "metadata": {
        "id": "Qb1GISIZwoOo",
        "colab_type": "code",
        "colab": {
          "base_uri": "https://localhost:8080/",
          "height": 68
        },
        "outputId": "514b1868-7690-46ed-a2f8-50c6337c6220"
      },
      "source": [
        "# Вычисляем результаты сети на тестовом наборе\n",
        "scores = model_sem.evaluate(x_sem_test, y_sem_test, verbose=1, return_dict=True)\n",
        "# scores состоит из двух знанчений\n",
        "# scores[0] - loss сети на тестовой выборке\n",
        "# scores[1] - процент правильно распознанных примеров на тестовой выборке\n",
        "print(scores)\n",
        "print(\"Доля верных ответов на тестовых данных, в процентах: \", round(scores['accuracy'] * 100, 4), \"%\", sep=\"\")"
      ],
      "execution_count": null,
      "outputs": [
        {
          "output_type": "stream",
          "text": [
            "11/11 [==============================] - 0s 12ms/step - loss: 0.1053 - accuracy: 0.9695\n",
            "{'loss': 0.10527117550373077, 'accuracy': 0.9695441722869873}\n",
            "Доля верных ответов на тестовых данных, в процентах: 96.9544%\n"
          ],
          "name": "stdout"
        }
      ]
    },
    {
      "cell_type": "code",
      "metadata": {
        "id": "cnvvnderpsdy",
        "colab_type": "code",
        "colab": {
          "base_uri": "https://localhost:8080/",
          "height": 156
        },
        "outputId": "c22ac08d-7fd3-4376-ef38-0ad1a1c5f32f"
      },
      "source": [
        "# предсказываем и выводим результат на экран\n",
        "b = 7\n",
        "prediction_p = model_sem.predict(X_train_zero[b, None])\n",
        "print(prediction_p.round(0)[0].argmax(axis=1) + 1)\n",
        "print(y_train_all[b])"
      ],
      "execution_count": null,
      "outputs": [
        {
          "output_type": "stream",
          "text": [
            "[1 7 3 3 2 2 1 3 1 1 1 3 1 1 1 1 1 1 1 1 1 3 1 1 1 1 1 1 3 1 1 1 1 1 1 4 4\n",
            " 7 1 1 1 1 1 1 1 1 1 1 1 1 1 1 1 6 7 1 1 1 1 1 1 1 1 1 1 1 1 1 1 1 1 1 1 1\n",
            " 1 1 1 1 1 1 1 1 1 1 1 1 2 1 1 1 1 1 3 1 1 1 1 1 1 1 1 1 1 1 1 1 1 1 1 1 1\n",
            " 1 1 1 1 1 1 1 1 1 1 1 1 1 1 1 1 1 1 1 1 1 1 1 1 1 1 1 1 1 1 1 1 1 1 1 1 1\n",
            " 1 1 1 1 1 1 1 1 1 1 1 1 1 1 1 1 1 1 1 1 1 1 1 1 1 1 1 1 1 1 1 1 1 1 1 1 1\n",
            " 1 1 1 1 1 1 1 1 1 1 1 1 1 1 1]\n",
            "[7, 7, 7, 3, 2, 2, 1, 3, 1, 1, 1, 3, 1, 1, 1, 1, 1, 1, 1, 1, 1, 3, 1, 1, 1, 1, 1, 1, 3, 1, 1, 1, 1, 1, 1, 4, 4, 7, 1, 1, 1, 1, 1, 1, 1, 1, 1, 1, 1, 1, 1, 1, 1, 7, 7, 1, 1, 1, 1, 1, 1, 1, 1, 1, 1, 1, 1, 1, 1, 1, 1, 1, 1, 1, 1, 1, 1, 1, 1, 1, 1, 1, 1, 1, 1, 1, 2, 1, 1, 1, 1, 1, 3, 1, 1, 1, 1]\n"
          ],
          "name": "stdout"
        }
      ]
    },
    {
      "cell_type": "code",
      "metadata": {
        "colab_type": "code",
        "id": "JXkzUUw2FeLP",
        "colab": {}
      },
      "source": [
        "# сохраняем веса\n",
        "model_sem.save_weights('/content/drive/My Drive/Colab Notebooks/NLP course/model_NER.h5')"
      ],
      "execution_count": null,
      "outputs": []
    },
    {
      "cell_type": "markdown",
      "metadata": {
        "colab_type": "text",
        "id": "zqtWO5F2MSQe"
      },
      "source": [
        "# Создаем нейросеть (Вариант LSTM) + метрика  Categorical"
      ]
    },
    {
      "cell_type": "code",
      "metadata": {
        "colab_type": "code",
        "id": "PZBXVeHYMSQl",
        "colab": {}
      },
      "source": [
        "# настройки с которыми происходили изменения, пробы, тесты\n",
        "embedding_size = 100\n",
        "count_lstm = 100"
      ],
      "execution_count": null,
      "outputs": []
    },
    {
      "cell_type": "code",
      "metadata": {
        "colab_type": "code",
        "id": "P3YjNenjMSQ1",
        "colab": {
          "base_uri": "https://localhost:8080/",
          "height": 323
        },
        "outputId": "8a6ba473-0cd3-4699-d255-ed4fae5e44b0"
      },
      "source": [
        "model_sem_2 = Sequential()\n",
        "model_sem_2.add(Embedding(num_characters, embedding_size, input_length=sent_len))\n",
        "model_sem_2.add(Bidirectional(LSTM(count_lstm, return_sequences=True)))\n",
        "model_sem_2.add(LSTM(count_lstm*2, return_sequences=True))\n",
        "model_sem_2.add(Dropout(0.3))\n",
        "#model_sem.add(Dense(embedding_size*2, activation='relu'))\n",
        "#model_sem.add(Dropout(0.2))\n",
        "model_sem_2.add(Dense(len(index_color), activation='softmax')) \n",
        "\n",
        "model_sem_2.compile(loss='categorical_crossentropy', metrics='categorical_accuracy', optimizer=Adam(lr=1e-3)) # было num_thresholds=200 \n",
        "model_sem_2.summary()"
      ],
      "execution_count": null,
      "outputs": [
        {
          "output_type": "stream",
          "text": [
            "Model: \"sequential_2\"\n",
            "_________________________________________________________________\n",
            "Layer (type)                 Output Shape              Param #   \n",
            "=================================================================\n",
            "embedding_2 (Embedding)      (None, 200, 100)          1500000   \n",
            "_________________________________________________________________\n",
            "bidirectional_2 (Bidirection (None, 200, 200)          160800    \n",
            "_________________________________________________________________\n",
            "lstm_5 (LSTM)                (None, 200, 200)          320800    \n",
            "_________________________________________________________________\n",
            "dropout_2 (Dropout)          (None, 200, 200)          0         \n",
            "_________________________________________________________________\n",
            "dense_2 (Dense)              (None, 200, 7)            1407      \n",
            "=================================================================\n",
            "Total params: 1,983,007\n",
            "Trainable params: 1,983,007\n",
            "Non-trainable params: 0\n",
            "_________________________________________________________________\n"
          ],
          "name": "stdout"
        }
      ]
    },
    {
      "cell_type": "code",
      "metadata": {
        "colab_type": "code",
        "id": "bRD7RUhAMSQ9",
        "colab": {}
      },
      "source": [
        "# настройка CallBack - оценивает Точность Валидации, с минимальным значением среди 7 последних значений, возвращает лучшие веса\n",
        "# взял как самый простой тип остановки, в остальных надо разбираться\n",
        "early_stop = EarlyStopping(monitor='val_categorical_accuracy', patience=10, mode='max', restore_best_weights = True)\n"
      ],
      "execution_count": null,
      "outputs": []
    },
    {
      "cell_type": "code",
      "metadata": {
        "colab_type": "code",
        "id": "5vSinvMXMSRC",
        "colab": {
          "base_uri": "https://localhost:8080/",
          "height": 629
        },
        "outputId": "947a8e39-f97e-4837-e0f1-154767a62215"
      },
      "source": [
        "epochs = 100\n",
        "batch_size = 50\n",
        "model_sem_2.compile(loss='categorical_crossentropy', metrics='categorical_accuracy', optimizer=Adam(lr=1e-3)) \n",
        "view_sem_2 = model_sem_2.fit(x_sem_train, y_sem_train, batch_size=batch_size, epochs=epochs, validation_split=0.2, callbacks=early_stop)"
      ],
      "execution_count": null,
      "outputs": [
        {
          "output_type": "stream",
          "text": [
            "Epoch 1/100\n",
            "51/51 [==============================] - 4s 72ms/step - loss: 0.4264 - categorical_accuracy: 0.8891 - val_loss: 0.3671 - val_categorical_accuracy: 0.9056\n",
            "Epoch 2/100\n",
            "51/51 [==============================] - 3s 55ms/step - loss: 0.3452 - categorical_accuracy: 0.9051 - val_loss: 0.3002 - val_categorical_accuracy: 0.9069\n",
            "Epoch 3/100\n",
            "51/51 [==============================] - 3s 55ms/step - loss: 0.2457 - categorical_accuracy: 0.9224 - val_loss: 0.2197 - val_categorical_accuracy: 0.9319\n",
            "Epoch 4/100\n",
            "51/51 [==============================] - 3s 56ms/step - loss: 0.1825 - categorical_accuracy: 0.9425 - val_loss: 0.1682 - val_categorical_accuracy: 0.9486\n",
            "Epoch 5/100\n",
            "51/51 [==============================] - 3s 55ms/step - loss: 0.1315 - categorical_accuracy: 0.9586 - val_loss: 0.1355 - val_categorical_accuracy: 0.9583\n",
            "Epoch 6/100\n",
            "51/51 [==============================] - 3s 56ms/step - loss: 0.1000 - categorical_accuracy: 0.9682 - val_loss: 0.1207 - val_categorical_accuracy: 0.9643\n",
            "Epoch 7/100\n",
            "51/51 [==============================] - 3s 56ms/step - loss: 0.0819 - categorical_accuracy: 0.9739 - val_loss: 0.1144 - val_categorical_accuracy: 0.9655\n",
            "Epoch 8/100\n",
            "51/51 [==============================] - 3s 55ms/step - loss: 0.0680 - categorical_accuracy: 0.9778 - val_loss: 0.1168 - val_categorical_accuracy: 0.9670\n",
            "Epoch 9/100\n",
            "51/51 [==============================] - 3s 56ms/step - loss: 0.0588 - categorical_accuracy: 0.9807 - val_loss: 0.1253 - val_categorical_accuracy: 0.9665\n",
            "Epoch 10/100\n",
            "51/51 [==============================] - 3s 54ms/step - loss: 0.0534 - categorical_accuracy: 0.9824 - val_loss: 0.1318 - val_categorical_accuracy: 0.9661\n",
            "Epoch 11/100\n",
            "51/51 [==============================] - 3s 55ms/step - loss: 0.0449 - categorical_accuracy: 0.9851 - val_loss: 0.1304 - val_categorical_accuracy: 0.9665\n",
            "Epoch 12/100\n",
            "51/51 [==============================] - 3s 55ms/step - loss: 0.0389 - categorical_accuracy: 0.9871 - val_loss: 0.1429 - val_categorical_accuracy: 0.9633\n",
            "Epoch 13/100\n",
            "51/51 [==============================] - 3s 54ms/step - loss: 0.0349 - categorical_accuracy: 0.9886 - val_loss: 0.1505 - val_categorical_accuracy: 0.9637\n",
            "Epoch 14/100\n",
            "51/51 [==============================] - 3s 56ms/step - loss: 0.0297 - categorical_accuracy: 0.9904 - val_loss: 0.1624 - val_categorical_accuracy: 0.9642\n",
            "Epoch 15/100\n",
            "51/51 [==============================] - 3s 56ms/step - loss: 0.0257 - categorical_accuracy: 0.9918 - val_loss: 0.1692 - val_categorical_accuracy: 0.9625\n",
            "Epoch 16/100\n",
            "51/51 [==============================] - 3s 56ms/step - loss: 0.0226 - categorical_accuracy: 0.9928 - val_loss: 0.1793 - val_categorical_accuracy: 0.9631\n",
            "Epoch 17/100\n",
            "51/51 [==============================] - 3s 55ms/step - loss: 0.0200 - categorical_accuracy: 0.9936 - val_loss: 0.1923 - val_categorical_accuracy: 0.9633\n",
            "Epoch 18/100\n",
            "51/51 [==============================] - 3s 54ms/step - loss: 0.0172 - categorical_accuracy: 0.9946 - val_loss: 0.1995 - val_categorical_accuracy: 0.9623\n"
          ],
          "name": "stdout"
        }
      ]
    },
    {
      "cell_type": "code",
      "metadata": {
        "colab_type": "code",
        "id": "iNAmhObhMSRH",
        "colab": {
          "base_uri": "https://localhost:8080/",
          "height": 279
        },
        "outputId": "dd49b377-d1e0-4b11-fe61-7461d82f368d"
      },
      "source": [
        "# график прогрессии обучения нейросети в Matplotlib\n",
        "plt.plot(view_sem_2.history['categorical_accuracy'], \n",
        "         label='Доля верных ответов на обучающем наборе')\n",
        "plt.plot(view_sem_2.history['val_categorical_accuracy'], \n",
        "         label='Доля верных ответов на проверочном наборе')\n",
        "plt.xlabel('Эпоха обучения')\n",
        "plt.ylabel('Доля верных ответов')\n",
        "plt.legend(loc='best')\n",
        "plt.show()"
      ],
      "execution_count": null,
      "outputs": [
        {
          "output_type": "display_data",
          "data": {
            "image/png": "[encoded data removed]",
            "text/plain": [
              "<Figure size 432x288 with 1 Axes>"
            ]
          },
          "metadata": {
            "tags": [],
            "needs_background": "light"
          }
        }
      ]
    },
    {
      "cell_type": "code",
      "metadata": {
        "colab_type": "code",
        "id": "IWWVZ8VBMSRK",
        "colab": {
          "base_uri": "https://localhost:8080/",
          "height": 68
        },
        "outputId": "66369a74-89a7-4198-c90e-5a230f04a7a2"
      },
      "source": [
        "# Вычисляем результаты сети на тестовом наборе\n",
        "scores = model_sem_2.evaluate(x_sem_test, y_sem_test, verbose=1, return_dict=True)\n",
        "# scores состоит из двух знанчений\n",
        "# scores[0] - loss сети на тестовой выборке\n",
        "# scores[1] - процент правильно распознанных примеров на тестовой выборке\n",
        "print(scores)\n",
        "print(\"Доля верных ответов на тестовых данных, в процентах: \", round(scores['categorical_accuracy'] * 100, 4), \"%\", sep=\"\")"
      ],
      "execution_count": null,
      "outputs": [
        {
          "output_type": "stream",
          "text": [
            "11/11 [==============================] - 0s 21ms/step - loss: 0.1053 - categorical_accuracy: 0.9698\n",
            "{'loss': 0.10532213747501373, 'categorical_accuracy': 0.9697721004486084}\n",
            "Доля верных ответов на тестовых данных, в процентах: 96.9772%\n"
          ],
          "name": "stdout"
        }
      ]
    },
    {
      "cell_type": "code",
      "metadata": {
        "id": "ub5Q-x4-NfYY",
        "colab_type": "code",
        "colab": {}
      },
      "source": [
        ""
      ],
      "execution_count": null,
      "outputs": []
    },
    {
      "cell_type": "code",
      "metadata": {
        "colab_type": "code",
        "id": "S6RodRMNMSRN",
        "colab": {
          "base_uri": "https://localhost:8080/",
          "height": 156
        },
        "outputId": "c22ac08d-7fd3-4376-ef38-0ad1a1c5f32f"
      },
      "source": [
        "# предсказываем и выводим результат на экран\n",
        "b = 7\n",
        "prediction_p = model_sem.predict(X_train_zero[b, None])\n",
        "print(prediction_p.round(0)[0].argmax(axis=1) + 1)\n",
        "print(y_train_all[b])"
      ],
      "execution_count": null,
      "outputs": [
        {
          "output_type": "stream",
          "text": [
            "[1 7 3 3 2 2 1 3 1 1 1 3 1 1 1 1 1 1 1 1 1 3 1 1 1 1 1 1 3 1 1 1 1 1 1 4 4\n",
            " 7 1 1 1 1 1 1 1 1 1 1 1 1 1 1 1 6 7 1 1 1 1 1 1 1 1 1 1 1 1 1 1 1 1 1 1 1\n",
            " 1 1 1 1 1 1 1 1 1 1 1 1 2 1 1 1 1 1 3 1 1 1 1 1 1 1 1 1 1 1 1 1 1 1 1 1 1\n",
            " 1 1 1 1 1 1 1 1 1 1 1 1 1 1 1 1 1 1 1 1 1 1 1 1 1 1 1 1 1 1 1 1 1 1 1 1 1\n",
            " 1 1 1 1 1 1 1 1 1 1 1 1 1 1 1 1 1 1 1 1 1 1 1 1 1 1 1 1 1 1 1 1 1 1 1 1 1\n",
            " 1 1 1 1 1 1 1 1 1 1 1 1 1 1 1]\n",
            "[7, 7, 7, 3, 2, 2, 1, 3, 1, 1, 1, 3, 1, 1, 1, 1, 1, 1, 1, 1, 1, 3, 1, 1, 1, 1, 1, 1, 3, 1, 1, 1, 1, 1, 1, 4, 4, 7, 1, 1, 1, 1, 1, 1, 1, 1, 1, 1, 1, 1, 1, 1, 1, 7, 7, 1, 1, 1, 1, 1, 1, 1, 1, 1, 1, 1, 1, 1, 1, 1, 1, 1, 1, 1, 1, 1, 1, 1, 1, 1, 1, 1, 1, 1, 1, 1, 2, 1, 1, 1, 1, 1, 3, 1, 1, 1, 1]\n"
          ],
          "name": "stdout"
        }
      ]
    },
    {
      "cell_type": "code",
      "metadata": {
        "colab_type": "code",
        "id": "qhtjiVS9MSRQ",
        "colab": {}
      },
      "source": [
        "# сохраняем веса\n",
        "model_sem.save_weights('/content/drive/My Drive/Colab Notebooks/NLP course/model_NER_auc.h5')"
      ],
      "execution_count": null,
      "outputs": []
    },
    {
      "cell_type": "markdown",
      "metadata": {
        "id": "JpXJ1iFLxCHZ",
        "colab_type": "text"
      },
      "source": [
        "# Метрика и её график по классам"
      ]
    },
    {
      "cell_type": "code",
      "metadata": {
        "id": "_dUw1ausUe6b",
        "colab_type": "code",
        "colab": {}
      },
      "source": [
        "y_sem_pred = model_sem.predict(x_sem_test)"
      ],
      "execution_count": null,
      "outputs": []
    },
    {
      "cell_type": "code",
      "metadata": {
        "id": "NgwQNYzcWZSb",
        "colab_type": "code",
        "colab": {}
      },
      "source": [
        "xxx = np.argmax(y_sem_test, axis=-1).reshape(351*200)\n",
        "yyy = np.argmax(y_sem_pred, axis=-1).reshape(351*200)"
      ],
      "execution_count": null,
      "outputs": []
    },
    {
      "cell_type": "code",
      "metadata": {
        "id": "6xNmbLFfOe0t",
        "colab_type": "code",
        "colab": {
          "base_uri": "https://localhost:8080/",
          "height": 255
        },
        "outputId": "ff662626-7821-40d2-d428-51f7888f5fef"
      },
      "source": [
        "print(classification_report(xxx, yyy, target_names=index_color))"
      ],
      "execution_count": null,
      "outputs": [
        {
          "output_type": "stream",
          "text": [
            "                        precision    recall  f1-score   support\n",
            "\n",
            "                 Пусто       0.98      0.99      0.98     63766\n",
            "              Личность       0.90      0.76      0.82      1441\n",
            "               Локация       0.92      0.87      0.90      1996\n",
            "   Организация, группа       0.80      0.72      0.76      1241\n",
            "                  Дата       0.84      0.85      0.85       703\n",
            "        Национальность       0.78      0.73      0.75       375\n",
            "Звание, профессия, чин       0.70      0.56      0.62       678\n",
            "\n",
            "              accuracy                           0.97     70200\n",
            "             macro avg       0.85      0.78      0.81     70200\n",
            "          weighted avg       0.97      0.97      0.97     70200\n",
            "\n"
          ],
          "name": "stdout"
        }
      ]
    }
  ]
}
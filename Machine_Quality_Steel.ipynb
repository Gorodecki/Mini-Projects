{
  "nbformat": 4,
  "nbformat_minor": 0,
  "metadata": {
    "colab": {
      "name": "Machine_Quality_Steel_Nekrasov.ipynb",
      "provenance": [],
      "collapsed_sections": [],
      "mount_file_id": "1fz--Le2rupsheIDGup9HazZ6sJZ6nAxk",
      "authorship_tag": "ABX9TyNSuubo2PEuaEqA4vtzmiLK",
      "include_colab_link": true
    },
    "kernelspec": {
      "name": "python3",
      "display_name": "Python 3"
    }
  },
  "cells": [
    {
      "cell_type": "markdown",
      "metadata": {
        "id": "view-in-github",
        "colab_type": "text"
      },
      "source": [
        "<a href=\"https://colab.research.google.com/github/Gorodecki/Projects/blob/master/Machine_Quality_Steel.ipynb\" target=\"_parent\"><img src=\"https://colab.research.google.com/assets/colab-badge.svg\" alt=\"Open In Colab\"/></a>"
      ]
    },
    {
      "cell_type": "markdown",
      "metadata": {
        "id": "gwQuTVujNt1S",
        "colab_type": "text"
      },
      "source": [
        "**Задание**\n",
        "Вам необходимо построить модель, которая на основании данных, поступающих каждую минуту, определяют качество продукции, производимое на обжиговой машине.\n",
        "\n",
        "\n",
        "*   Обжиговая машина представляет собой агрегат, состоящий из 5 одинаковых по размеру камер, в каждой камере установлено по 3 датчика температур.\n",
        "\n",
        "*   Кроме этого, для данной задачи Вы собрали данные о высоте слоя сырья и его влажности.Высота слоя и влажность измеряются ***при входе сырья в машину***.\n",
        "\n",
        "*   Сырье проходит через обжиговую машину за час. Данные с показателями работы обжиговой машины содержатся в файле X_data.csv.\n",
        "\n",
        "*    Качество продукции измеряется в лаборатории по пробам, которые забираются каждый час, данные по известным анализам содержатся в файле Y_train.csv.\n",
        "*    В файле указано время забора пробы, ***проба забирается на выходе из обжиговой машины.***\n",
        "\n",
        "> Вы договорились с заказчиком, что оценкой модели будет являться **показатель MAE**, для оценки модели необходимо сгенерировать предсказания за период, указанный в файле Y_submit.csv (5808 предиктов).\n",
        "\n"
      ]
    },
    {
      "cell_type": "markdown",
      "metadata": {
        "id": "0k9tEDdxPMb8",
        "colab_type": "text"
      },
      "source": [
        "# Обработка данных."
      ]
    },
    {
      "cell_type": "code",
      "metadata": {
        "id": "sLCF_B6XJl91",
        "colab_type": "code",
        "colab": {}
      },
      "source": [
        "from tensorflow.keras.models import Sequential # НС прямого распространения\n",
        "from tensorflow.keras.layers import Dense, Activation, Dropout, BatchNormalization # Основные слои\n",
        "from tensorflow.keras.optimizers import Adam # Алгоритмы оптимизации, для настройки скорости обучения\n",
        "import numpy as np # Библиотека работы с массивами\n",
        "import matplotlib.pyplot as plt # Отрисовка изображений\n",
        "import pandas as pd # Библиотека pandas\n",
        "from google.colab import files, drive # Импорт файлов\n",
        "from sklearn.model_selection import train_test_split\n",
        "%matplotlib inline"
      ],
      "execution_count": null,
      "outputs": []
    },
    {
      "cell_type": "markdown",
      "metadata": {
        "id": "2n36bcQYW3zM",
        "colab_type": "text"
      },
      "source": [
        "Необходимо загрузить файлы в рабочую папку\n",
        "\n",
        "\n",
        "---\n",
        "https://drive.google.com/open?id=10S3E1LtOh6_dNkSu47SK0ryM2I0FGOsF\n",
        "\n",
        "https://drive.google.com/open?id=1KcBTFWng658s8Ku6jXPDaqssy6zb9DuT\n",
        "\n",
        "https://drive.google.com/open?id=1a3Sud-l57o05j77T_oOYrQpOO5cv57xh\n"
      ]
    },
    {
      "cell_type": "code",
      "metadata": {
        "id": "72ZHB-TbSRIY",
        "colab_type": "code",
        "colab": {
          "base_uri": "https://localhost:8080/",
          "height": 85
        },
        "outputId": "8001ac89-8e86-4876-a708-b28fb5de9b8e"
      },
      "source": [
        "drive.mount('/content/drive')\n",
        "%cd '/content/drive/My Drive/Colab Notebooks/Seversteel'\n",
        "!ls"
      ],
      "execution_count": null,
      "outputs": [
        {
          "output_type": "stream",
          "text": [
            "Drive already mounted at /content/drive; to attempt to forcibly remount, call drive.mount(\"/content/drive\", force_remount=True).\n",
            "/content/drive/My Drive/Colab Notebooks/Seversteel\n",
            "DS_test.docx\t    Test2.7z\tY_submit.csv\n",
            "statistic_2018.csv  X_data.csv\tY_train.csv\n"
          ],
          "name": "stdout"
        }
      ]
    },
    {
      "cell_type": "code",
      "metadata": {
        "id": "bknhL_SfTKAJ",
        "colab_type": "code",
        "colab": {}
      },
      "source": [
        "X_data = pd.read_csv('X_data.csv', sep=';', encoding='utf-8')"
      ],
      "execution_count": null,
      "outputs": []
    },
    {
      "cell_type": "code",
      "metadata": {
        "id": "4PtLbjb2Cx6-",
        "colab_type": "code",
        "colab": {}
      },
      "source": [
        "Y_train = pd.read_csv('Y_train.csv', sep=';', header=None, encoding='utf-8')\n",
        "Y_submit = pd.read_csv('Y_submit.csv', sep=';', header=None, encoding='utf-8')"
      ],
      "execution_count": null,
      "outputs": []
    },
    {
      "cell_type": "code",
      "metadata": {
        "id": "G-_fNhCaUZuL",
        "colab_type": "code",
        "colab": {
          "base_uri": "https://localhost:8080/",
          "height": 411
        },
        "outputId": "f29388a3-43de-447f-bda3-56be5eb0f972"
      },
      "source": [
        "#смотрим общий вид\n",
        "X_data.head()"
      ],
      "execution_count": null,
      "outputs": [
        {
          "output_type": "execute_result",
          "data": {
            "text/html": [
              "<div>\n",
              "<style scoped>\n",
              "    .dataframe tbody tr th:only-of-type {\n",
              "        vertical-align: middle;\n",
              "    }\n",
              "\n",
              "    .dataframe tbody tr th {\n",
              "        vertical-align: top;\n",
              "    }\n",
              "\n",
              "    .dataframe thead th {\n",
              "        text-align: right;\n",
              "    }\n",
              "</style>\n",
              "<table border=\"1\" class=\"dataframe\">\n",
              "  <thead>\n",
              "    <tr style=\"text-align: right;\">\n",
              "      <th></th>\n",
              "      <th>Unnamed: 0</th>\n",
              "      <th>T_data_1_1</th>\n",
              "      <th>T_data_1_2</th>\n",
              "      <th>T_data_1_3</th>\n",
              "      <th>T_data_2_1</th>\n",
              "      <th>T_data_2_2</th>\n",
              "      <th>T_data_2_3</th>\n",
              "      <th>T_data_3_1</th>\n",
              "      <th>T_data_3_2</th>\n",
              "      <th>T_data_3_3</th>\n",
              "      <th>T_data_4_1</th>\n",
              "      <th>T_data_4_2</th>\n",
              "      <th>T_data_4_3</th>\n",
              "      <th>T_data_5_1</th>\n",
              "      <th>T_data_5_2</th>\n",
              "      <th>T_data_5_3</th>\n",
              "      <th>H_data</th>\n",
              "      <th>AH_data</th>\n",
              "    </tr>\n",
              "  </thead>\n",
              "  <tbody>\n",
              "    <tr>\n",
              "      <th>0</th>\n",
              "      <td>2015-01-01 00:00:00</td>\n",
              "      <td>212</td>\n",
              "      <td>210</td>\n",
              "      <td>211</td>\n",
              "      <td>347</td>\n",
              "      <td>353</td>\n",
              "      <td>347</td>\n",
              "      <td>474</td>\n",
              "      <td>473</td>\n",
              "      <td>481</td>\n",
              "      <td>346</td>\n",
              "      <td>348</td>\n",
              "      <td>355</td>\n",
              "      <td>241</td>\n",
              "      <td>241</td>\n",
              "      <td>243</td>\n",
              "      <td>167.85</td>\n",
              "      <td>9.22</td>\n",
              "    </tr>\n",
              "    <tr>\n",
              "      <th>1</th>\n",
              "      <td>2015-01-01 00:01:00</td>\n",
              "      <td>212</td>\n",
              "      <td>211</td>\n",
              "      <td>211</td>\n",
              "      <td>346</td>\n",
              "      <td>352</td>\n",
              "      <td>346</td>\n",
              "      <td>475</td>\n",
              "      <td>473</td>\n",
              "      <td>481</td>\n",
              "      <td>349</td>\n",
              "      <td>348</td>\n",
              "      <td>355</td>\n",
              "      <td>241</td>\n",
              "      <td>241</td>\n",
              "      <td>243</td>\n",
              "      <td>162.51</td>\n",
              "      <td>9.22</td>\n",
              "    </tr>\n",
              "    <tr>\n",
              "      <th>2</th>\n",
              "      <td>2015-01-01 00:02:00</td>\n",
              "      <td>212</td>\n",
              "      <td>211</td>\n",
              "      <td>211</td>\n",
              "      <td>345</td>\n",
              "      <td>352</td>\n",
              "      <td>346</td>\n",
              "      <td>476</td>\n",
              "      <td>473</td>\n",
              "      <td>481</td>\n",
              "      <td>352</td>\n",
              "      <td>349</td>\n",
              "      <td>355</td>\n",
              "      <td>242</td>\n",
              "      <td>241</td>\n",
              "      <td>242</td>\n",
              "      <td>164.99</td>\n",
              "      <td>9.22</td>\n",
              "    </tr>\n",
              "    <tr>\n",
              "      <th>3</th>\n",
              "      <td>2015-01-01 00:03:00</td>\n",
              "      <td>213</td>\n",
              "      <td>211</td>\n",
              "      <td>211</td>\n",
              "      <td>344</td>\n",
              "      <td>351</td>\n",
              "      <td>346</td>\n",
              "      <td>477</td>\n",
              "      <td>473</td>\n",
              "      <td>481</td>\n",
              "      <td>355</td>\n",
              "      <td>349</td>\n",
              "      <td>355</td>\n",
              "      <td>242</td>\n",
              "      <td>241</td>\n",
              "      <td>242</td>\n",
              "      <td>167.34</td>\n",
              "      <td>9.22</td>\n",
              "    </tr>\n",
              "    <tr>\n",
              "      <th>4</th>\n",
              "      <td>2015-01-01 00:04:00</td>\n",
              "      <td>213</td>\n",
              "      <td>211</td>\n",
              "      <td>211</td>\n",
              "      <td>343</td>\n",
              "      <td>350</td>\n",
              "      <td>346</td>\n",
              "      <td>478</td>\n",
              "      <td>473</td>\n",
              "      <td>482</td>\n",
              "      <td>358</td>\n",
              "      <td>349</td>\n",
              "      <td>355</td>\n",
              "      <td>243</td>\n",
              "      <td>241</td>\n",
              "      <td>242</td>\n",
              "      <td>163.04</td>\n",
              "      <td>9.22</td>\n",
              "    </tr>\n",
              "  </tbody>\n",
              "</table>\n",
              "</div>"
            ],
            "text/plain": [
              "            Unnamed: 0  T_data_1_1  T_data_1_2  ...  T_data_5_3  H_data  AH_data\n",
              "0  2015-01-01 00:00:00         212         210  ...         243  167.85     9.22\n",
              "1  2015-01-01 00:01:00         212         211  ...         243  162.51     9.22\n",
              "2  2015-01-01 00:02:00         212         211  ...         242  164.99     9.22\n",
              "3  2015-01-01 00:03:00         213         211  ...         242  167.34     9.22\n",
              "4  2015-01-01 00:04:00         213         211  ...         242  163.04     9.22\n",
              "\n",
              "[5 rows x 18 columns]"
            ]
          },
          "metadata": {
            "tags": []
          },
          "execution_count": 27
        }
      ]
    },
    {
      "cell_type": "code",
      "metadata": {
        "id": "rWBUsMDrZErr",
        "colab_type": "code",
        "colab": {
          "base_uri": "https://localhost:8080/",
          "height": 411
        },
        "outputId": "97bc45f0-e821-45d0-f348-fac94aa73e67"
      },
      "source": [
        "X_data.tail()"
      ],
      "execution_count": null,
      "outputs": [
        {
          "output_type": "execute_result",
          "data": {
            "text/html": [
              "<div>\n",
              "<style scoped>\n",
              "    .dataframe tbody tr th:only-of-type {\n",
              "        vertical-align: middle;\n",
              "    }\n",
              "\n",
              "    .dataframe tbody tr th {\n",
              "        vertical-align: top;\n",
              "    }\n",
              "\n",
              "    .dataframe thead th {\n",
              "        text-align: right;\n",
              "    }\n",
              "</style>\n",
              "<table border=\"1\" class=\"dataframe\">\n",
              "  <thead>\n",
              "    <tr style=\"text-align: right;\">\n",
              "      <th></th>\n",
              "      <th>Unnamed: 0</th>\n",
              "      <th>T_data_1_1</th>\n",
              "      <th>T_data_1_2</th>\n",
              "      <th>T_data_1_3</th>\n",
              "      <th>T_data_2_1</th>\n",
              "      <th>T_data_2_2</th>\n",
              "      <th>T_data_2_3</th>\n",
              "      <th>T_data_3_1</th>\n",
              "      <th>T_data_3_2</th>\n",
              "      <th>T_data_3_3</th>\n",
              "      <th>T_data_4_1</th>\n",
              "      <th>T_data_4_2</th>\n",
              "      <th>T_data_4_3</th>\n",
              "      <th>T_data_5_1</th>\n",
              "      <th>T_data_5_2</th>\n",
              "      <th>T_data_5_3</th>\n",
              "      <th>H_data</th>\n",
              "      <th>AH_data</th>\n",
              "    </tr>\n",
              "  </thead>\n",
              "  <tbody>\n",
              "    <tr>\n",
              "      <th>2103836</th>\n",
              "      <td>2018-12-31 23:56:00</td>\n",
              "      <td>271</td>\n",
              "      <td>261</td>\n",
              "      <td>265</td>\n",
              "      <td>353</td>\n",
              "      <td>359</td>\n",
              "      <td>353</td>\n",
              "      <td>481</td>\n",
              "      <td>449</td>\n",
              "      <td>491</td>\n",
              "      <td>325</td>\n",
              "      <td>328</td>\n",
              "      <td>328</td>\n",
              "      <td>277</td>\n",
              "      <td>276</td>\n",
              "      <td>280</td>\n",
              "      <td>157.20</td>\n",
              "      <td>8.44</td>\n",
              "    </tr>\n",
              "    <tr>\n",
              "      <th>2103837</th>\n",
              "      <td>2018-12-31 23:57:00</td>\n",
              "      <td>271</td>\n",
              "      <td>261</td>\n",
              "      <td>265</td>\n",
              "      <td>353</td>\n",
              "      <td>359</td>\n",
              "      <td>353</td>\n",
              "      <td>481</td>\n",
              "      <td>449</td>\n",
              "      <td>491</td>\n",
              "      <td>325</td>\n",
              "      <td>328</td>\n",
              "      <td>328</td>\n",
              "      <td>277</td>\n",
              "      <td>276</td>\n",
              "      <td>280</td>\n",
              "      <td>160.40</td>\n",
              "      <td>8.44</td>\n",
              "    </tr>\n",
              "    <tr>\n",
              "      <th>2103838</th>\n",
              "      <td>2018-12-31 23:58:00</td>\n",
              "      <td>271</td>\n",
              "      <td>261</td>\n",
              "      <td>265</td>\n",
              "      <td>353</td>\n",
              "      <td>359</td>\n",
              "      <td>353</td>\n",
              "      <td>481</td>\n",
              "      <td>449</td>\n",
              "      <td>491</td>\n",
              "      <td>325</td>\n",
              "      <td>328</td>\n",
              "      <td>328</td>\n",
              "      <td>277</td>\n",
              "      <td>276</td>\n",
              "      <td>280</td>\n",
              "      <td>160.14</td>\n",
              "      <td>8.44</td>\n",
              "    </tr>\n",
              "    <tr>\n",
              "      <th>2103839</th>\n",
              "      <td>2018-12-31 23:59:00</td>\n",
              "      <td>271</td>\n",
              "      <td>261</td>\n",
              "      <td>265</td>\n",
              "      <td>353</td>\n",
              "      <td>359</td>\n",
              "      <td>353</td>\n",
              "      <td>481</td>\n",
              "      <td>449</td>\n",
              "      <td>491</td>\n",
              "      <td>325</td>\n",
              "      <td>328</td>\n",
              "      <td>328</td>\n",
              "      <td>277</td>\n",
              "      <td>276</td>\n",
              "      <td>280</td>\n",
              "      <td>162.96</td>\n",
              "      <td>8.44</td>\n",
              "    </tr>\n",
              "    <tr>\n",
              "      <th>2103840</th>\n",
              "      <td>2019-01-01 00:00:00</td>\n",
              "      <td>271</td>\n",
              "      <td>261</td>\n",
              "      <td>265</td>\n",
              "      <td>353</td>\n",
              "      <td>359</td>\n",
              "      <td>353</td>\n",
              "      <td>481</td>\n",
              "      <td>449</td>\n",
              "      <td>491</td>\n",
              "      <td>325</td>\n",
              "      <td>328</td>\n",
              "      <td>328</td>\n",
              "      <td>277</td>\n",
              "      <td>276</td>\n",
              "      <td>280</td>\n",
              "      <td>159.73</td>\n",
              "      <td>7.35</td>\n",
              "    </tr>\n",
              "  </tbody>\n",
              "</table>\n",
              "</div>"
            ],
            "text/plain": [
              "                  Unnamed: 0  T_data_1_1  ...  H_data  AH_data\n",
              "2103836  2018-12-31 23:56:00         271  ...  157.20     8.44\n",
              "2103837  2018-12-31 23:57:00         271  ...  160.40     8.44\n",
              "2103838  2018-12-31 23:58:00         271  ...  160.14     8.44\n",
              "2103839  2018-12-31 23:59:00         271  ...  162.96     8.44\n",
              "2103840  2019-01-01 00:00:00         271  ...  159.73     7.35\n",
              "\n",
              "[5 rows x 18 columns]"
            ]
          },
          "metadata": {
            "tags": []
          },
          "execution_count": 28
        }
      ]
    },
    {
      "cell_type": "code",
      "metadata": {
        "id": "cBYFayTzX94q",
        "colab_type": "code",
        "colab": {
          "base_uri": "https://localhost:8080/",
          "height": 34
        },
        "outputId": "601bde95-1347-47f0-ea3d-564db2600e59"
      },
      "source": [
        "X_data.shape"
      ],
      "execution_count": null,
      "outputs": [
        {
          "output_type": "execute_result",
          "data": {
            "text/plain": [
              "(2103841, 18)"
            ]
          },
          "metadata": {
            "tags": []
          },
          "execution_count": 29
        }
      ]
    },
    {
      "cell_type": "code",
      "metadata": {
        "id": "anVqhvKBVEhQ",
        "colab_type": "code",
        "colab": {
          "base_uri": "https://localhost:8080/",
          "height": 204
        },
        "outputId": "5106cec4-00bf-4798-bd36-cf774eab1c72"
      },
      "source": [
        "Y_train.head()"
      ],
      "execution_count": null,
      "outputs": [
        {
          "output_type": "execute_result",
          "data": {
            "text/html": [
              "<div>\n",
              "<style scoped>\n",
              "    .dataframe tbody tr th:only-of-type {\n",
              "        vertical-align: middle;\n",
              "    }\n",
              "\n",
              "    .dataframe tbody tr th {\n",
              "        vertical-align: top;\n",
              "    }\n",
              "\n",
              "    .dataframe thead th {\n",
              "        text-align: right;\n",
              "    }\n",
              "</style>\n",
              "<table border=\"1\" class=\"dataframe\">\n",
              "  <thead>\n",
              "    <tr style=\"text-align: right;\">\n",
              "      <th></th>\n",
              "      <th>0</th>\n",
              "      <th>1</th>\n",
              "    </tr>\n",
              "  </thead>\n",
              "  <tbody>\n",
              "    <tr>\n",
              "      <th>0</th>\n",
              "      <td>2015-01-04 00:05:00</td>\n",
              "      <td>392</td>\n",
              "    </tr>\n",
              "    <tr>\n",
              "      <th>1</th>\n",
              "      <td>2015-01-04 01:05:00</td>\n",
              "      <td>384</td>\n",
              "    </tr>\n",
              "    <tr>\n",
              "      <th>2</th>\n",
              "      <td>2015-01-04 02:05:00</td>\n",
              "      <td>393</td>\n",
              "    </tr>\n",
              "    <tr>\n",
              "      <th>3</th>\n",
              "      <td>2015-01-04 03:05:00</td>\n",
              "      <td>399</td>\n",
              "    </tr>\n",
              "    <tr>\n",
              "      <th>4</th>\n",
              "      <td>2015-01-04 04:05:00</td>\n",
              "      <td>400</td>\n",
              "    </tr>\n",
              "  </tbody>\n",
              "</table>\n",
              "</div>"
            ],
            "text/plain": [
              "                     0    1\n",
              "0  2015-01-04 00:05:00  392\n",
              "1  2015-01-04 01:05:00  384\n",
              "2  2015-01-04 02:05:00  393\n",
              "3  2015-01-04 03:05:00  399\n",
              "4  2015-01-04 04:05:00  400"
            ]
          },
          "metadata": {
            "tags": []
          },
          "execution_count": 133
        }
      ]
    },
    {
      "cell_type": "code",
      "metadata": {
        "id": "0oM7LxSTY_i-",
        "colab_type": "code",
        "colab": {
          "base_uri": "https://localhost:8080/",
          "height": 204
        },
        "outputId": "9f3a9654-64c2-4e3b-8ff8-4b44e1a184f3"
      },
      "source": [
        "Y_train.tail()"
      ],
      "execution_count": null,
      "outputs": [
        {
          "output_type": "execute_result",
          "data": {
            "text/html": [
              "<div>\n",
              "<style scoped>\n",
              "    .dataframe tbody tr th:only-of-type {\n",
              "        vertical-align: middle;\n",
              "    }\n",
              "\n",
              "    .dataframe tbody tr th {\n",
              "        vertical-align: top;\n",
              "    }\n",
              "\n",
              "    .dataframe thead th {\n",
              "        text-align: right;\n",
              "    }\n",
              "</style>\n",
              "<table border=\"1\" class=\"dataframe\">\n",
              "  <thead>\n",
              "    <tr style=\"text-align: right;\">\n",
              "      <th></th>\n",
              "      <th>0</th>\n",
              "      <th>1</th>\n",
              "    </tr>\n",
              "  </thead>\n",
              "  <tbody>\n",
              "    <tr>\n",
              "      <th>29179</th>\n",
              "      <td>2018-05-03 19:05:00</td>\n",
              "      <td>438</td>\n",
              "    </tr>\n",
              "    <tr>\n",
              "      <th>29180</th>\n",
              "      <td>2018-05-03 20:05:00</td>\n",
              "      <td>452</td>\n",
              "    </tr>\n",
              "    <tr>\n",
              "      <th>29181</th>\n",
              "      <td>2018-05-03 21:05:00</td>\n",
              "      <td>455</td>\n",
              "    </tr>\n",
              "    <tr>\n",
              "      <th>29182</th>\n",
              "      <td>2018-05-03 22:05:00</td>\n",
              "      <td>455</td>\n",
              "    </tr>\n",
              "    <tr>\n",
              "      <th>29183</th>\n",
              "      <td>2018-05-03 23:05:00</td>\n",
              "      <td>454</td>\n",
              "    </tr>\n",
              "  </tbody>\n",
              "</table>\n",
              "</div>"
            ],
            "text/plain": [
              "                         0    1\n",
              "29179  2018-05-03 19:05:00  438\n",
              "29180  2018-05-03 20:05:00  452\n",
              "29181  2018-05-03 21:05:00  455\n",
              "29182  2018-05-03 22:05:00  455\n",
              "29183  2018-05-03 23:05:00  454"
            ]
          },
          "metadata": {
            "tags": []
          },
          "execution_count": 134
        }
      ]
    },
    {
      "cell_type": "code",
      "metadata": {
        "id": "hfCa-PgmYCup",
        "colab_type": "code",
        "colab": {
          "base_uri": "https://localhost:8080/",
          "height": 34
        },
        "outputId": "d83b8851-a327-4395-cd07-3f265fe66a00"
      },
      "source": [
        "Y_train.shape"
      ],
      "execution_count": null,
      "outputs": [
        {
          "output_type": "execute_result",
          "data": {
            "text/plain": [
              "(29184, 2)"
            ]
          },
          "metadata": {
            "tags": []
          },
          "execution_count": 135
        }
      ]
    },
    {
      "cell_type": "code",
      "metadata": {
        "id": "znLNh8H3VrHn",
        "colab_type": "code",
        "colab": {
          "base_uri": "https://localhost:8080/",
          "height": 204
        },
        "outputId": "57c9f99d-2c55-44bb-dd82-34fa9fc82b8c"
      },
      "source": [
        "Y_submit.head()"
      ],
      "execution_count": null,
      "outputs": [
        {
          "output_type": "execute_result",
          "data": {
            "text/html": [
              "<div>\n",
              "<style scoped>\n",
              "    .dataframe tbody tr th:only-of-type {\n",
              "        vertical-align: middle;\n",
              "    }\n",
              "\n",
              "    .dataframe tbody tr th {\n",
              "        vertical-align: top;\n",
              "    }\n",
              "\n",
              "    .dataframe thead th {\n",
              "        text-align: right;\n",
              "    }\n",
              "</style>\n",
              "<table border=\"1\" class=\"dataframe\">\n",
              "  <thead>\n",
              "    <tr style=\"text-align: right;\">\n",
              "      <th></th>\n",
              "      <th>0</th>\n",
              "      <th>1</th>\n",
              "    </tr>\n",
              "  </thead>\n",
              "  <tbody>\n",
              "    <tr>\n",
              "      <th>0</th>\n",
              "      <td>2018-05-04 00:05:00</td>\n",
              "      <td>420</td>\n",
              "    </tr>\n",
              "    <tr>\n",
              "      <th>1</th>\n",
              "      <td>2018-05-04 01:05:00</td>\n",
              "      <td>420</td>\n",
              "    </tr>\n",
              "    <tr>\n",
              "      <th>2</th>\n",
              "      <td>2018-05-04 02:05:00</td>\n",
              "      <td>420</td>\n",
              "    </tr>\n",
              "    <tr>\n",
              "      <th>3</th>\n",
              "      <td>2018-05-04 03:05:00</td>\n",
              "      <td>420</td>\n",
              "    </tr>\n",
              "    <tr>\n",
              "      <th>4</th>\n",
              "      <td>2018-05-04 04:05:00</td>\n",
              "      <td>420</td>\n",
              "    </tr>\n",
              "  </tbody>\n",
              "</table>\n",
              "</div>"
            ],
            "text/plain": [
              "                     0    1\n",
              "0  2018-05-04 00:05:00  420\n",
              "1  2018-05-04 01:05:00  420\n",
              "2  2018-05-04 02:05:00  420\n",
              "3  2018-05-04 03:05:00  420\n",
              "4  2018-05-04 04:05:00  420"
            ]
          },
          "metadata": {
            "tags": []
          },
          "execution_count": 432
        }
      ]
    },
    {
      "cell_type": "code",
      "metadata": {
        "id": "UqV17lqyZMhs",
        "colab_type": "code",
        "colab": {
          "base_uri": "https://localhost:8080/",
          "height": 204
        },
        "outputId": "64d19e04-a845-4b9f-ab96-59e7dbd64a2b"
      },
      "source": [
        "Y_submit.tail()"
      ],
      "execution_count": null,
      "outputs": [
        {
          "output_type": "execute_result",
          "data": {
            "text/html": [
              "<div>\n",
              "<style scoped>\n",
              "    .dataframe tbody tr th:only-of-type {\n",
              "        vertical-align: middle;\n",
              "    }\n",
              "\n",
              "    .dataframe tbody tr th {\n",
              "        vertical-align: top;\n",
              "    }\n",
              "\n",
              "    .dataframe thead th {\n",
              "        text-align: right;\n",
              "    }\n",
              "</style>\n",
              "<table border=\"1\" class=\"dataframe\">\n",
              "  <thead>\n",
              "    <tr style=\"text-align: right;\">\n",
              "      <th></th>\n",
              "      <th>0</th>\n",
              "      <th>1</th>\n",
              "    </tr>\n",
              "  </thead>\n",
              "  <tbody>\n",
              "    <tr>\n",
              "      <th>5803</th>\n",
              "      <td>2018-12-31 19:05:00</td>\n",
              "      <td>420</td>\n",
              "    </tr>\n",
              "    <tr>\n",
              "      <th>5804</th>\n",
              "      <td>2018-12-31 20:05:00</td>\n",
              "      <td>420</td>\n",
              "    </tr>\n",
              "    <tr>\n",
              "      <th>5805</th>\n",
              "      <td>2018-12-31 21:05:00</td>\n",
              "      <td>420</td>\n",
              "    </tr>\n",
              "    <tr>\n",
              "      <th>5806</th>\n",
              "      <td>2018-12-31 22:05:00</td>\n",
              "      <td>420</td>\n",
              "    </tr>\n",
              "    <tr>\n",
              "      <th>5807</th>\n",
              "      <td>2018-12-31 23:05:00</td>\n",
              "      <td>420</td>\n",
              "    </tr>\n",
              "  </tbody>\n",
              "</table>\n",
              "</div>"
            ],
            "text/plain": [
              "                        0    1\n",
              "5803  2018-12-31 19:05:00  420\n",
              "5804  2018-12-31 20:05:00  420\n",
              "5805  2018-12-31 21:05:00  420\n",
              "5806  2018-12-31 22:05:00  420\n",
              "5807  2018-12-31 23:05:00  420"
            ]
          },
          "metadata": {
            "tags": []
          },
          "execution_count": 137
        }
      ]
    },
    {
      "cell_type": "code",
      "metadata": {
        "id": "NZKx2tpZZste",
        "colab_type": "code",
        "colab": {
          "base_uri": "https://localhost:8080/",
          "height": 34
        },
        "outputId": "826e2911-9064-4d83-fea8-2e7245313284"
      },
      "source": [
        "Y_submit.shape"
      ],
      "execution_count": null,
      "outputs": [
        {
          "output_type": "execute_result",
          "data": {
            "text/plain": [
              "(5808, 2)"
            ]
          },
          "metadata": {
            "tags": []
          },
          "execution_count": 138
        }
      ]
    },
    {
      "cell_type": "code",
      "metadata": {
        "id": "u_e4UWU4VvjB",
        "colab_type": "code",
        "colab": {
          "base_uri": "https://localhost:8080/",
          "height": 442
        },
        "outputId": "88f10c53-c272-488d-8fc5-ae3594925da5"
      },
      "source": [
        "#смотрим пропуски и типы данных\n",
        "X_data.info()"
      ],
      "execution_count": null,
      "outputs": [
        {
          "output_type": "stream",
          "text": [
            "<class 'pandas.core.frame.DataFrame'>\n",
            "RangeIndex: 2103841 entries, 0 to 2103840\n",
            "Data columns (total 18 columns):\n",
            " #   Column      Dtype  \n",
            "---  ------      -----  \n",
            " 0   Unnamed: 0  object \n",
            " 1   T_data_1_1  int64  \n",
            " 2   T_data_1_2  int64  \n",
            " 3   T_data_1_3  int64  \n",
            " 4   T_data_2_1  int64  \n",
            " 5   T_data_2_2  int64  \n",
            " 6   T_data_2_3  int64  \n",
            " 7   T_data_3_1  int64  \n",
            " 8   T_data_3_2  int64  \n",
            " 9   T_data_3_3  int64  \n",
            " 10  T_data_4_1  int64  \n",
            " 11  T_data_4_2  int64  \n",
            " 12  T_data_4_3  int64  \n",
            " 13  T_data_5_1  int64  \n",
            " 14  T_data_5_2  int64  \n",
            " 15  T_data_5_3  int64  \n",
            " 16  H_data      float64\n",
            " 17  AH_data     float64\n",
            "dtypes: float64(2), int64(15), object(1)\n",
            "memory usage: 288.9+ MB\n"
          ],
          "name": "stdout"
        }
      ]
    },
    {
      "cell_type": "code",
      "metadata": {
        "id": "091JdnFWXPgi",
        "colab_type": "code",
        "colab": {
          "base_uri": "https://localhost:8080/",
          "height": 297
        },
        "outputId": "7c0c8d78-0b5a-4bf2-dd94-272dfa26624b"
      },
      "source": [
        "X_data.describe().round(0)"
      ],
      "execution_count": null,
      "outputs": [
        {
          "output_type": "execute_result",
          "data": {
            "text/html": [
              "<div>\n",
              "<style scoped>\n",
              "    .dataframe tbody tr th:only-of-type {\n",
              "        vertical-align: middle;\n",
              "    }\n",
              "\n",
              "    .dataframe tbody tr th {\n",
              "        vertical-align: top;\n",
              "    }\n",
              "\n",
              "    .dataframe thead th {\n",
              "        text-align: right;\n",
              "    }\n",
              "</style>\n",
              "<table border=\"1\" class=\"dataframe\">\n",
              "  <thead>\n",
              "    <tr style=\"text-align: right;\">\n",
              "      <th></th>\n",
              "      <th>T_data_1_1</th>\n",
              "      <th>T_data_1_2</th>\n",
              "      <th>T_data_1_3</th>\n",
              "      <th>T_data_2_1</th>\n",
              "      <th>T_data_2_2</th>\n",
              "      <th>T_data_2_3</th>\n",
              "      <th>T_data_3_1</th>\n",
              "      <th>T_data_3_2</th>\n",
              "      <th>T_data_3_3</th>\n",
              "      <th>T_data_4_1</th>\n",
              "      <th>T_data_4_2</th>\n",
              "      <th>T_data_4_3</th>\n",
              "      <th>T_data_5_1</th>\n",
              "      <th>T_data_5_2</th>\n",
              "      <th>T_data_5_3</th>\n",
              "      <th>H_data</th>\n",
              "      <th>AH_data</th>\n",
              "    </tr>\n",
              "  </thead>\n",
              "  <tbody>\n",
              "    <tr>\n",
              "      <th>count</th>\n",
              "      <td>2103841.0</td>\n",
              "      <td>2103841.0</td>\n",
              "      <td>2103841.0</td>\n",
              "      <td>2103841.0</td>\n",
              "      <td>2103841.0</td>\n",
              "      <td>2103841.0</td>\n",
              "      <td>2103841.0</td>\n",
              "      <td>2103841.0</td>\n",
              "      <td>2103841.0</td>\n",
              "      <td>2103841.0</td>\n",
              "      <td>2103841.0</td>\n",
              "      <td>2103841.0</td>\n",
              "      <td>2103841.0</td>\n",
              "      <td>2103841.0</td>\n",
              "      <td>2103841.0</td>\n",
              "      <td>2103841.0</td>\n",
              "      <td>2103841.0</td>\n",
              "    </tr>\n",
              "    <tr>\n",
              "      <th>mean</th>\n",
              "      <td>250.0</td>\n",
              "      <td>250.0</td>\n",
              "      <td>250.0</td>\n",
              "      <td>350.0</td>\n",
              "      <td>350.0</td>\n",
              "      <td>350.0</td>\n",
              "      <td>501.0</td>\n",
              "      <td>501.0</td>\n",
              "      <td>501.0</td>\n",
              "      <td>349.0</td>\n",
              "      <td>349.0</td>\n",
              "      <td>350.0</td>\n",
              "      <td>250.0</td>\n",
              "      <td>250.0</td>\n",
              "      <td>250.0</td>\n",
              "      <td>175.0</td>\n",
              "      <td>7.0</td>\n",
              "    </tr>\n",
              "    <tr>\n",
              "      <th>std</th>\n",
              "      <td>32.0</td>\n",
              "      <td>31.0</td>\n",
              "      <td>31.0</td>\n",
              "      <td>42.0</td>\n",
              "      <td>41.0</td>\n",
              "      <td>38.0</td>\n",
              "      <td>63.0</td>\n",
              "      <td>63.0</td>\n",
              "      <td>62.0</td>\n",
              "      <td>39.0</td>\n",
              "      <td>39.0</td>\n",
              "      <td>40.0</td>\n",
              "      <td>31.0</td>\n",
              "      <td>31.0</td>\n",
              "      <td>31.0</td>\n",
              "      <td>14.0</td>\n",
              "      <td>1.0</td>\n",
              "    </tr>\n",
              "    <tr>\n",
              "      <th>min</th>\n",
              "      <td>-198.0</td>\n",
              "      <td>-122.0</td>\n",
              "      <td>-107.0</td>\n",
              "      <td>-703.0</td>\n",
              "      <td>-958.0</td>\n",
              "      <td>-191.0</td>\n",
              "      <td>-775.0</td>\n",
              "      <td>-759.0</td>\n",
              "      <td>-613.0</td>\n",
              "      <td>-514.0</td>\n",
              "      <td>-471.0</td>\n",
              "      <td>-609.0</td>\n",
              "      <td>-89.0</td>\n",
              "      <td>-125.0</td>\n",
              "      <td>-163.0</td>\n",
              "      <td>141.0</td>\n",
              "      <td>3.0</td>\n",
              "    </tr>\n",
              "    <tr>\n",
              "      <th>25%</th>\n",
              "      <td>229.0</td>\n",
              "      <td>229.0</td>\n",
              "      <td>229.0</td>\n",
              "      <td>328.0</td>\n",
              "      <td>328.0</td>\n",
              "      <td>328.0</td>\n",
              "      <td>464.0</td>\n",
              "      <td>464.0</td>\n",
              "      <td>464.0</td>\n",
              "      <td>327.0</td>\n",
              "      <td>328.0</td>\n",
              "      <td>328.0</td>\n",
              "      <td>229.0</td>\n",
              "      <td>229.0</td>\n",
              "      <td>229.0</td>\n",
              "      <td>162.0</td>\n",
              "      <td>7.0</td>\n",
              "    </tr>\n",
              "    <tr>\n",
              "      <th>50%</th>\n",
              "      <td>250.0</td>\n",
              "      <td>250.0</td>\n",
              "      <td>250.0</td>\n",
              "      <td>350.0</td>\n",
              "      <td>350.0</td>\n",
              "      <td>350.0</td>\n",
              "      <td>502.0</td>\n",
              "      <td>502.0</td>\n",
              "      <td>502.0</td>\n",
              "      <td>349.0</td>\n",
              "      <td>350.0</td>\n",
              "      <td>350.0</td>\n",
              "      <td>249.0</td>\n",
              "      <td>250.0</td>\n",
              "      <td>250.0</td>\n",
              "      <td>174.0</td>\n",
              "      <td>8.0</td>\n",
              "    </tr>\n",
              "    <tr>\n",
              "      <th>75%</th>\n",
              "      <td>272.0</td>\n",
              "      <td>272.0</td>\n",
              "      <td>272.0</td>\n",
              "      <td>372.0</td>\n",
              "      <td>372.0</td>\n",
              "      <td>372.0</td>\n",
              "      <td>538.0</td>\n",
              "      <td>538.0</td>\n",
              "      <td>539.0</td>\n",
              "      <td>372.0</td>\n",
              "      <td>372.0</td>\n",
              "      <td>372.0</td>\n",
              "      <td>270.0</td>\n",
              "      <td>271.0</td>\n",
              "      <td>271.0</td>\n",
              "      <td>187.0</td>\n",
              "      <td>8.0</td>\n",
              "    </tr>\n",
              "    <tr>\n",
              "      <th>max</th>\n",
              "      <td>724.0</td>\n",
              "      <td>762.0</td>\n",
              "      <td>665.0</td>\n",
              "      <td>1302.0</td>\n",
              "      <td>1179.0</td>\n",
              "      <td>889.0</td>\n",
              "      <td>1587.0</td>\n",
              "      <td>2505.0</td>\n",
              "      <td>1319.0</td>\n",
              "      <td>1177.0</td>\n",
              "      <td>1244.0</td>\n",
              "      <td>944.0</td>\n",
              "      <td>905.0</td>\n",
              "      <td>738.0</td>\n",
              "      <td>624.0</td>\n",
              "      <td>208.0</td>\n",
              "      <td>12.0</td>\n",
              "    </tr>\n",
              "  </tbody>\n",
              "</table>\n",
              "</div>"
            ],
            "text/plain": [
              "       T_data_1_1  T_data_1_2  T_data_1_3  ...  T_data_5_3     H_data    AH_data\n",
              "count   2103841.0   2103841.0   2103841.0  ...   2103841.0  2103841.0  2103841.0\n",
              "mean        250.0       250.0       250.0  ...       250.0      175.0        7.0\n",
              "std          32.0        31.0        31.0  ...        31.0       14.0        1.0\n",
              "min        -198.0      -122.0      -107.0  ...      -163.0      141.0        3.0\n",
              "25%         229.0       229.0       229.0  ...       229.0      162.0        7.0\n",
              "50%         250.0       250.0       250.0  ...       250.0      174.0        8.0\n",
              "75%         272.0       272.0       272.0  ...       271.0      187.0        8.0\n",
              "max         724.0       762.0       665.0  ...       624.0      208.0       12.0\n",
              "\n",
              "[8 rows x 17 columns]"
            ]
          },
          "metadata": {
            "tags": []
          },
          "execution_count": 36
        }
      ]
    },
    {
      "cell_type": "code",
      "metadata": {
        "id": "5FxRmQQ-2H5G",
        "colab_type": "code",
        "colab": {
          "base_uri": "https://localhost:8080/",
          "height": 34
        },
        "outputId": "0f1529e1-d396-4e44-91de-930af6c5d401"
      },
      "source": [
        "# разобьём столбцы по камерам \n",
        "T_data_group=[]\n",
        "for i in range(1,14,3):\n",
        "  T_data_group.append(X_data.columns[i:i+3])\n",
        "len(T_data_group)"
      ],
      "execution_count": null,
      "outputs": [
        {
          "output_type": "execute_result",
          "data": {
            "text/plain": [
              "5"
            ]
          },
          "metadata": {
            "tags": []
          },
          "execution_count": 179
        }
      ]
    },
    {
      "cell_type": "code",
      "metadata": {
        "id": "-wN5Y_XwjKp9",
        "colab_type": "code",
        "colab": {}
      },
      "source": [
        "# отрицательные значения температуры в печи - явный брак датчика (либо его остутствие или повреждение кабеля)\n",
        "# заменим их на средние показания соседних датчиков из одной камеры\n",
        "for i in range(len(T_data_group)):\n",
        "  for j in range(len(T_data_group[0])):\n",
        "    if j == 0:\n",
        "      a = 1\n",
        "      b = 2\n",
        "      X_data.loc[X_data[T_data_group[i][j]] <= 0, T_data_group[i][j]] = (X_data.loc[X_data[T_data_group[i][j]] <= 0, T_data_group[i][a]] + X_data.loc[X_data[T_data_group[i][j]] <= 0, T_data_group[i][b]])//2\n",
        "    elif j == 1:\n",
        "      a = 0\n",
        "      b = 2\n",
        "      X_data.loc[X_data[T_data_group[i][j]] <= 0, T_data_group[i][j]] = (X_data.loc[X_data[T_data_group[i][j]] <= 0, T_data_group[i][a]] + X_data.loc[X_data[T_data_group[i][j]] <= 0, T_data_group[i][b]])//2\n",
        "    elif j == 2:\n",
        "      a = 0\n",
        "      b = 1\n",
        "      X_data.loc[X_data[T_data_group[i][j]] <= 0, T_data_group[i][j]] = (X_data.loc[X_data[T_data_group[i][j]] <= 0, T_data_group[i][a]] + X_data.loc[X_data[T_data_group[i][j]] <= 0, T_data_group[i][b]])//2"
      ],
      "execution_count": null,
      "outputs": []
    },
    {
      "cell_type": "code",
      "metadata": {
        "id": "ymHcyTJk7W2o",
        "colab_type": "code",
        "colab": {
          "base_uri": "https://localhost:8080/",
          "height": 297
        },
        "outputId": "ece9b38e-d552-4228-98bb-dea8568c1ec0"
      },
      "source": [
        "X_data.describe().round(0)"
      ],
      "execution_count": null,
      "outputs": [
        {
          "output_type": "execute_result",
          "data": {
            "text/html": [
              "<div>\n",
              "<style scoped>\n",
              "    .dataframe tbody tr th:only-of-type {\n",
              "        vertical-align: middle;\n",
              "    }\n",
              "\n",
              "    .dataframe tbody tr th {\n",
              "        vertical-align: top;\n",
              "    }\n",
              "\n",
              "    .dataframe thead th {\n",
              "        text-align: right;\n",
              "    }\n",
              "</style>\n",
              "<table border=\"1\" class=\"dataframe\">\n",
              "  <thead>\n",
              "    <tr style=\"text-align: right;\">\n",
              "      <th></th>\n",
              "      <th>T_data_1_1</th>\n",
              "      <th>T_data_1_2</th>\n",
              "      <th>T_data_1_3</th>\n",
              "      <th>T_data_2_1</th>\n",
              "      <th>T_data_2_2</th>\n",
              "      <th>T_data_2_3</th>\n",
              "      <th>T_data_3_1</th>\n",
              "      <th>T_data_3_2</th>\n",
              "      <th>T_data_3_3</th>\n",
              "      <th>T_data_4_1</th>\n",
              "      <th>T_data_4_2</th>\n",
              "      <th>T_data_4_3</th>\n",
              "      <th>T_data_5_1</th>\n",
              "      <th>T_data_5_2</th>\n",
              "      <th>T_data_5_3</th>\n",
              "      <th>H_data</th>\n",
              "      <th>AH_data</th>\n",
              "    </tr>\n",
              "  </thead>\n",
              "  <tbody>\n",
              "    <tr>\n",
              "      <th>count</th>\n",
              "      <td>2103841.0</td>\n",
              "      <td>2103841.0</td>\n",
              "      <td>2103841.0</td>\n",
              "      <td>2103841.0</td>\n",
              "      <td>2103841.0</td>\n",
              "      <td>2103841.0</td>\n",
              "      <td>2103841.0</td>\n",
              "      <td>2103841.0</td>\n",
              "      <td>2103841.0</td>\n",
              "      <td>2103841.0</td>\n",
              "      <td>2103841.0</td>\n",
              "      <td>2103841.0</td>\n",
              "      <td>2103841.0</td>\n",
              "      <td>2103841.0</td>\n",
              "      <td>2103841.0</td>\n",
              "      <td>2103841.0</td>\n",
              "      <td>2103841.0</td>\n",
              "    </tr>\n",
              "    <tr>\n",
              "      <th>mean</th>\n",
              "      <td>250.0</td>\n",
              "      <td>250.0</td>\n",
              "      <td>250.0</td>\n",
              "      <td>350.0</td>\n",
              "      <td>350.0</td>\n",
              "      <td>350.0</td>\n",
              "      <td>502.0</td>\n",
              "      <td>501.0</td>\n",
              "      <td>502.0</td>\n",
              "      <td>350.0</td>\n",
              "      <td>350.0</td>\n",
              "      <td>350.0</td>\n",
              "      <td>250.0</td>\n",
              "      <td>250.0</td>\n",
              "      <td>250.0</td>\n",
              "      <td>175.0</td>\n",
              "      <td>7.0</td>\n",
              "    </tr>\n",
              "    <tr>\n",
              "      <th>std</th>\n",
              "      <td>31.0</td>\n",
              "      <td>30.0</td>\n",
              "      <td>30.0</td>\n",
              "      <td>39.0</td>\n",
              "      <td>37.0</td>\n",
              "      <td>37.0</td>\n",
              "      <td>61.0</td>\n",
              "      <td>61.0</td>\n",
              "      <td>60.0</td>\n",
              "      <td>38.0</td>\n",
              "      <td>36.0</td>\n",
              "      <td>37.0</td>\n",
              "      <td>31.0</td>\n",
              "      <td>30.0</td>\n",
              "      <td>30.0</td>\n",
              "      <td>14.0</td>\n",
              "      <td>1.0</td>\n",
              "    </tr>\n",
              "    <tr>\n",
              "      <th>min</th>\n",
              "      <td>1.0</td>\n",
              "      <td>1.0</td>\n",
              "      <td>1.0</td>\n",
              "      <td>1.0</td>\n",
              "      <td>1.0</td>\n",
              "      <td>1.0</td>\n",
              "      <td>1.0</td>\n",
              "      <td>1.0</td>\n",
              "      <td>1.0</td>\n",
              "      <td>1.0</td>\n",
              "      <td>1.0</td>\n",
              "      <td>1.0</td>\n",
              "      <td>1.0</td>\n",
              "      <td>1.0</td>\n",
              "      <td>1.0</td>\n",
              "      <td>141.0</td>\n",
              "      <td>3.0</td>\n",
              "    </tr>\n",
              "    <tr>\n",
              "      <th>25%</th>\n",
              "      <td>229.0</td>\n",
              "      <td>229.0</td>\n",
              "      <td>229.0</td>\n",
              "      <td>328.0</td>\n",
              "      <td>328.0</td>\n",
              "      <td>328.0</td>\n",
              "      <td>464.0</td>\n",
              "      <td>464.0</td>\n",
              "      <td>464.0</td>\n",
              "      <td>327.0</td>\n",
              "      <td>328.0</td>\n",
              "      <td>328.0</td>\n",
              "      <td>229.0</td>\n",
              "      <td>229.0</td>\n",
              "      <td>229.0</td>\n",
              "      <td>162.0</td>\n",
              "      <td>7.0</td>\n",
              "    </tr>\n",
              "    <tr>\n",
              "      <th>50%</th>\n",
              "      <td>250.0</td>\n",
              "      <td>250.0</td>\n",
              "      <td>250.0</td>\n",
              "      <td>350.0</td>\n",
              "      <td>350.0</td>\n",
              "      <td>350.0</td>\n",
              "      <td>502.0</td>\n",
              "      <td>502.0</td>\n",
              "      <td>502.0</td>\n",
              "      <td>349.0</td>\n",
              "      <td>350.0</td>\n",
              "      <td>350.0</td>\n",
              "      <td>249.0</td>\n",
              "      <td>250.0</td>\n",
              "      <td>250.0</td>\n",
              "      <td>174.0</td>\n",
              "      <td>8.0</td>\n",
              "    </tr>\n",
              "    <tr>\n",
              "      <th>75%</th>\n",
              "      <td>272.0</td>\n",
              "      <td>272.0</td>\n",
              "      <td>272.0</td>\n",
              "      <td>372.0</td>\n",
              "      <td>372.0</td>\n",
              "      <td>372.0</td>\n",
              "      <td>538.0</td>\n",
              "      <td>538.0</td>\n",
              "      <td>539.0</td>\n",
              "      <td>372.0</td>\n",
              "      <td>372.0</td>\n",
              "      <td>372.0</td>\n",
              "      <td>270.0</td>\n",
              "      <td>271.0</td>\n",
              "      <td>271.0</td>\n",
              "      <td>187.0</td>\n",
              "      <td>8.0</td>\n",
              "    </tr>\n",
              "    <tr>\n",
              "      <th>max</th>\n",
              "      <td>724.0</td>\n",
              "      <td>762.0</td>\n",
              "      <td>665.0</td>\n",
              "      <td>1302.0</td>\n",
              "      <td>1179.0</td>\n",
              "      <td>889.0</td>\n",
              "      <td>1587.0</td>\n",
              "      <td>2505.0</td>\n",
              "      <td>1319.0</td>\n",
              "      <td>1177.0</td>\n",
              "      <td>1244.0</td>\n",
              "      <td>944.0</td>\n",
              "      <td>905.0</td>\n",
              "      <td>738.0</td>\n",
              "      <td>624.0</td>\n",
              "      <td>208.0</td>\n",
              "      <td>12.0</td>\n",
              "    </tr>\n",
              "  </tbody>\n",
              "</table>\n",
              "</div>"
            ],
            "text/plain": [
              "       T_data_1_1  T_data_1_2  T_data_1_3  ...  T_data_5_3     H_data    AH_data\n",
              "count   2103841.0   2103841.0   2103841.0  ...   2103841.0  2103841.0  2103841.0\n",
              "mean        250.0       250.0       250.0  ...       250.0      175.0        7.0\n",
              "std          31.0        30.0        30.0  ...        30.0       14.0        1.0\n",
              "min           1.0         1.0         1.0  ...         1.0      141.0        3.0\n",
              "25%         229.0       229.0       229.0  ...       229.0      162.0        7.0\n",
              "50%         250.0       250.0       250.0  ...       250.0      174.0        8.0\n",
              "75%         272.0       272.0       272.0  ...       271.0      187.0        8.0\n",
              "max         724.0       762.0       665.0  ...       624.0      208.0       12.0\n",
              "\n",
              "[8 rows x 17 columns]"
            ]
          },
          "metadata": {
            "tags": []
          },
          "execution_count": 181
        }
      ]
    },
    {
      "cell_type": "code",
      "metadata": {
        "id": "5L8Yri199O4Z",
        "colab_type": "code",
        "colab": {
          "base_uri": "https://localhost:8080/",
          "height": 297
        },
        "outputId": "6547e892-a714-4b78-c9ca-576c1bc7ec9f"
      },
      "source": [
        "X_data['Unnamed: 0'] = pd.to_datetime(X_data['Unnamed: 0'])\n",
        "X_data.head(60).describe().round(0)"
      ],
      "execution_count": null,
      "outputs": [
        {
          "output_type": "execute_result",
          "data": {
            "text/html": [
              "<div>\n",
              "<style scoped>\n",
              "    .dataframe tbody tr th:only-of-type {\n",
              "        vertical-align: middle;\n",
              "    }\n",
              "\n",
              "    .dataframe tbody tr th {\n",
              "        vertical-align: top;\n",
              "    }\n",
              "\n",
              "    .dataframe thead th {\n",
              "        text-align: right;\n",
              "    }\n",
              "</style>\n",
              "<table border=\"1\" class=\"dataframe\">\n",
              "  <thead>\n",
              "    <tr style=\"text-align: right;\">\n",
              "      <th></th>\n",
              "      <th>T_data_1_1</th>\n",
              "      <th>T_data_1_2</th>\n",
              "      <th>T_data_1_3</th>\n",
              "      <th>T_data_2_1</th>\n",
              "      <th>T_data_2_2</th>\n",
              "      <th>T_data_2_3</th>\n",
              "      <th>T_data_3_1</th>\n",
              "      <th>T_data_3_2</th>\n",
              "      <th>T_data_3_3</th>\n",
              "      <th>T_data_4_1</th>\n",
              "      <th>T_data_4_2</th>\n",
              "      <th>T_data_4_3</th>\n",
              "      <th>T_data_5_1</th>\n",
              "      <th>T_data_5_2</th>\n",
              "      <th>T_data_5_3</th>\n",
              "      <th>H_data</th>\n",
              "      <th>AH_data</th>\n",
              "    </tr>\n",
              "  </thead>\n",
              "  <tbody>\n",
              "    <tr>\n",
              "      <th>count</th>\n",
              "      <td>60.0</td>\n",
              "      <td>60.0</td>\n",
              "      <td>60.0</td>\n",
              "      <td>60.0</td>\n",
              "      <td>60.0</td>\n",
              "      <td>60.0</td>\n",
              "      <td>60.0</td>\n",
              "      <td>60.0</td>\n",
              "      <td>60.0</td>\n",
              "      <td>60.0</td>\n",
              "      <td>60.0</td>\n",
              "      <td>60.0</td>\n",
              "      <td>60.0</td>\n",
              "      <td>60.0</td>\n",
              "      <td>60.0</td>\n",
              "      <td>60.0</td>\n",
              "      <td>60.0</td>\n",
              "    </tr>\n",
              "    <tr>\n",
              "      <th>mean</th>\n",
              "      <td>213.0</td>\n",
              "      <td>214.0</td>\n",
              "      <td>211.0</td>\n",
              "      <td>321.0</td>\n",
              "      <td>329.0</td>\n",
              "      <td>344.0</td>\n",
              "      <td>502.0</td>\n",
              "      <td>473.0</td>\n",
              "      <td>486.0</td>\n",
              "      <td>367.0</td>\n",
              "      <td>353.0</td>\n",
              "      <td>350.0</td>\n",
              "      <td>247.0</td>\n",
              "      <td>241.0</td>\n",
              "      <td>240.0</td>\n",
              "      <td>165.0</td>\n",
              "      <td>9.0</td>\n",
              "    </tr>\n",
              "    <tr>\n",
              "      <th>std</th>\n",
              "      <td>1.0</td>\n",
              "      <td>1.0</td>\n",
              "      <td>0.0</td>\n",
              "      <td>14.0</td>\n",
              "      <td>15.0</td>\n",
              "      <td>1.0</td>\n",
              "      <td>15.0</td>\n",
              "      <td>0.0</td>\n",
              "      <td>3.0</td>\n",
              "      <td>17.0</td>\n",
              "      <td>3.0</td>\n",
              "      <td>3.0</td>\n",
              "      <td>2.0</td>\n",
              "      <td>0.0</td>\n",
              "      <td>1.0</td>\n",
              "      <td>2.0</td>\n",
              "      <td>0.0</td>\n",
              "    </tr>\n",
              "    <tr>\n",
              "      <th>min</th>\n",
              "      <td>211.0</td>\n",
              "      <td>210.0</td>\n",
              "      <td>211.0</td>\n",
              "      <td>300.0</td>\n",
              "      <td>301.0</td>\n",
              "      <td>343.0</td>\n",
              "      <td>474.0</td>\n",
              "      <td>473.0</td>\n",
              "      <td>481.0</td>\n",
              "      <td>331.0</td>\n",
              "      <td>348.0</td>\n",
              "      <td>346.0</td>\n",
              "      <td>241.0</td>\n",
              "      <td>240.0</td>\n",
              "      <td>238.0</td>\n",
              "      <td>161.0</td>\n",
              "      <td>9.0</td>\n",
              "    </tr>\n",
              "    <tr>\n",
              "      <th>25%</th>\n",
              "      <td>213.0</td>\n",
              "      <td>213.0</td>\n",
              "      <td>211.0</td>\n",
              "      <td>309.0</td>\n",
              "      <td>317.0</td>\n",
              "      <td>344.0</td>\n",
              "      <td>490.0</td>\n",
              "      <td>473.0</td>\n",
              "      <td>484.0</td>\n",
              "      <td>355.0</td>\n",
              "      <td>352.0</td>\n",
              "      <td>348.0</td>\n",
              "      <td>245.0</td>\n",
              "      <td>241.0</td>\n",
              "      <td>239.0</td>\n",
              "      <td>164.0</td>\n",
              "      <td>9.0</td>\n",
              "    </tr>\n",
              "    <tr>\n",
              "      <th>50%</th>\n",
              "      <td>214.0</td>\n",
              "      <td>214.0</td>\n",
              "      <td>211.0</td>\n",
              "      <td>320.0</td>\n",
              "      <td>330.0</td>\n",
              "      <td>344.0</td>\n",
              "      <td>504.0</td>\n",
              "      <td>473.0</td>\n",
              "      <td>486.0</td>\n",
              "      <td>372.0</td>\n",
              "      <td>354.0</td>\n",
              "      <td>350.0</td>\n",
              "      <td>247.0</td>\n",
              "      <td>241.0</td>\n",
              "      <td>240.0</td>\n",
              "      <td>165.0</td>\n",
              "      <td>9.0</td>\n",
              "    </tr>\n",
              "    <tr>\n",
              "      <th>75%</th>\n",
              "      <td>214.0</td>\n",
              "      <td>214.0</td>\n",
              "      <td>211.0</td>\n",
              "      <td>332.0</td>\n",
              "      <td>342.0</td>\n",
              "      <td>345.0</td>\n",
              "      <td>514.0</td>\n",
              "      <td>473.0</td>\n",
              "      <td>489.0</td>\n",
              "      <td>382.0</td>\n",
              "      <td>356.0</td>\n",
              "      <td>352.0</td>\n",
              "      <td>248.0</td>\n",
              "      <td>241.0</td>\n",
              "      <td>241.0</td>\n",
              "      <td>167.0</td>\n",
              "      <td>9.0</td>\n",
              "    </tr>\n",
              "    <tr>\n",
              "      <th>max</th>\n",
              "      <td>214.0</td>\n",
              "      <td>215.0</td>\n",
              "      <td>212.0</td>\n",
              "      <td>347.0</td>\n",
              "      <td>353.0</td>\n",
              "      <td>347.0</td>\n",
              "      <td>522.0</td>\n",
              "      <td>473.0</td>\n",
              "      <td>490.0</td>\n",
              "      <td>386.0</td>\n",
              "      <td>356.0</td>\n",
              "      <td>355.0</td>\n",
              "      <td>249.0</td>\n",
              "      <td>241.0</td>\n",
              "      <td>243.0</td>\n",
              "      <td>171.0</td>\n",
              "      <td>9.0</td>\n",
              "    </tr>\n",
              "  </tbody>\n",
              "</table>\n",
              "</div>"
            ],
            "text/plain": [
              "       T_data_1_1  T_data_1_2  T_data_1_3  ...  T_data_5_3  H_data  AH_data\n",
              "count        60.0        60.0        60.0  ...        60.0    60.0     60.0\n",
              "mean        213.0       214.0       211.0  ...       240.0   165.0      9.0\n",
              "std           1.0         1.0         0.0  ...         1.0     2.0      0.0\n",
              "min         211.0       210.0       211.0  ...       238.0   161.0      9.0\n",
              "25%         213.0       213.0       211.0  ...       239.0   164.0      9.0\n",
              "50%         214.0       214.0       211.0  ...       240.0   165.0      9.0\n",
              "75%         214.0       214.0       211.0  ...       241.0   167.0      9.0\n",
              "max         214.0       215.0       212.0  ...       243.0   171.0      9.0\n",
              "\n",
              "[8 rows x 17 columns]"
            ]
          },
          "metadata": {
            "tags": []
          },
          "execution_count": 183
        }
      ]
    },
    {
      "cell_type": "markdown",
      "metadata": {
        "id": "SCcwLWaYP5Sw",
        "colab_type": "text"
      },
      "source": [
        "# Модель \"Качество продукции\""
      ]
    },
    {
      "cell_type": "code",
      "metadata": {
        "id": "ievv5C4bEAyF",
        "colab_type": "code",
        "colab": {
          "base_uri": "https://localhost:8080/",
          "height": 68
        },
        "outputId": "7ad3cf93-1c66-4f42-bfdb-f80848543c4c"
      },
      "source": [
        "#рассмотрим вариант средних значений за час\n",
        "X_data_hour = X_data.resample('H', on='Unnamed: 0').mean()\n",
        "\n",
        "# обратим внимание на разницу в начале отсчёта\n",
        "res = X_data_hour.shape[0] - Y_train.shape[0] - Y_submit.shape[0] - 2\n",
        "print('Различие от начала отсчёта составляет - ', res) \n",
        "print(X_data_hour.index[res])\n",
        "print(Y_train[0][0])"
      ],
      "execution_count": null,
      "outputs": [
        {
          "output_type": "stream",
          "text": [
            "Различие от начала отсчёта составляет -  71\n",
            "2015-01-03 23:00:00\n",
            "2015-01-04 00:05:00\n"
          ],
          "name": "stdout"
        }
      ]
    },
    {
      "cell_type": "code",
      "metadata": {
        "id": "32M4sXKVOBqi",
        "colab_type": "code",
        "colab": {
          "base_uri": "https://localhost:8080/",
          "height": 34
        },
        "outputId": "b91aaea8-172b-4e70-8fd0-afb4ead592e1"
      },
      "source": [
        "X_data_hour = X_data_hour[X_data_hour.index >= X_data_hour.index[res]]\n",
        "X_data_hour = X_data_hour[X_data_hour.index <= X_data_hour.index[-3]]\n",
        "print('Различие данных - ', X_data_hour.shape[0] - Y_train.shape[0] - Y_submit.shape[0])"
      ],
      "execution_count": null,
      "outputs": [
        {
          "output_type": "stream",
          "text": [
            "Различие данных -  0\n"
          ],
          "name": "stdout"
        }
      ]
    },
    {
      "cell_type": "code",
      "metadata": {
        "id": "eZVwgZNJRgbX",
        "colab_type": "code",
        "colab": {}
      },
      "source": [
        "X_data_hour.reset_index(drop=True, inplace=True)\n",
        "Y_train.drop(columns=0, inplace=True)"
      ],
      "execution_count": null,
      "outputs": []
    },
    {
      "cell_type": "code",
      "metadata": {
        "id": "cArv4CySM37p",
        "colab_type": "code",
        "colab": {}
      },
      "source": [
        "X = X_data_hour.to_numpy()\n",
        "y_train = Y_train.to_numpy()"
      ],
      "execution_count": null,
      "outputs": []
    },
    {
      "cell_type": "code",
      "metadata": {
        "id": "svKmDSX8XjY2",
        "colab_type": "code",
        "colab": {}
      },
      "source": [
        "x_train = X[:len(y_train)]\n",
        "x_test = X[len(y_train):]"
      ],
      "execution_count": null,
      "outputs": []
    },
    {
      "cell_type": "code",
      "metadata": {
        "id": "lIjh-qukqJhm",
        "colab_type": "code",
        "colab": {}
      },
      "source": [
        "#Нормализация данных\n",
        "mean = x_train.mean(axis=0)\n",
        "std = x_train.std(axis=0)\n",
        "x_train_scale = (x_train - mean) / std\n",
        "x_test_scale = (x_test - mean) / std"
      ],
      "execution_count": null,
      "outputs": []
    },
    {
      "cell_type": "code",
      "metadata": {
        "id": "tjp5TNPkb8Hl",
        "colab_type": "code",
        "colab": {
          "base_uri": "https://localhost:8080/",
          "height": 85
        },
        "outputId": "90bb735b-e744-4953-deae-48519b048940"
      },
      "source": [
        "print(x_train.shape)\n",
        "print(x_test.shape)\n",
        "print(y_train.shape)\n",
        "print(y_submit.shape)"
      ],
      "execution_count": null,
      "outputs": [
        {
          "output_type": "stream",
          "text": [
            "(29184, 17)\n",
            "(5808, 17)\n",
            "(29184, 1)\n",
            "(5808, 2)\n"
          ],
          "name": "stdout"
        }
      ]
    },
    {
      "cell_type": "code",
      "metadata": {
        "id": "JD4Kbb-8gHBR",
        "colab_type": "code",
        "colab": {}
      },
      "source": [
        "# разделим данные для валидации\n",
        "xTrain, xVal, yTrain, yVal = train_test_split(x_train_scale, y_train, test_size = 0.2, shuffle=True)"
      ],
      "execution_count": null,
      "outputs": []
    },
    {
      "cell_type": "code",
      "metadata": {
        "id": "24r9YC_CWtZQ",
        "colab_type": "code",
        "colab": {
          "base_uri": "https://localhost:8080/",
          "height": 357
        },
        "outputId": "83f7a4f0-10a7-4bfb-eb94-db281827d7c3"
      },
      "source": [
        "model = Sequential()\n",
        "\n",
        "model.add(Dense(64, input_dim=x_train.shape[1], activation='relu'))\n",
        "model.add(BatchNormalization())\n",
        "model.add(Dropout(0.2))\n",
        "model.add(Dense(32,  activation='relu'))\n",
        "model.add(Dropout(0.2))\n",
        "model.add(Dense(1))\n",
        "\n",
        "model.compile(loss='mse', optimizer=Adam(0.001), metrics='mae')\n",
        "model.summary()"
      ],
      "execution_count": null,
      "outputs": [
        {
          "output_type": "stream",
          "text": [
            "Model: \"sequential_16\"\n",
            "_________________________________________________________________\n",
            "Layer (type)                 Output Shape              Param #   \n",
            "=================================================================\n",
            "dense_45 (Dense)             (None, 64)                1152      \n",
            "_________________________________________________________________\n",
            "batch_normalization_8 (Batch (None, 64)                256       \n",
            "_________________________________________________________________\n",
            "dropout_30 (Dropout)         (None, 64)                0         \n",
            "_________________________________________________________________\n",
            "dense_46 (Dense)             (None, 32)                2080      \n",
            "_________________________________________________________________\n",
            "dropout_31 (Dropout)         (None, 32)                0         \n",
            "_________________________________________________________________\n",
            "dense_47 (Dense)             (None, 1)                 33        \n",
            "=================================================================\n",
            "Total params: 3,521\n",
            "Trainable params: 3,393\n",
            "Non-trainable params: 128\n",
            "_________________________________________________________________\n"
          ],
          "name": "stdout"
        }
      ]
    },
    {
      "cell_type": "code",
      "metadata": {
        "id": "WzbBtI9hZWz2",
        "colab_type": "code",
        "colab": {
          "base_uri": "https://localhost:8080/",
          "height": 1000
        },
        "outputId": "ea511a6d-956c-4d4c-858f-1dc31e526877"
      },
      "source": [
        "history = model.fit(xTrain, yTrain, batch_size=32, epochs=50, validation_data=(xVal, yVal) , verbose=1)"
      ],
      "execution_count": null,
      "outputs": [
        {
          "output_type": "stream",
          "text": [
            "Epoch 1/50\n",
            "730/730 [==============================] - 1s 2ms/step - loss: 66779.1484 - mae: 214.3281 - val_loss: 2420.0647 - val_mae: 39.9755\n",
            "Epoch 2/50\n",
            "730/730 [==============================] - 1s 2ms/step - loss: 7106.9893 - mae: 67.1004 - val_loss: 1021.4616 - val_mae: 23.8382\n",
            "Epoch 3/50\n",
            "730/730 [==============================] - 1s 2ms/step - loss: 5956.7329 - mae: 61.6100 - val_loss: 829.9701 - val_mae: 21.3068\n",
            "Epoch 4/50\n",
            "730/730 [==============================] - 1s 2ms/step - loss: 5330.6719 - mae: 58.0514 - val_loss: 636.2118 - val_mae: 18.3133\n",
            "Epoch 5/50\n",
            "730/730 [==============================] - 1s 2ms/step - loss: 4925.0630 - mae: 55.8170 - val_loss: 654.9406 - val_mae: 19.2431\n",
            "Epoch 6/50\n",
            "730/730 [==============================] - 1s 2ms/step - loss: 4568.3994 - mae: 53.8104 - val_loss: 574.0746 - val_mae: 17.1416\n",
            "Epoch 7/50\n",
            "730/730 [==============================] - 1s 2ms/step - loss: 4207.4146 - mae: 51.5889 - val_loss: 608.9209 - val_mae: 19.0852\n",
            "Epoch 8/50\n",
            "730/730 [==============================] - 1s 2ms/step - loss: 4019.8398 - mae: 50.4100 - val_loss: 498.5587 - val_mae: 16.9201\n",
            "Epoch 9/50\n",
            "730/730 [==============================] - 1s 2ms/step - loss: 3812.8132 - mae: 49.2208 - val_loss: 528.8062 - val_mae: 17.9458\n",
            "Epoch 10/50\n",
            "730/730 [==============================] - 1s 2ms/step - loss: 3539.4529 - mae: 47.1910 - val_loss: 447.6339 - val_mae: 15.6021\n",
            "Epoch 11/50\n",
            "730/730 [==============================] - 1s 2ms/step - loss: 3407.4138 - mae: 46.4121 - val_loss: 418.8841 - val_mae: 14.6045\n",
            "Epoch 12/50\n",
            "730/730 [==============================] - 1s 2ms/step - loss: 3308.7131 - mae: 45.8084 - val_loss: 439.5978 - val_mae: 15.2634\n",
            "Epoch 13/50\n",
            "730/730 [==============================] - 1s 2ms/step - loss: 3220.0369 - mae: 45.2058 - val_loss: 392.5065 - val_mae: 13.6286\n",
            "Epoch 14/50\n",
            "730/730 [==============================] - 1s 2ms/step - loss: 3112.9070 - mae: 44.4807 - val_loss: 379.9628 - val_mae: 13.1744\n",
            "Epoch 15/50\n",
            "730/730 [==============================] - 1s 2ms/step - loss: 2963.3430 - mae: 43.3429 - val_loss: 345.4296 - val_mae: 11.8953\n",
            "Epoch 16/50\n",
            "730/730 [==============================] - 1s 2ms/step - loss: 2937.0425 - mae: 43.0181 - val_loss: 412.5428 - val_mae: 15.1896\n",
            "Epoch 17/50\n",
            "730/730 [==============================] - 1s 2ms/step - loss: 2862.2971 - mae: 42.5459 - val_loss: 389.0214 - val_mae: 14.2607\n",
            "Epoch 18/50\n",
            "730/730 [==============================] - 1s 2ms/step - loss: 2726.9651 - mae: 41.5772 - val_loss: 365.0510 - val_mae: 13.2253\n",
            "Epoch 19/50\n",
            "730/730 [==============================] - 1s 2ms/step - loss: 2699.6702 - mae: 41.2698 - val_loss: 372.3979 - val_mae: 13.7966\n",
            "Epoch 20/50\n",
            "730/730 [==============================] - 1s 2ms/step - loss: 2681.3572 - mae: 41.0845 - val_loss: 353.7235 - val_mae: 13.3029\n",
            "Epoch 21/50\n",
            "730/730 [==============================] - 1s 2ms/step - loss: 2614.3630 - mae: 40.5726 - val_loss: 381.1639 - val_mae: 14.2855\n",
            "Epoch 22/50\n",
            "730/730 [==============================] - 1s 2ms/step - loss: 2620.0791 - mae: 40.7567 - val_loss: 314.8633 - val_mae: 11.3127\n",
            "Epoch 23/50\n",
            "730/730 [==============================] - 1s 2ms/step - loss: 2610.2158 - mae: 40.5847 - val_loss: 322.5515 - val_mae: 12.1167\n",
            "Epoch 24/50\n",
            "730/730 [==============================] - 1s 2ms/step - loss: 2632.6511 - mae: 40.5676 - val_loss: 305.3906 - val_mae: 11.3661\n",
            "Epoch 25/50\n",
            "730/730 [==============================] - 1s 2ms/step - loss: 2546.7231 - mae: 40.0469 - val_loss: 405.7719 - val_mae: 15.7752\n",
            "Epoch 26/50\n",
            "730/730 [==============================] - 1s 2ms/step - loss: 2582.3401 - mae: 40.3968 - val_loss: 335.1169 - val_mae: 13.6717\n",
            "Epoch 27/50\n",
            "730/730 [==============================] - 1s 2ms/step - loss: 2531.0593 - mae: 40.1324 - val_loss: 312.6107 - val_mae: 12.4417\n",
            "Epoch 28/50\n",
            "730/730 [==============================] - 1s 2ms/step - loss: 2522.8933 - mae: 39.8868 - val_loss: 261.1365 - val_mae: 10.3422\n",
            "Epoch 29/50\n",
            "730/730 [==============================] - 1s 2ms/step - loss: 2517.8450 - mae: 39.7688 - val_loss: 275.0823 - val_mae: 11.6691\n",
            "Epoch 30/50\n",
            "730/730 [==============================] - 1s 2ms/step - loss: 2483.2078 - mae: 39.6829 - val_loss: 281.6589 - val_mae: 11.8385\n",
            "Epoch 31/50\n",
            "730/730 [==============================] - 1s 2ms/step - loss: 2435.9343 - mae: 39.0718 - val_loss: 255.4630 - val_mae: 10.0128\n",
            "Epoch 32/50\n",
            "730/730 [==============================] - 1s 2ms/step - loss: 2441.7361 - mae: 39.2634 - val_loss: 300.1631 - val_mae: 12.5656\n",
            "Epoch 33/50\n",
            "730/730 [==============================] - 1s 2ms/step - loss: 2408.3765 - mae: 38.9376 - val_loss: 312.8356 - val_mae: 13.1054\n",
            "Epoch 34/50\n",
            "730/730 [==============================] - 1s 2ms/step - loss: 2389.1201 - mae: 38.7382 - val_loss: 226.8040 - val_mae: 9.3979\n",
            "Epoch 35/50\n",
            "730/730 [==============================] - 1s 2ms/step - loss: 2344.6960 - mae: 38.3600 - val_loss: 235.4250 - val_mae: 9.5298\n",
            "Epoch 36/50\n",
            "730/730 [==============================] - 1s 2ms/step - loss: 2376.3772 - mae: 38.6466 - val_loss: 233.2909 - val_mae: 9.0527\n",
            "Epoch 37/50\n",
            "730/730 [==============================] - 1s 2ms/step - loss: 2292.9734 - mae: 38.0335 - val_loss: 286.6118 - val_mae: 12.2143\n",
            "Epoch 38/50\n",
            "730/730 [==============================] - 1s 2ms/step - loss: 2266.9133 - mae: 37.7934 - val_loss: 296.5662 - val_mae: 12.5172\n",
            "Epoch 39/50\n",
            "730/730 [==============================] - 1s 2ms/step - loss: 2286.3799 - mae: 37.9997 - val_loss: 316.2750 - val_mae: 12.4993\n",
            "Epoch 40/50\n",
            "730/730 [==============================] - 1s 2ms/step - loss: 2240.1877 - mae: 37.3950 - val_loss: 292.0180 - val_mae: 12.1134\n",
            "Epoch 41/50\n",
            "730/730 [==============================] - 1s 2ms/step - loss: 2233.1028 - mae: 37.5348 - val_loss: 266.5579 - val_mae: 10.7120\n",
            "Epoch 42/50\n",
            "730/730 [==============================] - 1s 2ms/step - loss: 2205.3467 - mae: 37.2880 - val_loss: 261.4146 - val_mae: 9.7473\n",
            "Epoch 43/50\n",
            "730/730 [==============================] - 1s 2ms/step - loss: 2193.8977 - mae: 37.0173 - val_loss: 257.2845 - val_mae: 9.3016\n",
            "Epoch 44/50\n",
            "730/730 [==============================] - 1s 2ms/step - loss: 2206.6296 - mae: 37.2355 - val_loss: 331.7756 - val_mae: 13.0206\n",
            "Epoch 45/50\n",
            "730/730 [==============================] - 1s 2ms/step - loss: 2187.9229 - mae: 37.1458 - val_loss: 243.5823 - val_mae: 9.3196\n",
            "Epoch 46/50\n",
            "730/730 [==============================] - 1s 2ms/step - loss: 2179.4304 - mae: 36.9492 - val_loss: 291.4122 - val_mae: 11.6833\n",
            "Epoch 47/50\n",
            "730/730 [==============================] - 1s 2ms/step - loss: 2190.7444 - mae: 37.1211 - val_loss: 255.3167 - val_mae: 10.3199\n",
            "Epoch 48/50\n",
            "730/730 [==============================] - 1s 2ms/step - loss: 2141.2451 - mae: 36.7427 - val_loss: 336.4647 - val_mae: 13.3971\n",
            "Epoch 49/50\n",
            "730/730 [==============================] - 1s 2ms/step - loss: 2198.8152 - mae: 37.1122 - val_loss: 236.8673 - val_mae: 9.6459\n",
            "Epoch 50/50\n",
            "730/730 [==============================] - 1s 2ms/step - loss: 2149.2688 - mae: 36.8054 - val_loss: 357.4370 - val_mae: 14.5926\n"
          ],
          "name": "stdout"
        }
      ]
    },
    {
      "cell_type": "code",
      "metadata": {
        "id": "3XnvAfR1hH4u",
        "colab_type": "code",
        "colab": {
          "base_uri": "https://localhost:8080/",
          "height": 279
        },
        "outputId": "aa60a71b-e923-43fc-ca04-6225646db12e"
      },
      "source": [
        "#Оображаем график точности обучения\n",
        "plt.plot(history.history['mae'], \n",
        "         label='Ошибка на обучающем наборе')\n",
        "plt.plot(history.history['val_mae'], \n",
        "         label='Ошибка на проверочном наборе')\n",
        "plt.xlabel('Эпоха обучения')\n",
        "plt.ylabel('Ошибка')\n",
        "plt.legend()\n",
        "plt.show()"
      ],
      "execution_count": null,
      "outputs": [
        {
          "output_type": "display_data",
          "data": {
            "image/png": "[encoded data removed]",
            "text/plain": [
              "<Figure size 432x288 with 1 Axes>"
            ]
          },
          "metadata": {
            "tags": [],
            "needs_background": "light"
          }
        }
      ]
    },
    {
      "cell_type": "markdown",
      "metadata": {
        "id": "2FFJ75tEQGht",
        "colab_type": "text"
      },
      "source": [
        "# Вывод оценки Модели"
      ]
    },
    {
      "cell_type": "code",
      "metadata": {
        "id": "BfbLZbcuQLRY",
        "colab_type": "code",
        "colab": {
          "base_uri": "https://localhost:8080/",
          "height": 68
        },
        "outputId": "cb981369-3b73-49c4-dfc6-d7e350bcaa51"
      },
      "source": [
        "predict = model.predict(xVal)\n",
        "MAE = np.abs(np.subtract(yVal,predict)).mean()\n",
        "mean_delta = sum(abs_delta)/len(abs_delta)\n",
        "mean_price = sum(yVal)/len(yVal)\n",
        "print(\"Средняя ошибка: \", round(MAE))\n",
        "print(\"Средняя оценка: \", round(mean_price[0]))\n",
        "print(\"Процент ошибки: \", round(100*MAE / mean_price[0]), \"%\", sep=\"\")"
      ],
      "execution_count": null,
      "outputs": [
        {
          "output_type": "stream",
          "text": [
            "Средняя ошибка:  15.0\n",
            "Средняя оценка:  402.0\n",
            "Процент ошибки: 4.0%\n"
          ],
          "name": "stdout"
        }
      ]
    },
    {
      "cell_type": "code",
      "metadata": {
        "id": "aAabJ0eSyDEy",
        "colab_type": "code",
        "colab": {
          "base_uri": "https://localhost:8080/",
          "height": 497
        },
        "outputId": "f6b01cc3-b686-49a8-89e2-9dd01b8c9a9c"
      },
      "source": [
        "plt.figure(figsize=(8,8))\n",
        "plt.scatter(yVal, predict)\n",
        "plt.xlabel('True Values')\n",
        "plt.ylabel('Predictions')\n",
        "plt.axis('equal')\n",
        "plt.xlim(plt.xlim())\n",
        "plt.ylim(plt.ylim())\n",
        "_ = plt.plot([-1000, 1000], [-1000, 1000])"
      ],
      "execution_count": null,
      "outputs": [
        {
          "output_type": "display_data",
          "data": {
            "image/png": "[encoded data removed]",
            "text/plain": [
              "<Figure size 576x576 with 1 Axes>"
            ]
          },
          "metadata": {
            "tags": [],
            "needs_background": "light"
          }
        }
      ]
    },
    {
      "cell_type": "code",
      "metadata": {
        "id": "y7VrwwvhyGd7",
        "colab_type": "code",
        "colab": {
          "base_uri": "https://localhost:8080/",
          "height": 497
        },
        "outputId": "90d37150-40da-4b12-a9b0-bd4689355c98"
      },
      "source": [
        "plt.figure(figsize=(8,8))\n",
        "error = predict - yVal\n",
        "plt.hist(error, bins = 100)\n",
        "plt.xlabel(\"Ошибка\")\n",
        "_ = plt.ylabel(\"Количество\")"
      ],
      "execution_count": null,
      "outputs": [
        {
          "output_type": "display_data",
          "data": {
            "image/png": "[encoded data removed]",
            "text/plain": [
              "<Figure size 576x576 with 1 Axes>"
            ]
          },
          "metadata": {
            "tags": [],
            "needs_background": "light"
          }
        }
      ]
    },
    {
      "cell_type": "code",
      "metadata": {
        "id": "9KXLYzqFyqjb",
        "colab_type": "code",
        "colab": {}
      },
      "source": [
        "submit = model.predict(x_test_scale)"
      ],
      "execution_count": null,
      "outputs": []
    },
    {
      "cell_type": "code",
      "metadata": {
        "id": "CpYJ5ba5y6df",
        "colab_type": "code",
        "colab": {
          "base_uri": "https://localhost:8080/",
          "height": 204
        },
        "outputId": "99d67927-798a-4503-abc5-8c042e475eab"
      },
      "source": [
        "Y_submit[1] = submit.round(0)\n",
        "Y_submit.head()"
      ],
      "execution_count": null,
      "outputs": [
        {
          "output_type": "execute_result",
          "data": {
            "text/html": [
              "<div>\n",
              "<style scoped>\n",
              "    .dataframe tbody tr th:only-of-type {\n",
              "        vertical-align: middle;\n",
              "    }\n",
              "\n",
              "    .dataframe tbody tr th {\n",
              "        vertical-align: top;\n",
              "    }\n",
              "\n",
              "    .dataframe thead th {\n",
              "        text-align: right;\n",
              "    }\n",
              "</style>\n",
              "<table border=\"1\" class=\"dataframe\">\n",
              "  <thead>\n",
              "    <tr style=\"text-align: right;\">\n",
              "      <th></th>\n",
              "      <th>0</th>\n",
              "      <th>1</th>\n",
              "    </tr>\n",
              "  </thead>\n",
              "  <tbody>\n",
              "    <tr>\n",
              "      <th>0</th>\n",
              "      <td>2018-05-04 00:05:00</td>\n",
              "      <td>399.0</td>\n",
              "    </tr>\n",
              "    <tr>\n",
              "      <th>1</th>\n",
              "      <td>2018-05-04 01:05:00</td>\n",
              "      <td>418.0</td>\n",
              "    </tr>\n",
              "    <tr>\n",
              "      <th>2</th>\n",
              "      <td>2018-05-04 02:05:00</td>\n",
              "      <td>359.0</td>\n",
              "    </tr>\n",
              "    <tr>\n",
              "      <th>3</th>\n",
              "      <td>2018-05-04 03:05:00</td>\n",
              "      <td>384.0</td>\n",
              "    </tr>\n",
              "    <tr>\n",
              "      <th>4</th>\n",
              "      <td>2018-05-04 04:05:00</td>\n",
              "      <td>352.0</td>\n",
              "    </tr>\n",
              "  </tbody>\n",
              "</table>\n",
              "</div>"
            ],
            "text/plain": [
              "                     0      1\n",
              "0  2018-05-04 00:05:00  399.0\n",
              "1  2018-05-04 01:05:00  418.0\n",
              "2  2018-05-04 02:05:00  359.0\n",
              "3  2018-05-04 03:05:00  384.0\n",
              "4  2018-05-04 04:05:00  352.0"
            ]
          },
          "metadata": {
            "tags": []
          },
          "execution_count": 464
        }
      ]
    },
    {
      "cell_type": "code",
      "metadata": {
        "id": "Tj6pZNJs3JKk",
        "colab_type": "code",
        "colab": {}
      },
      "source": [
        "Y_submit.to_csv('Y_submit_Nekrasov_NN.csv', sep=';')"
      ],
      "execution_count": null,
      "outputs": []
    }
  ]
}
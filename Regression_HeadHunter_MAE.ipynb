{
  "nbformat": 4,
  "nbformat_minor": 0,
  "metadata": {
    "colab": {
      "name": "Regression_HeadHunter_MAE.ipynb",
      "provenance": [],
      "collapsed_sections": [
        "LrqkdNdORySv",
        "lgVSoXynRyS0",
        "uDMTuZtERyS6",
        "XnErdpd5RyTE"
      ],
      "machine_shape": "hm",
      "include_colab_link": true
    },
    "kernelspec": {
      "name": "python3",
      "display_name": "Python 3"
    },
    "accelerator": "GPU"
  },
  "cells": [
    {
      "cell_type": "markdown",
      "metadata": {
        "id": "view-in-github",
        "colab_type": "text"
      },
      "source": [
        "<a href=\"https://colab.research.google.com/github/Gorodecki/Projects/blob/master/Regression_HeadHunter_MAE.ipynb\" target=\"_parent\"><img src=\"https://colab.research.google.com/assets/colab-badge.svg\" alt=\"Open In Colab\"/></a>"
      ]
    },
    {
      "cell_type": "markdown",
      "metadata": {
        "id": "o7NR4TmtAJUE",
        "colab_type": "text"
      },
      "source": [
        "# На базе hh добейтесь средней абсолютной ошибки **не более 12 тысяч**\n"
      ]
    },
    {
      "cell_type": "code",
      "metadata": {
        "id": "fv6C7bbUAINa",
        "colab_type": "code",
        "colab": {}
      },
      "source": [
        "import numpy as np #Библиотека работы с массивами\n",
        "import pandas as pd # Библиотека для работы с базами\n",
        "\n",
        "from tensorflow.keras.models import Sequential, Model # \n",
        "from tensorflow.keras.layers import add, concatenate, Input, Dense, Dropout, BatchNormalization, Flatten #\n",
        "from tensorflow.keras import utils #Используем для to_categoricall\n",
        "from tensorflow.keras.optimizers import Adam #\n",
        "from tensorflow.keras.preprocessing.text import Tokenizer, text_to_word_sequence #\n",
        "from tensorflow.keras.preprocessing.sequence import pad_sequences #\n",
        "from tensorflow.keras.callbacks import LambdaCallback # подключаем колбэки\n",
        "\n",
        "from sklearn.preprocessing import StandardScaler # \n",
        "from sklearn.model_selection import train_test_split # Для разбивки на выборки\n",
        "from sklearn.metrics import mean_squared_error, mean_absolute_error #\n",
        "from google.colab import drive #Для загрузки своей картинки\n",
        "\n",
        "import random #Для генерации случайных чисел \n",
        "import math # Для округления\n",
        "#import os #Для работы с файлами \n",
        "import re #\n",
        "import matplotlib.pyplot as plt #\n",
        "%matplotlib inline\n",
        "\n",
        "from IPython.display import clear_output"
      ],
      "execution_count": null,
      "outputs": []
    },
    {
      "cell_type": "code",
      "metadata": {
        "id": "XqXUDS6ju4w4",
        "colab_type": "code",
        "colab": {}
      },
      "source": [
        "drive.mount('/content/drive')\n",
        "path_to_csv = '/content/drive/Данные/hh_fixed.csv'"
      ],
      "execution_count": null,
      "outputs": []
    },
    {
      "cell_type": "markdown",
      "metadata": {
        "id": "K7KW7FalUo6O",
        "colab_type": "text"
      },
      "source": [
        "# Оценка зарплаты на базе HeadHunter"
      ]
    },
    {
      "cell_type": "markdown",
      "metadata": {
        "id": "2xBnS-kldFyq",
        "colab_type": "text"
      },
      "source": [
        "##Загружаем базу и смотрим содержание"
      ]
    },
    {
      "cell_type": "code",
      "metadata": {
        "id": "iNeVYpiLdBpe",
        "colab_type": "code",
        "colab": {}
      },
      "source": [
        "fixed_df = pd.read_csv(path_to_csv)# Это то, куда вы скачали файл"
      ],
      "execution_count": null,
      "outputs": []
    },
    {
      "cell_type": "code",
      "metadata": {
        "id": "bhxskfl6gWiZ",
        "colab_type": "code",
        "colab": {
          "base_uri": "https://localhost:8080/",
          "height": 34
        },
        "outputId": "5feef50f-5b5d-4d0b-ec99-7a37317077da"
      },
      "source": [
        "# Количество резюме и критерии\n",
        "print(fixed_df.shape)"
      ],
      "execution_count": null,
      "outputs": [
        {
          "output_type": "stream",
          "text": [
            "(62967, 13)\n"
          ],
          "name": "stdout"
        }
      ]
    },
    {
      "cell_type": "code",
      "metadata": {
        "id": "fAIunUIBnNGD",
        "colab_type": "code",
        "colab": {
          "base_uri": "https://localhost:8080/",
          "height": 442
        },
        "outputId": "148e9b70-aa18-4beb-91f2-5f977def1612"
      },
      "source": [
        "fixed_df.head()"
      ],
      "execution_count": null,
      "outputs": [
        {
          "output_type": "execute_result",
          "data": {
            "text/html": [
              "<div>\n",
              "<style scoped>\n",
              "    .dataframe tbody tr th:only-of-type {\n",
              "        vertical-align: middle;\n",
              "    }\n",
              "\n",
              "    .dataframe tbody tr th {\n",
              "        vertical-align: top;\n",
              "    }\n",
              "\n",
              "    .dataframe thead th {\n",
              "        text-align: right;\n",
              "    }\n",
              "</style>\n",
              "<table border=\"1\" class=\"dataframe\">\n",
              "  <thead>\n",
              "    <tr style=\"text-align: right;\">\n",
              "      <th></th>\n",
              "      <th>Unnamed: 0</th>\n",
              "      <th>Пол, возраст</th>\n",
              "      <th>ЗП</th>\n",
              "      <th>Ищет работу на должность:</th>\n",
              "      <th>Город</th>\n",
              "      <th>Занятость</th>\n",
              "      <th>График</th>\n",
              "      <th>Опыт (двойное нажатие для полной версии)</th>\n",
              "      <th>Последенее/нынешнее место работы</th>\n",
              "      <th>Последеняя/нынешняя должность</th>\n",
              "      <th>Образование и ВУЗ</th>\n",
              "      <th>Обновление резюме</th>\n",
              "      <th>Авто</th>\n",
              "    </tr>\n",
              "  </thead>\n",
              "  <tbody>\n",
              "    <tr>\n",
              "      <th>0</th>\n",
              "      <td>0</td>\n",
              "      <td>Мужчина ,  29 лет , родился 16 мая 1989</td>\n",
              "      <td>40000 руб.</td>\n",
              "      <td>Специалист по поддержке чата(support team) дом...</td>\n",
              "      <td>Новороссийск , готов к переезду (Анапа, Геленд...</td>\n",
              "      <td>полная занятость</td>\n",
              "      <td>полный день</td>\n",
              "      <td>Опыт работы 3 года 9 месяцев  Специалист по по...</td>\n",
              "      <td>ООО \"Гольфстрим\"</td>\n",
              "      <td>Генеральный директор</td>\n",
              "      <td>Высшее образование 2011  Международный юридиче...</td>\n",
              "      <td>26.04.2019 08:04</td>\n",
              "      <td>Не указано</td>\n",
              "    </tr>\n",
              "    <tr>\n",
              "      <th>1</th>\n",
              "      <td>1</td>\n",
              "      <td>Мужчина ,  38 лет , родился 25 мая 1980</td>\n",
              "      <td>40000 руб.</td>\n",
              "      <td>Системный администратор</td>\n",
              "      <td>Новосибирск ,  м. Березовая роща , не готов к ...</td>\n",
              "      <td>полная занятость</td>\n",
              "      <td>полный день</td>\n",
              "      <td>Опыт работы 11 лет 11 месяцев  Системный админ...</td>\n",
              "      <td>ООО «Завод модульных технологий»</td>\n",
              "      <td>Системный администратор</td>\n",
              "      <td>Высшее образование 2002 Новосибирский государс...</td>\n",
              "      <td>26.04.2019 04:30</td>\n",
              "      <td>Не указано</td>\n",
              "    </tr>\n",
              "    <tr>\n",
              "      <th>2</th>\n",
              "      <td>2</td>\n",
              "      <td>Мужчина ,  35 лет , родился 14 июня 1983</td>\n",
              "      <td>300000 руб.</td>\n",
              "      <td>DevOps TeamLead / DevOps архитектор</td>\n",
              "      <td>Москва , готов к переезду , готов к редким ком...</td>\n",
              "      <td>полная занятость</td>\n",
              "      <td>полный день</td>\n",
              "      <td>Опыт работы 12 лет 11 месяцев  DevOps TeamLead...</td>\n",
              "      <td>Банк ВТБ (ПАО)</td>\n",
              "      <td>Начальник отдела методологии разработки (DevOp...</td>\n",
              "      <td>DevOps TeamLead / DevOps архитектор 300 000 ру...</td>\n",
              "      <td>09.04.2019 14:40</td>\n",
              "      <td>Не указано</td>\n",
              "    </tr>\n",
              "    <tr>\n",
              "      <th>3</th>\n",
              "      <td>3</td>\n",
              "      <td>Мужчина ,  33 года , родился 2 августа 1985</td>\n",
              "      <td>180000 руб.</td>\n",
              "      <td>Руководитель IT отдела</td>\n",
              "      <td>Москва ,  м. Щукинская , не готов к переезду ,...</td>\n",
              "      <td>частичная занятость, полная занятость</td>\n",
              "      <td>удаленная работа, полный день</td>\n",
              "      <td>Опыт работы 15 лет 10 месяцев  Руководитель IT...</td>\n",
              "      <td>\"Ай-Теко\", ведущий российский системный интегр...</td>\n",
              "      <td>Старший системный администратор</td>\n",
              "      <td>Руководитель IT отдела 180 000 руб. Информацио...</td>\n",
              "      <td>09.04.2019 14:39</td>\n",
              "      <td>Имеется собственный автомобиль</td>\n",
              "    </tr>\n",
              "    <tr>\n",
              "      <th>4</th>\n",
              "      <td>4</td>\n",
              "      <td>Мужчина ,  22 года , родился 1 сентября 1996</td>\n",
              "      <td>40000 руб.</td>\n",
              "      <td>Junior Developer</td>\n",
              "      <td>Москва ,  м. Юго-Западная , не готов к переезд...</td>\n",
              "      <td>стажировка, частичная занятость, проектная работа</td>\n",
              "      <td>гибкий график, удаленная работа</td>\n",
              "      <td>Опыт работы 1 год 1 месяц  Junior Developer 40...</td>\n",
              "      <td>R-Style SoftLab</td>\n",
              "      <td>Менеджер IT-проектов</td>\n",
              "      <td>Junior Developer 40 000 руб. Информационные те...</td>\n",
              "      <td>29.03.2019 12:40</td>\n",
              "      <td>Не указано</td>\n",
              "    </tr>\n",
              "  </tbody>\n",
              "</table>\n",
              "</div>"
            ],
            "text/plain": [
              "   Unnamed: 0  ...                            Авто\n",
              "0           0  ...                      Не указано\n",
              "1           1  ...                      Не указано\n",
              "2           2  ...                      Не указано\n",
              "3           3  ...  Имеется собственный автомобиль\n",
              "4           4  ...                      Не указано\n",
              "\n",
              "[5 rows x 13 columns]"
            ]
          },
          "metadata": {
            "tags": []
          },
          "execution_count": 5
        }
      ]
    },
    {
      "cell_type": "code",
      "metadata": {
        "id": "v4c_vFYvvS3n",
        "colab_type": "code",
        "colab": {
          "base_uri": "https://localhost:8080/",
          "height": 357
        },
        "outputId": "95f89c62-7962-4b6b-9bf3-a4f34a6c190c"
      },
      "source": [
        "fixed_df.info()"
      ],
      "execution_count": null,
      "outputs": [
        {
          "output_type": "stream",
          "text": [
            "<class 'pandas.core.frame.DataFrame'>\n",
            "RangeIndex: 62967 entries, 0 to 62966\n",
            "Data columns (total 13 columns):\n",
            " #   Column                                    Non-Null Count  Dtype \n",
            "---  ------                                    --------------  ----- \n",
            " 0   Unnamed: 0                                62967 non-null  int64 \n",
            " 1   Пол, возраст                              62967 non-null  object\n",
            " 2   ЗП                                        62967 non-null  object\n",
            " 3   Ищет работу на должность:                 62967 non-null  object\n",
            " 4   Город                                     62967 non-null  object\n",
            " 5   Занятость                                 62967 non-null  object\n",
            " 6   График                                    62967 non-null  object\n",
            " 7   Опыт (двойное нажатие для полной версии)  62599 non-null  object\n",
            " 8   Последенее/нынешнее место работы          62965 non-null  object\n",
            " 9   Последеняя/нынешняя должность             62963 non-null  object\n",
            " 10  Образование и ВУЗ                         62967 non-null  object\n",
            " 11  Обновление резюме                         62967 non-null  object\n",
            " 12  Авто                                      62967 non-null  object\n",
            "dtypes: int64(1), object(12)\n",
            "memory usage: 6.2+ MB\n"
          ],
          "name": "stdout"
        }
      ]
    },
    {
      "cell_type": "code",
      "metadata": {
        "id": "tDtaxwCKvgGN",
        "colab_type": "code",
        "colab": {}
      },
      "source": [
        "# удалим строки с пустыми значениями\n",
        "fixed_df.dropna(inplace=True)\n",
        "fixed_df.drop_duplicates(inplace=True, ignore_index=True)"
      ],
      "execution_count": null,
      "outputs": []
    },
    {
      "cell_type": "code",
      "metadata": {
        "id": "uJDzeCxKgqkS",
        "colab_type": "code",
        "colab": {
          "base_uri": "https://localhost:8080/",
          "height": 258
        },
        "outputId": "6065a492-6a9b-4338-bc63-d43c0d60033e"
      },
      "source": [
        "# Пример данных\n",
        "n = 0 # Берем первое резюме\n",
        "for i in range(len(fixed_df.values[n])): # Выводим значение каждой графы резюме\n",
        "  print(i, \" \", fixed_df.values[n][i])"
      ],
      "execution_count": null,
      "outputs": [
        {
          "output_type": "stream",
          "text": [
            "0   0\n",
            "1   Мужчина ,  29 лет , родился 16 мая 1989\n",
            "2   40000 руб.\n",
            "3   Специалист по поддержке чата(support team) домашний агент\n",
            "4   Новороссийск , готов к переезду (Анапа, Геленджик) , не готов к командировкам\n",
            "5   полная занятость\n",
            "6   полный день\n",
            "7   Опыт работы 3 года 9 месяцев  Специалист по поддержке чата(support team) домашний агент 40 000 руб. Информационные технологии, интернет, телеком Системный администратор Сотовые, Беспроводные технологии Телекоммуникации Занятость: полная занятость График работы: полный день Опыт работы 3 года 9 месяцев Май 2012 — Январь  2016 3 года 9 месяцев ООО \"Гольфстрим\" Республика Башкортостан Строительство, недвижимость, эксплуатация, проектирование ... Строительство жилищное Управление и эксплуатация недвижимости Генеральный директор Руководство, отладка деловых связей, заключение договоров, развитие организации Ключевые навыки Теперь резюме открыто всему интернету — изменить можно в настройках видимости. Заключение договоров Деловое общение Деловая коммуникация Пользователь ПК Ведение переговоров Управление персоналом Деловая переписка Составление договоров Телефонные переговоры Грамотная речь MS Outlook Водительское удостоверение категории B Работа в команде Возникли неполадки. Попробуйте еще раз. Опыт вождения Права категории B Обо мне Электроника, новые технологии, автомобили, охота, природа, музыка, путешествия. Высшее образование 2011 Кликнув на название учебного заведения вы сможете найти кандидатов из этого вуза. Международный юридический институт при Министерстве юстиции Российской Федерации, Москва Юридический факультет, Юриспруденция Знание языков Русский — Родной Английский — A1 — Начальный Гражданство, время в пути до работы Гражданство: Россия Разрешение на работу: Россия Желательное время в пути до работы: Не имеет значения  Опыт работы 3 года 9 месяцев Май 2012 — Январь  2016 3 года 9 месяцев ООО \"Гольфстрим\" Республика Башкортостан Строительство, недвижимость, эксплуатация, проектирование ... Строительство жилищное Управление и эксплуатация недвижимости Генеральный директор Руководство, отладка деловых связей, заключение договоров, развитие организации  Май 2012 — Январь  2016 3 года 9 месяцев ООО \"Гольфстрим\" Республика Башкортостан Строительство, недвижимость, эксплуатация, проектирование ... Строительство жилищное Управление и эксплуатация недвижимости Генеральный директор Руководство, отладка деловых связей, заключение договоров, развитие организации\n",
            "8   ООО \"Гольфстрим\"\n",
            "9   Генеральный директор\n",
            "10   Высшее образование 2011  Международный юридический институт при Министерстве юстиции Российской Федерации, Москва Юридический факультет, Юриспруденция\n",
            "11   26.04.2019 08:04\n",
            "12   Не указано\n"
          ],
          "name": "stdout"
        }
      ]
    },
    {
      "cell_type": "markdown",
      "metadata": {
        "id": "JS293Wo3lGMd",
        "colab_type": "text"
      },
      "source": [
        "## Парсим базу\n"
      ]
    },
    {
      "cell_type": "code",
      "metadata": {
        "id": "ne15zckQlJ_f",
        "colab_type": "code",
        "colab": {}
      },
      "source": [
        "##############################################\n",
        "####Убрать кодировку в описаниях \\xa0 \\n\n",
        "##############################################\n",
        "fixed_df = fixed_df.drop(fixed_df.columns[0],axis = 1) # Убираем первый столбец с продублированными индексами. Он нам не нужен\n",
        "\n",
        "i=0\n",
        "for j in range(12):  # Для каждого из столбцов таблицы\n",
        "    for i in range(fixed_df.shape[0]): # По всем резюме\n",
        "        if type(fixed_df.values[i][j])!=float: # если данные текстовые, то заменяем фрагменты кодировки ASCII на отсутствие символов\n",
        "            fixed_df.values[i][j] = fixed_df.values[i][j].replace(\"\\xa0\",\"\")\n",
        "            fixed_df.values[i][j] = fixed_df.values[i][j].replace(\"\\n\",\" \")"
      ],
      "execution_count": null,
      "outputs": []
    },
    {
      "cell_type": "code",
      "metadata": {
        "id": "g-nYtToClWt4",
        "colab_type": "code",
        "colab": {}
      },
      "source": [
        "# Данные о поле и возрасте\n",
        "def getParameterSexAge(arg):\n",
        "  out = [0,0]\n",
        "  #Если М, то 1. По умолчанию 0 - Ж\n",
        "  if \"М\" in arg:\n",
        "    out[0] = 1\n",
        "  # текущий год - год рождения\n",
        "  year_tec = 2020\n",
        "  if (len(arg) > 7):\n",
        "    out[1] = year_tec - int(re.findall(r'\\d{4}', arg)[0])\n",
        "  return out\n",
        "\n",
        "# Полученный возраст превращаем в класс возрастной категории\n",
        "def getParameterAgeVect(arg):\n",
        "  outClass =int((arg-13)/5)\n",
        "  outClass = max(0, min(10,outClass))\n",
        "  # На выходе получаем вектор с нужной категорией возраста\n",
        "  return list(utils.to_categorical(outClass, 11).astype('int'))\n",
        "\n",
        "\n",
        "# Зарплата\n",
        "def getParameterSalary(arg):\n",
        "    num = arg\n",
        "    # Сначала получаем чистое число, убираем лишние знаки\n",
        "    if (type(num) == str):\n",
        "        num = re.sub(' ','',num)\n",
        "        num = re.sub('[а-яА-ЯёЁ]','',num)\n",
        "        num = re.sub('[a-zA-Z]','',num)\n",
        "        num = num.replace('.','')\n",
        "        \n",
        "        # Получаем чисто валюту, убираем цифры\n",
        "        curr = re.sub('[0-9]','',arg)\n",
        "        curr = curr.replace('.','').strip()\n",
        "        \n",
        "        # Конвертируем в рубли, если валюта\n",
        "        if curr == 'USD':\n",
        "           num = float(num)*65\n",
        "        elif curr == 'KZT':\n",
        "           num = float(num)*0.17\n",
        "        elif curr=='грн':\n",
        "           num = float(num)*2.6\n",
        "        elif curr=='белруб':\n",
        "           num = float(num)*30.5\n",
        "        elif curr=='EUR':\n",
        "           num = float(num)*70\n",
        "        elif curr=='KGS':\n",
        "           num = float(num)*0.9\n",
        "        elif curr=='сум':\n",
        "           num = float(num)*0.007\n",
        "        elif curr=='AZN':\n",
        "           num = float(num)*37.5\n",
        "             \n",
        "    salaryStr = int(num)\n",
        "   \n",
        "\n",
        "    \n",
        "    return salaryStr\n",
        "\n",
        "\n",
        "# Данные о городе\n",
        "def getParameterCity(arg):\n",
        "  millionCities = \"Новосибирск Екатеринбург Нижний Новгород Казань Челябинск Омск Самара Ростов-на-Дону Уфа Красноярск Пермь Воронеж Волгоград\"\n",
        "  sarg=arg.split(',')\n",
        "  for item in sarg:\n",
        "    item= item.strip()\n",
        "    if item == \"Москва\":          return [1, 0, 0, 0]\n",
        "    if item == \"Санкт-Петербург\": return [0, 1, 0, 0]\n",
        "    if item in millionCities:     return [0, 0, 1, 0]\n",
        "  return [0, 0, 0, 1]\n",
        "\n",
        "# Данные о желаемой занятости\n",
        "def getParameterEmployment(arg):\n",
        "  out= [0, 0, 0, 0]\n",
        "  if (\"стажировка\" in arg):           out[0]=1\n",
        "  if (\"частичная занятость\" in arg):  out[1]=1\n",
        "  if (\"проектная работа\" in arg):     out[2]=1\n",
        "  if (\"полная занятость\" in arg):     out[3]=1\n",
        "  return out\n",
        "\n",
        "# Данные о желаемом графике работы\n",
        "def getParameterSchedule(arg):\n",
        "  out = [0, 0, 0, 0]\n",
        "  if (\"гибкий график\" in arg):    out[0]=1\n",
        "  if (\"полный день\" in arg):      out[1]=1\n",
        "  if (\"сменный график\" in arg):   out[2]=1\n",
        "  if (\"удаленная работа\" in arg): out[3]=1\n",
        "  return out\n",
        "\n",
        "# Данные об образовании\n",
        "# def getParameterEducation(arg):\n",
        "  # out = [0, 0, 0, 0] #По умолчанию не указано\n",
        "  # if arg in \"Высшее Higher education\":  out[0] = 1\n",
        "  # if arg in \"Среднее специальное\":      out[1] = 1\n",
        "  # if arg in \"Неоконченное высшее\":      out[2] = 1\n",
        "  # if arg in \"Среднее образование\":      out[3] = 1\n",
        "  # return out\n",
        "\n",
        "# Данные об образовании\n",
        "def getParameterEducation(arg):\n",
        "    out = [0, 0, 0]  #По умолчанию не указано\n",
        "    if \"Высшее\" in arg: out[0] = 1\n",
        "    if \"Среднее\" in arg: out[1] = 1\n",
        "    if \"Higher\" in arg: out[1] = 1\n",
        "    return out\n",
        "\n",
        "# Данные об опыте работы\n",
        "def getParameterExperience(arg):\n",
        "  arg = str(arg)\n",
        "  #Проверяем, если не пустая строка\n",
        "  symbols = 0\n",
        "  years = 0\n",
        "  months = 0\n",
        "  for s in arg:\n",
        "    if (s != \" \"):\n",
        "      symbols += 1\n",
        "  \n",
        "  #Находим индексы пробелов около фразы \"опыт работы\"\n",
        "  if (symbols > 10):\n",
        "      spacesIndexes = []\n",
        "      index = 0\n",
        "      while ((len(spacesIndexes) < 5) & (index < len(arg))):\n",
        "          if (arg[index] == \" \"):\n",
        "              spacesIndexes.append(index)\n",
        "          index += 1\n",
        "\n",
        "      years = 0\n",
        "      months = 0\n",
        "      if (arg[spacesIndexes[2]+1] != \"м\"):\n",
        "         if (len(spacesIndexes) >= 3):\n",
        "            yearsStr = arg[spacesIndexes[1]:spacesIndexes[2]] # Записываем в строку значение лет\n",
        "            years = int(yearsStr)\n",
        "      \n",
        "         if (len(spacesIndexes) >= 5):\n",
        "            monthsStr = arg[spacesIndexes[3]:spacesIndexes[4]] # Записываем в строку значение месяцев\n",
        "            if(arg[spacesIndexes[2]+1] == \"м\"):\n",
        "                months = int(monthsStr)\n",
        "      else:\n",
        "        if (len(spacesIndexes) >= 3):\n",
        "          monthsStr = arg[spacesIndexes[1]:spacesIndexes[2]]\n",
        "          months = int(monthsStr)\n",
        "      \n",
        "  return 12*years+months\n",
        "\n",
        "# Категориальное представление опыта работы\n",
        "def getParameterExperienceVector(arg):\n",
        "  out = getParameterExperience(arg)\n",
        "  outClass = 0\n",
        "  if (out > 6): # если больше 6 месяцев\n",
        "    outClass = 1\n",
        "  if (out > 12): # если больше 12 месяцев\n",
        "    outClass = 2\n",
        "  if (out > 24): # если больше 24 месяцев\n",
        "    outClass = 3\n",
        "  if (out > 36): # если больше 36 месяцев\n",
        "    outClass = 4\n",
        "  if (out > 60): # если больше 60 месяцев\n",
        "    outClass = 5\n",
        "  if (out > 96): # если больше 96 месяцев\n",
        "    outClass = 6\n",
        "  if (out > 120): # если больше 120 месяцев\n",
        "    outClass = 7\n",
        "  if (out > 156): # если больше 156 месяцев\n",
        "    outClass = 8\n",
        "  if (out > 192): # если больше 192 месяцев\n",
        "    outClass = 9 \n",
        "  if (out > 240): # если больше 240 месяцев\n",
        "    outClass = 10\n",
        "  \n",
        "  return list(utils.to_categorical(outClass, 11).astype('int'))\n",
        "\n",
        "# Извлекаем все параметры\n",
        "def getAllParameters(val):\n",
        "  result = getParameterSexAge(val[0])\n",
        "  sex = result[0]  #getParameterSex() #параметры о поле\n",
        "  age =getParameterAgeVect(result[1]) #параметры о возрасте\n",
        "  city = getParameterCity(val[3]) #параметры о городе\n",
        "  employment = getParameterEmployment(val[4]) #параметры о желаемой занятости\n",
        "  shedule = getParameterSchedule(val[5]) #параметры о желаемом графике\n",
        "  education = getParameterEducation(val[9]) #параметры об образовании\n",
        "  experience = getParameterExperienceVector(val[6]) #параметры об опыте\n",
        "  out = [] \n",
        "  \n",
        "# Склеиваем все параметры в вектор  \n",
        "  out.append(sex)\n",
        "  out += age\n",
        "  out += city\n",
        "  out += employment\n",
        "  out += shedule\n",
        "  out += education\n",
        "  out += experience\n",
        "  \n",
        "  return out\n",
        "\n",
        "# Создаем тренировочную выборку\n",
        "def get01Data(values):\n",
        "  xTrain = []\n",
        "  yTrain = []\n",
        "  \n",
        "  # Предсказывать будем зарплату\n",
        "  for val in values:\n",
        "    y = getParameterSalary(val[1])\n",
        "    \n",
        "    # Все, что не зарплата - обучающая выборка\n",
        "    if (y != -1):\n",
        "      x = getAllParameters(val)\n",
        "      xTrain.append(x)\n",
        "      yTrain.append(y/1000)\n",
        "  \n",
        "  xTrain = np.array(xTrain)\n",
        "  yTrain = np.array(yTrain)\n",
        "\n",
        "  \n",
        "  return (xTrain, yTrain)"
      ],
      "execution_count": null,
      "outputs": []
    },
    {
      "cell_type": "code",
      "metadata": {
        "id": "QYEH5aNXCiUo",
        "colab_type": "code",
        "colab": {}
      },
      "source": [
        "def plotDraw(h):\n",
        "    plt.plot(h.history['mae'], \n",
        "             label='Средняя абсолютная ошибка на обучающем наборе')\n",
        "    plt.plot(h.history['val_mae'], \n",
        "             label='Средняя абсолютная ошибка на проверочном наборе')\n",
        "    plt.xlabel('Эпоха обучения')\n",
        "    plt.ylabel('Средняя абсолютная ошибка')\n",
        "    plt.legend()\n",
        "    plt.show()"
      ],
      "execution_count": null,
      "outputs": []
    },
    {
      "cell_type": "code",
      "metadata": {
        "id": "zcJwtrYWCkJ0",
        "colab_type": "code",
        "colab": {}
      },
      "source": [
        "# Сравнение предсказаний моделей\n",
        "def comparePredY(model,xTrainList,yTrain,yScaled = True):\n",
        "    yy = model.predict(xTrainList)\n",
        "    \n",
        "    if yScaled:\n",
        "        # Делаем предсказание и приводим его к начальному виду\n",
        "        print('Приводим вектор зарплат к прежнему виду')\n",
        "        yy = yScaler.inverse_transform(yy).flatten()\n",
        "    if not yScaled:\n",
        "        print('Решейпим вектор зарплат')\n",
        "        yy = yy.reshape(-1)\n",
        "\n",
        "    # Среднее значение ошибки \n",
        "    delta = yy - yTrain\n",
        "    absDelta = abs(delta)\n",
        "    print('Средняя абсолютная ошибка предсказания заработной платы: ',sum(absDelta) / len(absDelta))\n",
        "\n",
        "    print('Ниже выведем сравнение первых 10 предсказаний уровня зарплаты с указанным в резюме')\n",
        "\n",
        "    n = 10\n",
        "    for i in range(n):\n",
        "        print('Реальное значение - ', yTrain[i], \" Предсказанное значение - \",\n",
        "              yy[i].round(2), \" Разница - \", (abs(yTrain[i] - yy[i])).round(1))"
      ],
      "execution_count": null,
      "outputs": []
    },
    {
      "cell_type": "markdown",
      "metadata": {
        "id": "dskzSU4FRySs",
        "colab_type": "text"
      },
      "source": [
        "## Попробуем использовать модель нейронки с большим количеством входов. Так как признаков очень много и для вычисления корреляции не тратить время.\n",
        "\n",
        "\n",
        "> Если данная сеть покажет хорошие результаты, то тем самым ещё раз убедимся в том, что прогрессивный подход к нейросетям даёт приемущество перед классическим ML\n",
        "\n"
      ]
    },
    {
      "cell_type": "code",
      "metadata": {
        "code_folding": [
          0
        ],
        "id": "ZQ5U1OJJRySt",
        "colab_type": "code",
        "colab": {
          "base_uri": "https://localhost:8080/",
          "height": 119
        },
        "outputId": "a51842ef-d26a-4c94-d190-4a5733701df8"
      },
      "source": [
        "# Подготовка данных для сложной сетки\n",
        "\n",
        "print('Получение xTrain01, yTrain')\n",
        "(xTrain01, yTrain) = get01Data(fixed_df.values) \n",
        "\n",
        "maxWordsCount = 10000\n",
        "\n",
        "# Размер набора параметров и зарплат\n",
        "print(xTrain01.shape) \n",
        "print(yTrain.shape)\n",
        "# Пример обработанных данных\n",
        "n = 0 \n",
        "print(xTrain01[n])\n",
        "print(yTrain[n])"
      ],
      "execution_count": null,
      "outputs": [
        {
          "output_type": "stream",
          "text": [
            "Получение xTrain01, yTrain\n",
            "(62595, 38)\n",
            "(62595,)\n",
            "[1 0 0 0 1 0 0 0 0 0 0 0 0 0 0 1 0 0 0 1 0 1 0 0 1 0 0 0 0 0 1 0 0 0 0 0 0\n",
            " 0]\n",
            "40.0\n"
          ],
          "name": "stdout"
        }
      ]
    },
    {
      "cell_type": "code",
      "metadata": {
        "id": "pc9dvCiFnfW-",
        "colab_type": "code",
        "colab": {}
      },
      "source": [
        "# PyMorphy используем для нормализации форм слов (чтобы не раздувать maxWordsCount)\n",
        "!pip install pymorphy2 \n",
        "import pymorphy2\n",
        "morph = pymorphy2.MorphAnalyzer()"
      ],
      "execution_count": null,
      "outputs": []
    },
    {
      "cell_type": "code",
      "metadata": {
        "id": "udQjTHznntgl",
        "colab_type": "code",
        "colab": {}
      },
      "source": [
        "# Пересобираем текст в нормальной форме\n",
        "def morphy_clean(text):\n",
        "  '''\n",
        "  функция возвращает list слов в нормальной форме, в расчёт не берём \"NUMR - числительное, PREP - предикатив, CONJ - предлог, PRCL - союз, INTJ - частица или междометие\" \n",
        "  '''\n",
        "  for i in range(len(text)):\n",
        "    # генератор перебирает слова внутри i-го предложения, собираем через пробел в строку\n",
        "    text[i]=' '.join([morph.parse(word)[0].normal_form for word in text[i].split()]) # if morph.parse(word)[0].tag.POS not in ('PREP','CONJ','PRCL','INTJ')])\n",
        "  return text"
      ],
      "execution_count": null,
      "outputs": []
    },
    {
      "cell_type": "markdown",
      "metadata": {
        "heading_collapsed": true,
        "id": "LrqkdNdORySv",
        "colab_type": "text"
      },
      "source": [
        "### Столбец \"Опыт работы\""
      ]
    },
    {
      "cell_type": "code",
      "metadata": {
        "id": "qaocgM-QoBc8",
        "colab_type": "code",
        "colab": {}
      },
      "source": [
        "#experience = morphy_clean(fixed_df['Опыт (двойное нажатие для полной версии)'][:100])"
      ],
      "execution_count": null,
      "outputs": []
    },
    {
      "cell_type": "code",
      "metadata": {
        "hidden": true,
        "id": "e0Lu8AVWRySv",
        "colab_type": "code",
        "colab": {
          "base_uri": "https://localhost:8080/"
        },
        "outputId": "14ceb1e5-5b9b-49fb-cbfa-c394cf52305c"
      },
      "source": [
        "print('Данные в столбце \\'Опыт (двойное нажатие для полной версии)\\'')\n",
        "expColLens = [len(cell.split()) for cell in fixed_df['Опыт (двойное нажатие для полной версии)']]\n",
        "print('Максимальное значение количества слов в ячейке:',np.max(expColLens))\n",
        "print('25й перцентиль:',int(np.percentile(expColLens, 25)))\n",
        "print('Среднее значение',int(np.mean(expColLens)))\n",
        "print('75й перцентиль:',int(np.percentile(expColLens, 75)))\n",
        "print('Медиана',int(np.median(expColLens)))"
      ],
      "execution_count": null,
      "outputs": [
        {
          "output_type": "stream",
          "text": [
            "Данные в столбце 'Опыт (двойное нажатие для полной версии)'\n",
            "Максимальное значение количества слов в ячейке: 4882\n",
            "25й перцентиль: 127\n",
            "Среднее значение 599\n",
            "75й перцентиль: 743\n",
            "Медиана 332\n"
          ],
          "name": "stdout"
        }
      ]
    },
    {
      "cell_type": "markdown",
      "metadata": {
        "hidden": true,
        "id": "WonQKkPiRySx",
        "colab_type": "text"
      },
      "source": [
        "Используем значение 25го перцентиля для отсечки количества слов, забираемых из ячеек столбца функцией"
      ]
    },
    {
      "cell_type": "code",
      "metadata": {
        "hidden": true,
        "id": "pJKJnz-nRySx",
        "colab_type": "code",
        "colab": {
          "base_uri": "https://localhost:8080/"
        },
        "outputId": "8c276dd3-e8de-4a1b-d15b-062793c98b26"
      },
      "source": [
        "# Расчет по столбцу 'Опыт работы'\n",
        "\n",
        "def getXTrainTRez_(values):\n",
        "    xTrainTRez = []\n",
        "\n",
        "    for val in values:\n",
        "        currText = \"\"\n",
        "        if (type(val[6]) != float):\n",
        "            currText += ' '.join(re.findall(r'\\w+',val[6])[:126])\n",
        "\n",
        "        if (getParameterSalary(val[1]) != -1):\n",
        "            xTrainTRez.append(currText)\n",
        "\n",
        "    xTrainTRez = np.array(xTrainTRez)\n",
        "\n",
        "    return xTrainTRez\n",
        "\n",
        "\n",
        "print('Получение xTrainRez01')\n",
        "xTrainTRez = getXTrainTRez_(fixed_df.values)\n",
        "tokenizer = Tokenizer(num_words=maxWordsCount,\n",
        "                      filters='!\"#$%&()*+,-–—./:;<=>?@[\\\\]^_`{|}~\\t\\n\\xa0',\n",
        "                      lower=True,\n",
        "                      split=' ',\n",
        "                      oov_token='<unk>',\n",
        "                      char_level=False)\n",
        "tokenizer.fit_on_texts(xTrainTRez)\n",
        "\n",
        "print('Максимальное количество слов в резюме в столбце \\'Опыт (двойное нажатие для полной версии)\\':',max([len(prof.split()) for prof in xTrainTRez]))\n",
        "uniqueWords = len(tokenizer.word_counts)\n",
        "print('Число уникальных слов в столбце \\'Опыт (двойное нажатие для полной версии)\\':',uniqueWords)\n",
        "meanFreqWords = int(np.mean([v for v in tokenizer.word_counts.values()]))\n",
        "print('Число самых частотных слов, имеющих половину частоты встречаемости:',meanFreqWords)"
      ],
      "execution_count": null,
      "outputs": [
        {
          "output_type": "stream",
          "text": [
            "Получение xTrainRez01\n",
            "Максимальное количество слов в резюме в столбце 'Опыт (двойное нажатие для полной версии)': 126\n",
            "Число уникальных слов в столбце 'Опыт (двойное нажатие для полной версии)': 129802\n",
            "Число самых частотных слов, имеющих половину частоты встречаемости: 52\n"
          ],
          "name": "stdout"
        }
      ]
    },
    {
      "cell_type": "markdown",
      "metadata": {
        "hidden": true,
        "id": "jb-xew-XRySz",
        "colab_type": "text"
      },
      "source": [
        "Используем для эксмериментов 5% от словаря токенайзера"
      ]
    },
    {
      "cell_type": "code",
      "metadata": {
        "hidden": true,
        "id": "7WuA7N6eRySz",
        "colab_type": "code",
        "colab": {}
      },
      "source": [
        "tokenizer = Tokenizer(num_words=uniqueWords//20,\n",
        "                      filters='!\"#$%&()*+,-–—./:;<=>?@[\\\\]^_`{|}~\\t\\n\\xa0',\n",
        "                      lower=True,\n",
        "                      split=' ',\n",
        "                      oov_token='<unk>',\n",
        "                      char_level=False)\n",
        "tokenizer.fit_on_texts(xTrainTRez)\n",
        "#xTrainRezIndexes = tokenizer.texts_to_sequences(xTrainTRez)\n",
        "xTrainRez01 = tokenizer.texts_to_matrix(xTrainTRez)"
      ],
      "execution_count": null,
      "outputs": []
    },
    {
      "cell_type": "markdown",
      "metadata": {
        "heading_collapsed": true,
        "id": "lgVSoXynRyS0",
        "colab_type": "text"
      },
      "source": [
        "### Столбец \"Образование и ВУЗ\""
      ]
    },
    {
      "cell_type": "code",
      "metadata": {
        "hidden": true,
        "id": "KNhAZRj9RyS1",
        "colab_type": "code",
        "colab": {
          "base_uri": "https://localhost:8080/"
        },
        "outputId": "4d94710b-5776-4f7e-d8c4-98ab250533c6"
      },
      "source": [
        "print('Данные в столбце \\'Образование и ВУЗ\\'')\n",
        "eduColLens = [len(cell.split()) for cell in fixed_df['Образование и ВУЗ']]\n",
        "print('Максимальное значение количества слов в ячейке:',np.max(eduColLens))\n",
        "print('25й перцентиль:',int(np.percentile(eduColLens, 25)))\n",
        "print('Среднее значение',int(np.mean(eduColLens)))\n",
        "print('75й перцентиль:',int(np.percentile(eduColLens, 75)))\n",
        "print('Медиана:',int(np.median(eduColLens)))"
      ],
      "execution_count": null,
      "outputs": [
        {
          "output_type": "stream",
          "text": [
            "Данные в столбце 'Образование и ВУЗ'\n",
            "Максимальное значение количества слов в ячейке: 4304\n",
            "25й перцентиль: 12\n",
            "Среднее значение 47\n",
            "75й перцентиль: 25\n",
            "Медиана: 17\n"
          ],
          "name": "stdout"
        }
      ]
    },
    {
      "cell_type": "markdown",
      "metadata": {
        "hidden": true,
        "id": "LuW0FZ0HRyS3",
        "colab_type": "text"
      },
      "source": [
        "Используем отсечку числа слов, читаемых из ячеек, равным 75му перцентилю"
      ]
    },
    {
      "cell_type": "code",
      "metadata": {
        "hidden": true,
        "id": "TN9c8RGGRyS3",
        "colab_type": "code",
        "colab": {
          "base_uri": "https://localhost:8080/"
        },
        "outputId": "8efccb3a-c741-4f85-860d-bc37871fb2af"
      },
      "source": [
        "# Расчет по столбцу 'Образование и ВУЗ'\n",
        "def getXTrainEdu_(values):\n",
        "    xTrainEdu = []\n",
        "\n",
        "    for val in values:\n",
        "        currText = \"\"\n",
        "        if (type(val[9]) != float):\n",
        "            currText += ' '.join(re.findall(r'\\w+',val[9])[:45])\n",
        "\n",
        "        # Проверяем, если есть данные о зарплате\n",
        "        if (getParameterSalary(val[1]) != -1):\n",
        "            xTrainEdu.append(currText)\n",
        "\n",
        "    xTrainEdu = np.array(xTrainEdu)\n",
        "\n",
        "    return xTrainEdu\n",
        "\n",
        "\n",
        "print('Получение xTrainEdu01')\n",
        "xTrainEdu = getXTrainEdu_(fixed_df.values)\n",
        "tokenizer = Tokenizer(num_words=maxWordsCount,\n",
        "                      filters='!\"#$%&()*+,-–—./:;<=>?@[\\\\]^_`{|}~\\t\\n\\xa0',\n",
        "                      lower=True,\n",
        "                      split=' ',\n",
        "                      oov_token='<unk>',\n",
        "                      char_level=False)\n",
        "tokenizer.fit_on_texts(xTrainEdu)\n",
        "print('Максимальное количество слов в резюме в столбце \\'Образование и ВУЗ\\':',max([len(prof.split()) for prof in xTrainEdu]))\n",
        "uniqueWords = len(tokenizer.word_index)\n",
        "print('Число уникальных слов в столбце \\'Образование и ВУЗ\\':',uniqueWords)\n",
        "meanFreqWords = int(np.mean([v for v in tokenizer.word_counts.values()]))\n",
        "print('Число самых частотных слов, имеющих половину частоты встречаемости:',meanFreqWords)"
      ],
      "execution_count": null,
      "outputs": [
        {
          "output_type": "stream",
          "text": [
            "Получение xTrainEdu01\n",
            "Максимальное количество слов в резюме в столбце 'Образование и ВУЗ': 45\n",
            "Число уникальных слов в столбце 'Образование и ВУЗ': 24457\n",
            "Число самых частотных слов, имеющих половину частоты встречаемости: 51\n"
          ],
          "name": "stdout"
        }
      ]
    },
    {
      "cell_type": "markdown",
      "metadata": {
        "hidden": true,
        "id": "EmTeY8nBRyS4",
        "colab_type": "text"
      },
      "source": [
        "Используем 10% словаря токенайзера для экспериментов"
      ]
    },
    {
      "cell_type": "code",
      "metadata": {
        "hidden": true,
        "id": "6_fhV-x3RyS5",
        "colab_type": "code",
        "colab": {}
      },
      "source": [
        "tokenizer = Tokenizer(num_words=uniqueWords//10,\n",
        "                      filters='!\"#$%&()*+,-–—./:;<=>?@[\\\\]^_`{|}~\\t\\n\\xa0',\n",
        "                      lower=True,\n",
        "                      split=' ',\n",
        "                      oov_token='<unk>',\n",
        "                      char_level=False)\n",
        "tokenizer.fit_on_texts(xTrainEdu)\n",
        "#xTrainEduIndexes = tokenizer.texts_to_sequences(xTrainEdu)\n",
        "xTrainEdu01 = tokenizer.texts_to_matrix(xTrainEdu)"
      ],
      "execution_count": null,
      "outputs": []
    },
    {
      "cell_type": "markdown",
      "metadata": {
        "heading_collapsed": true,
        "id": "uDMTuZtERyS6",
        "colab_type": "text"
      },
      "source": [
        "### Столбцы 'Ищет работу на должность:' и 'Последенее/нынешнее место работы'"
      ]
    },
    {
      "cell_type": "code",
      "metadata": {
        "hidden": true,
        "id": "Wj65fkcPRyS6",
        "colab_type": "code",
        "colab": {
          "base_uri": "https://localhost:8080/",
          "height": 102
        },
        "outputId": "8228a76f-36ad-4b6c-9e91-29f77889bddc"
      },
      "source": [
        "print('Данные в столбце \\'Ищет работу на должность:\\'')\n",
        "vacFindLens = [len(cell.split()) for cell in fixed_df['Ищет работу на должность:']]\n",
        "print('Максимальное значение количества слов в ячейке:',np.max(vacFindLens))\n",
        "print('Среднее значение',int(np.mean(vacFindLens)))\n",
        "print('75й перцентиль:',int(np.percentile(vacFindLens, 75)))\n",
        "print('Медиана',int(np.median(vacFindLens)))"
      ],
      "execution_count": null,
      "outputs": [
        {
          "output_type": "stream",
          "text": [
            "Данные в столбце 'Ищет работу на должность:'\n",
            "Максимальное значение количества слов в ячейке: 17\n",
            "Среднее значение 2\n",
            "75й перцентиль: 4\n",
            "Медиана 2\n"
          ],
          "name": "stdout"
        }
      ]
    },
    {
      "cell_type": "code",
      "metadata": {
        "hidden": true,
        "id": "qPwkVakLRyS8",
        "colab_type": "code",
        "colab": {
          "base_uri": "https://localhost:8080/",
          "height": 102
        },
        "outputId": "afb73a9e-6336-49e3-af5e-1520eb5a95a2"
      },
      "source": [
        "print('Данные в столбце \\'Последенее/нынешнее место работы\\'')\n",
        "vacLastCurLens = [len(cell.split()) for cell in fixed_df['Последенее/нынешнее место работы']]\n",
        "print('Максимальное значение количества слов в ячейке:',np.max(vacLastCurLens))\n",
        "print('Среднее значение',int(np.mean(vacLastCurLens)))\n",
        "print('75й перцентиль:',int(np.percentile(vacLastCurLens, 75)))\n",
        "print('Медиана',int(np.median(vacLastCurLens)))"
      ],
      "execution_count": null,
      "outputs": [
        {
          "output_type": "stream",
          "text": [
            "Данные в столбце 'Последенее/нынешнее место работы'\n",
            "Максимальное значение количества слов в ячейке: 34\n",
            "Среднее значение 2\n",
            "75й перцентиль: 3\n",
            "Медиана 2\n"
          ],
          "name": "stdout"
        }
      ]
    },
    {
      "cell_type": "code",
      "metadata": {
        "hidden": true,
        "id": "Fjr5ev0KRyS_",
        "colab_type": "code",
        "colab": {
          "base_uri": "https://localhost:8080/",
          "height": 85
        },
        "outputId": "c9752153-f3c1-430a-f548-8fca68b67625"
      },
      "source": [
        "# Расчет по профессии (столбцы 'Ищет работу на должность:' и 'Последенее/нынешнее место работы')\n",
        "def getXTrainTProf_(values):\n",
        "    xTrainTProf = []\n",
        "\n",
        "    for val in values:\n",
        "        currText = \"\"\n",
        "        if (type(val[3]) != float):\n",
        "            currText += val[2]\n",
        "        if (type(val[7]) != float):\n",
        "            currText += \" \" + val[7]\n",
        "\n",
        "        # Проверяем, если есть данные о зарплате\n",
        "        if (getParameterSalary(val[1]) != -1):\n",
        "            xTrainTProf.append(currText)\n",
        "\n",
        "    xTrainTProf = np.array(xTrainTProf)\n",
        "\n",
        "    return xTrainTProf\n",
        "\n",
        "\n",
        "\n",
        "print('Получение xTrainProf01')\n",
        "xTrainTProf = getXTrainTProf_(fixed_df.values)\n",
        "tokenizer = Tokenizer(num_words=maxWordsCount,\n",
        "                      filters='!\"#$%&()*+,-–—./:;<=>?@[\\\\]^_`{|}~\\t\\n\\xa0',\n",
        "                      lower=True,\n",
        "                      split=' ',\n",
        "                      oov_token='<unk>',\n",
        "                      char_level=False)\n",
        "tokenizer.fit_on_texts(xTrainTProf)\n",
        "print('Максимальное количество слов в резюме в суммированных столбцах:',max([len(prof.split()) for prof in xTrainTProf]))\n",
        "uniqueWords = len(tokenizer.word_index)\n",
        "print('Число уникальных слов в суммированных столбцах:',uniqueWords)\n",
        "meanFreqWords = int(np.mean([v for v in tokenizer.word_counts.values()]))\n",
        "print('Число самых частотных слов, имеющих половину частоты встречаемости:',meanFreqWords)"
      ],
      "execution_count": null,
      "outputs": [
        {
          "output_type": "stream",
          "text": [
            "Получение xTrainProf01\n",
            "Максимальное количество слов в резюме в суммированных столбцах: 38\n",
            "Число уникальных слов в суммированных столбцах: 32086\n",
            "Число самых частотных слов, имеющих половину частоты встречаемости: 11\n"
          ],
          "name": "stdout"
        }
      ]
    },
    {
      "cell_type": "markdown",
      "metadata": {
        "hidden": true,
        "id": "93gxb8k2RyTD",
        "colab_type": "text"
      },
      "source": [
        "Используем 10% словаря токенайзера для экспериментов"
      ]
    },
    {
      "cell_type": "code",
      "metadata": {
        "hidden": true,
        "id": "fAX96n2zRyTD",
        "colab_type": "code",
        "colab": {}
      },
      "source": [
        "tokenizer = Tokenizer(num_words=uniqueWords//10,\n",
        "                      filters='!\"#$%&()*+,-–—./:;<=>?@[\\\\]^_`{|}~\\t\\n\\xa0',\n",
        "                      lower=True,\n",
        "                      split=' ',\n",
        "                      oov_token='<unk>',\n",
        "                      char_level=False)\n",
        "tokenizer.fit_on_texts(xTrainTProf)\n",
        "#xTrainProfIndexes = tokenizer.texts_to_sequences(xTrainTProf)\n",
        "xTrainProf01 = tokenizer.texts_to_matrix(xTrainTProf)"
      ],
      "execution_count": null,
      "outputs": []
    },
    {
      "cell_type": "markdown",
      "metadata": {
        "heading_collapsed": true,
        "id": "XnErdpd5RyTE",
        "colab_type": "text"
      },
      "source": [
        "### Столбец 'Последеняя/нынешняя должность'"
      ]
    },
    {
      "cell_type": "code",
      "metadata": {
        "hidden": true,
        "id": "bmqcr4x-RyTE",
        "colab_type": "code",
        "colab": {
          "base_uri": "https://localhost:8080/",
          "height": 102
        },
        "outputId": "c8c02f7f-7518-4fbb-eacf-b4023c6b68d6"
      },
      "source": [
        "print('Данные в столбце \\'Последеняя/нынешняя должность\\'')\n",
        "vacLens = [len(str(cell).split()) for cell in fixed_df['Последеняя/нынешняя должность']]\n",
        "print('Максимальное значение количества слов в ячейке:',np.max(vacLens))\n",
        "print('Среднее значение',int(np.mean(vacLens)))\n",
        "print('75й перцентиль:',int(np.percentile(vacLens, 75)))\n",
        "print('Медиана',int(np.median(vacLens)))"
      ],
      "execution_count": null,
      "outputs": [
        {
          "output_type": "stream",
          "text": [
            "Данные в столбце 'Последеняя/нынешняя должность'\n",
            "Максимальное значение количества слов в ячейке: 31\n",
            "Среднее значение 2\n",
            "75й перцентиль: 4\n",
            "Медиана 2\n"
          ],
          "name": "stdout"
        }
      ]
    },
    {
      "cell_type": "code",
      "metadata": {
        "code_folding": [
          0
        ],
        "hidden": true,
        "id": "prqSocz6RyTG",
        "colab_type": "code",
        "colab": {
          "base_uri": "https://localhost:8080/",
          "height": 85
        },
        "outputId": "2edc4a15-40d6-42cd-c68d-607d186c9362"
      },
      "source": [
        "# Расчет по столбцу 'Последеняя/нынешняя должность'\n",
        "def getXTrainCurPos_(values):\n",
        "    xTrainCurPos = []\n",
        "\n",
        "    for val in values:\n",
        "        currText = \"\"\n",
        "        if (type(val[8]) != float):\n",
        "            currText += val[8]\n",
        "\n",
        "        # Проверяем, если есть данные о зарплате\n",
        "        if (getParameterSalary(val[1]) != -1):\n",
        "            xTrainCurPos.append(currText)\n",
        "\n",
        "    xTrainCurPos = np.array(xTrainCurPos)\n",
        "\n",
        "    return xTrainCurPos\n",
        "\n",
        "\n",
        "print('Получение xTrainCurPos01')\n",
        "xTrainCurPos = getXTrainCurPos_(fixed_df.values)\n",
        "tokenizer = Tokenizer(num_words=maxWordsCount,\n",
        "                      filters='!\"#$%&()*+,-–—./:;<=>?@[\\\\]^_`{|}~\\t\\n\\xa0',\n",
        "                      lower=True,\n",
        "                      split=' ',\n",
        "                      oov_token='<unk>',\n",
        "                      char_level=False)\n",
        "tokenizer.fit_on_texts(xTrainCurPos)\n",
        "print('Максимальное количество слов в резюме в столбце \\'Последеняя/нынешняя должность\\':',max([len(prof.split()) for prof in xTrainCurPos]))\n",
        "uniqueWords = len(tokenizer.word_index)\n",
        "print('Число уникальных слов в столбце \\'Последеняя/нынешняя должность\\':',uniqueWords)\n",
        "meanFreqWords = int(np.mean([v for v in tokenizer.word_counts.values()]))\n",
        "print('Число самых частотных слов, имеющих половину частоты встречаемости:',meanFreqWords)"
      ],
      "execution_count": null,
      "outputs": [
        {
          "output_type": "stream",
          "text": [
            "Получение xTrainCurPos01\n",
            "Максимальное количество слов в резюме в столбце 'Последеняя/нынешняя должность': 31\n",
            "Число уникальных слов в столбце 'Последеняя/нынешняя должность': 7854\n",
            "Число самых частотных слов, имеющих половину частоты встречаемости: 25\n"
          ],
          "name": "stdout"
        }
      ]
    },
    {
      "cell_type": "markdown",
      "metadata": {
        "hidden": true,
        "id": "H5m3RKR2RyTH",
        "colab_type": "text"
      },
      "source": [
        "Используем 10% словаря токенайзера для экспериментов"
      ]
    },
    {
      "cell_type": "code",
      "metadata": {
        "hidden": true,
        "id": "S1ERkqvTRyTH",
        "colab_type": "code",
        "colab": {}
      },
      "source": [
        "tokenizer = Tokenizer(num_words=uniqueWords//10,\n",
        "                      filters='!\"#$%&()*+,-–—./:;<=>?@[\\\\]^_`{|}~\\t\\n\\xa0',\n",
        "                      lower=True,\n",
        "                      split=' ',\n",
        "                      oov_token='<unk>',\n",
        "                      char_level=False)\n",
        "tokenizer.fit_on_texts(xTrainCurPos)\n",
        "#xTrainCurPosIndexes = tokenizer.texts_to_sequences(xTrainCurPos)\n",
        "xTrainCurPos01 = tokenizer.texts_to_matrix(xTrainCurPos)"
      ],
      "execution_count": null,
      "outputs": []
    },
    {
      "cell_type": "markdown",
      "metadata": {
        "heading_collapsed": true,
        "id": "85wMpzpuRyTJ",
        "colab_type": "text"
      },
      "source": [
        "### Размерности входов"
      ]
    },
    {
      "cell_type": "code",
      "metadata": {
        "hidden": true,
        "id": "WXHlLZUPRyTK",
        "colab_type": "code",
        "colab": {
          "base_uri": "https://localhost:8080/",
          "height": 102
        },
        "outputId": "442364f5-9e75-423b-e41a-d1d38b58335d"
      },
      "source": [
        "print(xTrain01.shape[1])\n",
        "print(xTrainProf01.shape[1])\n",
        "print(xTrainRez01.shape[1])\n",
        "print(xTrainCurPos01.shape[1])\n",
        "print(xTrainEdu01.shape[1])"
      ],
      "execution_count": null,
      "outputs": [
        {
          "output_type": "stream",
          "text": [
            "38\n",
            "3208\n",
            "6490\n",
            "785\n",
            "2445\n"
          ],
          "name": "stdout"
        }
      ]
    },
    {
      "cell_type": "markdown",
      "metadata": {
        "id": "ylNC75qYRyTL",
        "colab_type": "text"
      },
      "source": [
        "# Создание Нейросети"
      ]
    },
    {
      "cell_type": "code",
      "metadata": {
        "id": "dXQ0kyxHDDB9",
        "colab_type": "code",
        "colab": {
          "base_uri": "https://localhost:8080/",
          "height": 34
        },
        "outputId": "a8374328-8283-4fba-9300-daadc16aba84"
      },
      "source": [
        "import gc\n",
        "gc.collect()"
      ],
      "execution_count": null,
      "outputs": [
        {
          "output_type": "execute_result",
          "data": {
            "text/plain": [
              "0"
            ]
          },
          "metadata": {
            "tags": []
          },
          "execution_count": 52
        }
      ]
    },
    {
      "cell_type": "code",
      "metadata": {
        "code_folding": [],
        "id": "p54Vjz5lRyTL",
        "colab_type": "code",
        "colab": {
          "base_uri": "https://localhost:8080/",
          "height": 942
        },
        "outputId": "8d818cf0-c1fe-41b1-836b-20c2f046d919"
      },
      "source": [
        "# Используем все входы.\n",
        "\n",
        "valSplit = 60000\n",
        "\n",
        "\n",
        "neyronsNum = [[100, 10, 5, 1], [100, 10, 5, 1], [100, 10, 5, 1],\n",
        "              [100, 10, 5, 1]]\n",
        "\n",
        "input1 = Input((xTrain01.shape[1], ))\n",
        "input2 = Input((xTrainProf01.shape[1], ))\n",
        "input3 = Input((xTrainRez01.shape[1], ))\n",
        "input4 = Input((xTrainCurPos01.shape[1], ))\n",
        "input5 = Input((xTrainEdu01.shape[1], ))\n",
        "\n",
        "x1 = BatchNormalization()(input1)\n",
        "x1 = Dropout(0.5)(x1)\n",
        "x1 = Dense(200, activation=\"relu\")(x1)\n",
        "x1 = Dense(800, activation=\"relu\")(x1)\n",
        "x1 = Dense(100, activation=\"relu\")(x1)\n",
        "x1 = Dense(1, activation='linear')(x1)\n",
        "\n",
        "x2 = Dense(neyronsNum[0][0], activation=\"relu\")(input2)\n",
        "#x2 = BatchNormalization()(x2)\n",
        "x2 = Dense(neyronsNum[0][1], activation=\"tanh\")(x2)\n",
        "x2 = Dense(neyronsNum[0][2], activation=\"relu\")(x2)\n",
        "x2 = Dense(neyronsNum[0][3], activation='linear')(x2)\n",
        "\n",
        "x3 = Dense(neyronsNum[1][0], activation=\"relu\")(input3)\n",
        "#x3 = BatchNormalization()(x3)\n",
        "x3 = Dense(neyronsNum[1][1], activation=\"tanh\")(x3)\n",
        "x3 = Dense(neyronsNum[1][2], activation=\"relu\")(x3)\n",
        "x3 = Dense(neyronsNum[1][3], activation='linear')(x3)\n",
        "\n",
        "x4 = Dense(neyronsNum[2][0], activation=\"relu\")(input4)\n",
        "#x4 = BatchNormalization()(x4)\n",
        "x4 = Dense(neyronsNum[2][1], activation=\"tanh\")(x4)\n",
        "x4 = Dense(neyronsNum[2][2], activation=\"relu\")(x4)\n",
        "x4 = Dense(neyronsNum[2][3], activation='linear')(x4)\n",
        "\n",
        "x5 = Dense(neyronsNum[3][0], activation=\"relu\")(input5)\n",
        "#x5 = BatchNormalization()(x5)\n",
        "x5 = Dense(neyronsNum[3][1], activation=\"tanh\")(x5)\n",
        "x5 = Dense(neyronsNum[3][2], activation=\"relu\")(x5)\n",
        "x5 = Dense(neyronsNum[3][3], activation='linear')(x5)\n",
        "\n",
        "x = add([x1, x2, x3, x4, x5])\n",
        "\n",
        "x = Dense(5, activation='linear')(x)\n",
        "x = Dense(1, activation='linear')(x)\n",
        "\n",
        "yScaler = StandardScaler()\n",
        "yScaler.fit(yTrain.reshape(-1, 1))\n",
        "yTrainScaled = yScaler.transform(yTrain.reshape(-1, 1))\n",
        "\n",
        "model9 = Model((input1, input2, input3, input4, input5), x)\n",
        "\n",
        "model9.compile(optimizer=Adam(lr=1e-3), loss='mse', metrics=['mae'])\n",
        "utils.plot_model(model9, show_shapes=True)"
      ],
      "execution_count": null,
      "outputs": [
        {
          "output_type": "execute_result",
          "data": {
            "image/png": "[encoded data removed]",
            "text/plain": [
              "<IPython.core.display.Image object>"
            ]
          },
          "metadata": {
            "tags": []
          },
          "execution_count": 53
        }
      ]
    },
    {
      "cell_type": "code",
      "metadata": {
        "id": "AxVQmv1UFh5v",
        "colab_type": "code",
        "colab": {
          "base_uri": "https://localhost:8080/",
          "height": 357
        },
        "outputId": "11540a73-26d4-4707-d893-0b24a19dbca3"
      },
      "source": [
        "history9 = model9.fit([\n",
        "    xTrain01[:valSplit], xTrainProf01[:valSplit], xTrainRez01[:valSplit],\n",
        "    xTrainCurPos01[:valSplit], xTrainEdu01[:valSplit]\n",
        "],\n",
        "                      yTrainScaled[:valSplit],\n",
        "                      epochs=10,\n",
        "                      validation_data=([\n",
        "                          xTrain01[valSplit:], xTrainProf01[valSplit:],\n",
        "                          xTrainRez01[valSplit:], xTrainCurPos01[valSplit:],\n",
        "                          xTrainEdu01[valSplit:]\n",
        "                      ], yTrainScaled[valSplit:]),\n",
        "                      verbose=1,\n",
        "                      shuffle=True)"
      ],
      "execution_count": null,
      "outputs": [
        {
          "output_type": "stream",
          "text": [
            "Epoch 1/10\n",
            "1875/1875 [==============================] - 8s 4ms/step - loss: 0.8622 - mae: 0.1981 - val_loss: 0.0985 - val_mae: 0.2029\n",
            "Epoch 2/10\n",
            "1875/1875 [==============================] - 8s 4ms/step - loss: 0.8165 - mae: 0.1550 - val_loss: 0.0750 - val_mae: 0.1721\n",
            "Epoch 3/10\n",
            "1875/1875 [==============================] - 8s 4ms/step - loss: 0.7909 - mae: 0.1306 - val_loss: 0.0686 - val_mae: 0.1607\n",
            "Epoch 4/10\n",
            "1875/1875 [==============================] - 8s 4ms/step - loss: 0.7674 - mae: 0.1148 - val_loss: 0.0675 - val_mae: 0.1533\n",
            "Epoch 5/10\n",
            "1875/1875 [==============================] - 8s 4ms/step - loss: 0.7428 - mae: 0.1087 - val_loss: 0.0655 - val_mae: 0.1524\n",
            "Epoch 6/10\n",
            "1875/1875 [==============================] - 8s 4ms/step - loss: 0.7173 - mae: 0.1038 - val_loss: 0.0715 - val_mae: 0.1580\n",
            "Epoch 7/10\n",
            "1875/1875 [==============================] - 8s 4ms/step - loss: 0.6801 - mae: 0.0966 - val_loss: 0.1024 - val_mae: 0.1911\n",
            "Epoch 8/10\n",
            "1875/1875 [==============================] - 8s 4ms/step - loss: 0.6325 - mae: 0.0995 - val_loss: 0.0642 - val_mae: 0.1455\n",
            "Epoch 9/10\n",
            "1875/1875 [==============================] - 8s 4ms/step - loss: 0.6102 - mae: 0.0898 - val_loss: 0.0682 - val_mae: 0.1454\n",
            "Epoch 10/10\n",
            "1875/1875 [==============================] - 8s 4ms/step - loss: 0.5715 - mae: 0.0824 - val_loss: 0.0664 - val_mae: 0.1421\n"
          ],
          "name": "stdout"
        }
      ]
    },
    {
      "cell_type": "code",
      "metadata": {
        "id": "j2A5yiCwRyTN",
        "colab_type": "code",
        "colab": {
          "base_uri": "https://localhost:8080/",
          "height": 279
        },
        "outputId": "49dba953-9a18-4516-bb40-7c6b73120ccf"
      },
      "source": [
        "# Графики\n",
        "plotDraw(history9)"
      ],
      "execution_count": null,
      "outputs": [
        {
          "output_type": "display_data",
          "data": {
            "image/png": "[encoded data removed]",
            "text/plain": [
              "<Figure size 432x288 with 1 Axes>"
            ]
          },
          "metadata": {
            "tags": [],
            "needs_background": "light"
          }
        }
      ]
    },
    {
      "cell_type": "code",
      "metadata": {
        "id": "s1RwzGo2RyTQ",
        "colab_type": "code",
        "colab": {
          "base_uri": "https://localhost:8080/",
          "height": 357
        },
        "outputId": "c5d42375-8bd5-4969-a958-82c1330a1c35"
      },
      "source": [
        "# дообучение\n",
        "model9.compile(optimizer=Adam(lr=5e-5), loss='mse', metrics=['mae'])\n",
        "\n",
        "history9 = model9.fit([\n",
        "    xTrain01[:valSplit], xTrainProf01[:valSplit], xTrainRez01[:valSplit],\n",
        "    xTrainCurPos01[:valSplit], xTrainEdu01[:valSplit]\n",
        "],\n",
        "                      yTrainScaled[:valSplit],\n",
        "                      epochs=10,\n",
        "                      validation_data=([\n",
        "                          xTrain01[valSplit:], xTrainProf01[valSplit:],\n",
        "                          xTrainRez01[valSplit:], xTrainCurPos01[valSplit:],\n",
        "                          xTrainEdu01[valSplit:]\n",
        "                      ], yTrainScaled[valSplit:]),\n",
        "                      verbose=1,\n",
        "                      shuffle=True)"
      ],
      "execution_count": null,
      "outputs": [
        {
          "output_type": "stream",
          "text": [
            "Epoch 1/10\n",
            "1875/1875 [==============================] - 8s 4ms/step - loss: 0.4838 - mae: 0.0257 - val_loss: 0.0617 - val_mae: 0.1199\n",
            "Epoch 2/10\n",
            "1875/1875 [==============================] - 8s 4ms/step - loss: 0.4829 - mae: 0.0241 - val_loss: 0.0624 - val_mae: 0.1194\n",
            "Epoch 3/10\n",
            "1875/1875 [==============================] - 8s 4ms/step - loss: 0.4793 - mae: 0.0227 - val_loss: 0.0623 - val_mae: 0.1193\n",
            "Epoch 4/10\n",
            "1875/1875 [==============================] - 8s 4ms/step - loss: 0.4753 - mae: 0.0215 - val_loss: 0.0622 - val_mae: 0.1210\n",
            "Epoch 5/10\n",
            "1875/1875 [==============================] - 8s 4ms/step - loss: 0.4718 - mae: 0.0211 - val_loss: 0.0623 - val_mae: 0.1187\n",
            "Epoch 6/10\n",
            "1875/1875 [==============================] - 8s 4ms/step - loss: 0.4688 - mae: 0.0204 - val_loss: 0.0625 - val_mae: 0.1183\n",
            "Epoch 7/10\n",
            "1875/1875 [==============================] - 8s 4ms/step - loss: 0.4661 - mae: 0.0196 - val_loss: 0.0622 - val_mae: 0.1183\n",
            "Epoch 8/10\n",
            "1875/1875 [==============================] - 8s 4ms/step - loss: 0.4632 - mae: 0.0188 - val_loss: 0.0627 - val_mae: 0.1188\n",
            "Epoch 9/10\n",
            "1875/1875 [==============================] - 9s 5ms/step - loss: 0.4605 - mae: 0.0186 - val_loss: 0.0622 - val_mae: 0.1175\n",
            "Epoch 10/10\n",
            "1875/1875 [==============================] - 8s 4ms/step - loss: 0.4583 - mae: 0.0177 - val_loss: 0.0632 - val_mae: 0.1185\n"
          ],
          "name": "stdout"
        }
      ]
    },
    {
      "cell_type": "code",
      "metadata": {
        "id": "lP964wRcRyTS",
        "colab_type": "code",
        "colab": {
          "base_uri": "https://localhost:8080/",
          "height": 279
        },
        "outputId": "b66335ff-d9f6-4aa3-b852-2aadc3b0d5e7"
      },
      "source": [
        "# Графики\n",
        "plotDraw(history9)"
      ],
      "execution_count": null,
      "outputs": [
        {
          "output_type": "display_data",
          "data": {
            "image/png": "[encoded data removed]",
            "text/plain": [
              "<Figure size 432x288 with 1 Axes>"
            ]
          },
          "metadata": {
            "tags": [],
            "needs_background": "light"
          }
        }
      ]
    },
    {
      "cell_type": "code",
      "metadata": {
        "id": "lhfmas_vRyTU",
        "colab_type": "code",
        "colab": {}
      },
      "source": [
        "# Сравнение предсказаний моделей\n",
        "comparePredY(model9,[xTrain01, xTrainProf01, xTrainRez01, xTrainCurPos01, xTrainEdu01], yTrain)"
      ],
      "execution_count": null,
      "outputs": []
    },
    {
      "cell_type": "markdown",
      "metadata": {
        "id": "L1XDWkBSd4ND",
        "colab_type": "text"
      },
      "source": [
        "![Результат работы НС](https://fs-th02.getcourse.ru/fileservice/file/thumbnail/h/cdba1211a7993027a5c26b521fc7f1e7.png/s/fx/a/84670/sc/179)"
      ]
    },
    {
      "cell_type": "markdown",
      "metadata": {
        "id": "6YQEucJZQVji",
        "colab_type": "text"
      },
      "source": [
        "# **Сеть показывает прекрасные результаты**"
      ]
    }
  ]
}
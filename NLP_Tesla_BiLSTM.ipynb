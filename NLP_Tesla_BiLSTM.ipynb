{
  "nbformat": 4,
  "nbformat_minor": 0,
  "metadata": {
    "colab": {
      "name": "NLP_Tesla_BiLSTM.ipynb",
      "provenance": [],
      "collapsed_sections": [
        "RSCnFLlBgOKT",
        "xywhjKtDRXqa"
      ],
      "include_colab_link": true
    },
    "kernelspec": {
      "name": "python3",
      "display_name": "Python 3"
    },
    "accelerator": "GPU"
  },
  "cells": [
    {
      "cell_type": "markdown",
      "metadata": {
        "id": "view-in-github",
        "colab_type": "text"
      },
      "source": [
        "<a href=\"https://colab.research.google.com/github/Gorodecki/Projects/blob/master/NLP_Tesla_BiLSTM.ipynb\" target=\"_parent\"><img src=\"https://colab.research.google.com/assets/colab-badge.svg\" alt=\"Open In Colab\"/></a>"
      ]
    },
    {
      "cell_type": "markdown",
      "metadata": {
        "id": "rcLYs4NDcSnK",
        "colab_type": "text"
      },
      "source": [
        "# Отслеживание окраски отзывов на примере автомобиля Тесла"
      ]
    },
    {
      "cell_type": "code",
      "metadata": {
        "id": "1yp3Hnkt9bDa",
        "colab_type": "code",
        "colab": {}
      },
      "source": [
        "import numpy as np\n",
        "import pandas as pd\n",
        "\n",
        "from tensorflow.keras.layers import Dense, SimpleRNN, Concatenate, Input, concatenate, LSTM, Embedding, BatchNormalization, Dropout, Bidirectional, GlobalMaxPool1D\n",
        "from tensorflow.keras.models import Model, Sequential\n",
        "from tensorflow.keras.optimizers import Adam\n",
        "from tensorflow.keras.metrics import AUC\n",
        "from tensorflow.keras.preprocessing.text import Tokenizer\n",
        "from tensorflow.keras.utils import to_categorical, plot_model\n",
        "from tensorflow.keras.preprocessing.sequence import pad_sequences\n",
        "from sklearn.model_selection import train_test_split\n",
        "from tensorflow.keras.callbacks import EarlyStopping\n",
        "\n",
        "import io\n",
        "import re\n",
        "from google.colab import drive\n",
        "import sklearn\n",
        "from sklearn.metrics import roc_curve, auc\n",
        "import matplotlib.pyplot as plt\n",
        "colors = plt.rcParams['axes.prop_cycle'].by_key()['color']\n",
        "%matplotlib inline"
      ],
      "execution_count": null,
      "outputs": []
    },
    {
      "cell_type": "code",
      "metadata": {
        "id": "Zj3NPCtS9n86",
        "colab_type": "code",
        "colab": {}
      },
      "source": [
        "drive.mount('/content/drive')\n",
        "%cd '/content/drive/My Drive/Colab Notebooks/NLP course/Данные/'\n",
        "!ls"
      ],
      "execution_count": null,
      "outputs": []
    },
    {
      "cell_type": "markdown",
      "metadata": {
        "id": "RSCnFLlBgOKT",
        "colab_type": "text"
      },
      "source": [
        "# Парсим отзывы про Тесла"
      ]
    },
    {
      "cell_type": "code",
      "metadata": {
        "id": "Xh97-tC0Scyc",
        "colab_type": "code",
        "colab": {}
      },
      "source": [
        "import xml.etree.ElementTree as ET"
      ],
      "execution_count": null,
      "outputs": []
    },
    {
      "cell_type": "code",
      "metadata": {
        "id": "IMvE9uSvScyd",
        "colab_type": "code",
        "colab": {}
      },
      "source": [
        "color_meaning = {'00ff00':'сравнение', '00ffff':'дальность', '9900ff':'эмоции', 'ff00ff':'комфорт', 'ffff00':'скорость',\n",
        "                'green':'сравнение', 'yellow':'скорость', 'cyan':'дальность', 'magenta':'комфорт'} #создаем словарь соответствий цвет-значение"
      ],
      "execution_count": null,
      "outputs": []
    },
    {
      "cell_type": "code",
      "metadata": {
        "id": "JaRdLrkiScyg",
        "colab_type": "code",
        "colab": {}
      },
      "source": [
        "#названия необходимых тегов\n",
        "r = '{http://schemas.openxmlformats.org/wordprocessingml/2006/main}r'\n",
        "rpr = '{http://schemas.openxmlformats.org/wordprocessingml/2006/main}rPr'\n",
        "t = '{http://schemas.openxmlformats.org/wordprocessingml/2006/main}t'\n",
        "shd = '{http://schemas.openxmlformats.org/wordprocessingml/2006/main}shd'\n",
        "fill = '{http://schemas.openxmlformats.org/wordprocessingml/2006/main}fill'\n",
        "highlight = '{http://schemas.openxmlformats.org/wordprocessingml/2006/main}highlight'\n",
        "val = '{http://schemas.openxmlformats.org/wordprocessingml/2006/main}val'"
      ],
      "execution_count": null,
      "outputs": []
    },
    {
      "cell_type": "code",
      "metadata": {
        "id": "OeZvSQE76IXX",
        "colab_type": "code",
        "colab": {}
      },
      "source": [
        "#парсим tesla_1\n",
        "tree = ET.parse('tesla_1.xml')\n",
        "root = tree.getroot()\n",
        "body = root[0]\n",
        "ps1 = list(iter(body))[:2497]"
      ],
      "execution_count": null,
      "outputs": []
    },
    {
      "cell_type": "code",
      "metadata": {
        "id": "4t_xXSDWScyh",
        "colab_type": "code",
        "colab": {}
      },
      "source": [
        "#парсим tesla_2\n",
        "tree = ET.parse('tesla_2.xml') #открываем xml файл\n",
        "root = tree.getroot() #находим корень\n",
        "body = root[0]\n",
        "ps2 = list(iter(body))[:2481] #получаем список всех отзывов"
      ],
      "execution_count": null,
      "outputs": []
    },
    {
      "cell_type": "code",
      "metadata": {
        "id": "tGhEjmz_IiqP",
        "colab_type": "code",
        "colab": {
          "base_uri": "https://localhost:8080/",
          "height": 51
        },
        "outputId": "c5864ed6-ec39-4a40-caf6-13c45d918c36"
      },
      "source": [
        "#Сведем все в кучу для токенайзера\n",
        "all_txt=[]\n",
        "\n",
        "for paragraph in ps1: # отзывы из 1 блока\n",
        "    phrases_list = paragraph.findall(r)\n",
        "    text=''\n",
        "    for phrase in phrases_list:\n",
        "        text+= phrase.find(t).text\n",
        "    all_txt.append(text)\n",
        "\n",
        "for paragraph in ps2: # отзывы из 2 блока\n",
        "    phrases_list = paragraph.findall(r)\n",
        "    text=''\n",
        "    for phrase in phrases_list:\n",
        "        text+= phrase.find(t).text\n",
        "    all_txt.append(text)\n",
        "\n",
        "print('Количество отзывов:', len(all_txt))\n",
        "all_txt[3]"
      ],
      "execution_count": null,
      "outputs": [
        {
          "output_type": "stream",
          "text": [
            "Количество отзывов: 4978\n"
          ],
          "name": "stdout"
        },
        {
          "output_type": "execute_result",
          "data": {
            "text/plain": [
              "'+-Машина на любителя. Назвать мягкой её сложно. Двери открывающиеся вверх неудобны.\\xa0'"
            ]
          },
          "metadata": {
            "tags": []
          },
          "execution_count": 8
        }
      ]
    },
    {
      "cell_type": "code",
      "metadata": {
        "id": "KlnIc0MKvZA7",
        "colab_type": "code",
        "colab": {}
      },
      "source": [
        "# PyMorphy используем для нормализации форм слов (чтобы не раздувать num_character, а соответственно Embedding)\n",
        "!pip install pymorphy2 \n",
        "import pymorphy2\n",
        "morph = pymorphy2.MorphAnalyzer()"
      ],
      "execution_count": null,
      "outputs": []
    },
    {
      "cell_type": "code",
      "metadata": {
        "id": "YH13Qy3TbkSn",
        "colab_type": "code",
        "colab": {}
      },
      "source": [
        "# Пересобираем текст в нормальной форме\n",
        "def morphy_clean(text):\n",
        "  '''\n",
        "  функция возвращает list слов в нормальной форме, в расчёт не берём \"NUMR - числительное, PREP - предикатив, CONJ - предлог, PRCL - союз, INTJ - частица или междометие\" \n",
        "  '''\n",
        "  for i in range(len(text)):\n",
        "    # генератор перебирает слова внутри i-го предложения, собираем через пробел в строку\n",
        "    text[i]=' '.join([morph.parse(word.replace('.',''))[0].normal_form for word in text[i].split() if morph.parse(word.replace('.',''))[0].tag.POS not in ('NUMR','PREP','CONJ','PRCL','INTJ')])\n",
        "  return text"
      ],
      "execution_count": null,
      "outputs": []
    },
    {
      "cell_type": "code",
      "metadata": {
        "id": "SDbZirWbv5gx",
        "colab_type": "code",
        "colab": {
          "base_uri": "https://localhost:8080/",
          "height": 34
        },
        "outputId": "10c991b2-4c0a-47a5-dce1-db2c3c770787"
      },
      "source": [
        "# смешно, но как будто пишет человек иностранец, не знающий русский язык )))\n",
        "all_txt = morphy_clean(all_txt)\n",
        "all_txt[3]"
      ],
      "execution_count": null,
      "outputs": [
        {
          "output_type": "execute_result",
          "data": {
            "text/plain": [
              "'+-машина любитель назвать мягкий её сложно дверь открываться вверх неудобный'"
            ]
          },
          "metadata": {
            "tags": []
          },
          "execution_count": 11
        }
      ]
    },
    {
      "cell_type": "code",
      "metadata": {
        "id": "MEwe2k7yI_C0",
        "colab_type": "code",
        "colab": {
          "base_uri": "https://localhost:8080/",
          "height": 136
        },
        "outputId": "2f00e063-6b87-4f20-c907-4e0dbf920508"
      },
      "source": [
        "# создаем словарь частотности по всему тексту исключая знаки\n",
        "num_characters = 12000\n",
        "tokenizer = Tokenizer(num_words=num_characters, filters='!\"#$%&()*+,-./:;<=>?@[\\\\]^_`{|}~\\t\\n', oov_token='<unk>') #токенизируем на уровне слов\n",
        "tokenizer.fit_on_texts(np.array(all_txt)) #формируем токены на основе частотности в нашем тексте\n",
        "tok_ind = tokenizer.word_index # выводим сколько всего уникальных слов\n",
        "print(len(tok_ind))\n",
        "[_ for _ in tok_ind.items() if _[0] in ['машина', 'колесо', 'скорость', 'сиденье', 'спортивный', 'руль']] # генератор по словарю, по нескольким ключам"
      ],
      "execution_count": null,
      "outputs": [
        {
          "output_type": "stream",
          "text": [
            "11692\n"
          ],
          "name": "stdout"
        },
        {
          "output_type": "execute_result",
          "data": {
            "text/plain": [
              "[('машина', 3),\n",
              " ('скорость', 81),\n",
              " ('руль', 89),\n",
              " ('колесо', 172),\n",
              " ('спортивный', 908),\n",
              " ('сиденье', 3282)]"
            ]
          },
          "metadata": {
            "tags": []
          },
          "execution_count": 12
        }
      ]
    },
    {
      "cell_type": "code",
      "metadata": {
        "id": "Pr1L9JuuQDao",
        "colab_type": "code",
        "colab": {}
      },
      "source": [
        "# создаём словарь оценок\n",
        "index_color = {'сравнение':0,\n",
        "               'дальность':1,\n",
        "               'эмоции':2,\n",
        "               'комфорт':3,\n",
        "               'скорость':4}"
      ],
      "execution_count": null,
      "outputs": []
    },
    {
      "cell_type": "code",
      "metadata": {
        "id": "Mir51XmIKfjm",
        "colab_type": "code",
        "colab": {}
      },
      "source": [
        "# из текста в ворде нам необходимо выделить фразы в которых есть семантическая окраска\n",
        "Train = {}\n",
        "X_train = []\n",
        "Y_train = []"
      ],
      "execution_count": null,
      "outputs": []
    },
    {
      "cell_type": "code",
      "metadata": {
        "id": "h0IPXh60Jorq",
        "colab_type": "code",
        "colab": {}
      },
      "source": [
        "# функция парсинга текста\n",
        "def parsing_doc(doc2txt):\n",
        "  Train = {} # словарь текст-оценка\n",
        "  X_train = []\n",
        "  Y_train = []\n",
        "  semant_index = [0, 0, 0, 0, 0]\n",
        "\n",
        "  for i, paragraph in enumerate(doc2txt): #проходим по всем отзывам\n",
        "      phrases_list = paragraph.findall(r) #находим все фразы (часть отзыва) \n",
        "      \n",
        "      text_temp = ''\n",
        "      meaning_temp = ''\n",
        "      for j, phrase in enumerate(phrases_list): #проходим по всем фразам\n",
        "          \n",
        "          text = phrase.find(t).text #получаем текст, содержащийся во фразе\n",
        "          ###\n",
        "          text = ' '.join(morphy_clean(text.split(' ')))  # текст приводим к нормальной форме\n",
        "          text_temp += text\n",
        "          ###\n",
        "          style = phrase.find(rpr) #получаем стили фразы\n",
        "        \n",
        "          if style.find(shd) is not None: #если размечали через заливку\n",
        "              color = style.find(shd).attrib[fill] #получаем значение цвета заливки\n",
        "          elif style.find(highlight) is not None: #если размечали через хайлайт\n",
        "              color = style.find(highlight).attrib[val] #получаем значение цвета хайлайта\n",
        "          else:\n",
        "              color = 'white' #иных вариантов выделения в word нет, значит эта фраза не выделена (белый цвет)\n",
        "          color = color.lower() #переводим строковое значение цвета в нижний регистр\n",
        "          meaning = color_meaning[color] if color in color_meaning else '' #если есть цвет в словаре цвет-значение, то получаем значение. в противном случае у фразы значение не было выделено\n",
        "          #colors.add(color) добавляем цвет в словарь всех встреченных цветов, если нужно проанализировать их\n",
        "\n",
        "          ###\n",
        "          if meaning in index_color.keys():\n",
        "            semant_index[index_color[meaning]] = 1            \n",
        "          ###\n",
        "\n",
        "          #print(text, '[{0}]'.format(meaning))\n",
        "      X_train.append(text_temp)\n",
        "      Y_train.append(semant_index)\n",
        "\n",
        "      Train[text_temp] = semant_index\n",
        "\n",
        "      semant_index = [0, 0, 0, 0, 0]\n",
        "  return Train, X_train, Y_train"
      ],
      "execution_count": null,
      "outputs": []
    },
    {
      "cell_type": "code",
      "metadata": {
        "id": "eBkKLhgOkUqI",
        "colab_type": "code",
        "colab": {}
      },
      "source": [
        "Train, X_train, Y_train = parsing_doc(ps1)\n",
        "Train_2, X_train_2, Y_train_2 = parsing_doc(ps2)"
      ],
      "execution_count": null,
      "outputs": []
    },
    {
      "cell_type": "code",
      "metadata": {
        "id": "TSBMVgFABtvb",
        "colab_type": "code",
        "colab": {
          "base_uri": "https://localhost:8080/",
          "height": 68
        },
        "outputId": "ef81490a-91cc-4369-8001-006885c03496"
      },
      "source": [
        "# совмещаем парсинг из двух словарей\n",
        "train_all = {**Train, **Train_2}\n",
        "len(train_all)\n",
        "# на выходе получаем\n",
        "list(train_all.items())[:3]"
      ],
      "execution_count": null,
      "outputs": [
        {
          "output_type": "execute_result",
          "data": {
            "text/plain": [
              "[('+ водитель наслаждаться  такой авто  вождение', [0, 0, 1, 0, 0]),\n",
              " ('+ красивый машина нужно брать', [0, 0, 0, 1, 0]),\n",
              " ('+ тесло топ, тащиться  этот тачка', [0, 0, 1, 0, 0])]"
            ]
          },
          "metadata": {
            "tags": []
          },
          "execution_count": 17
        }
      ]
    },
    {
      "cell_type": "code",
      "metadata": {
        "id": "4Ciki8Wn54G0",
        "colab_type": "code",
        "colab": {
          "base_uri": "https://localhost:8080/",
          "height": 51
        },
        "outputId": "bd781f12-222e-4f56-eea2-e27366db9e6e"
      },
      "source": [
        "x_train_all = [x for x in train_all.keys()]\n",
        "y_train_all = [x for x in train_all.values()]\n",
        "x_train_all[3], y_train_all[3]"
      ],
      "execution_count": null,
      "outputs": [
        {
          "output_type": "execute_result",
          "data": {
            "text/plain": [
              "('+-машина  любитель назвать мягкий её сложно дверь открываться вверх неудобный',\n",
              " [0, 0, 1, 1, 0])"
            ]
          },
          "metadata": {
            "tags": []
          },
          "execution_count": 18
        }
      ]
    },
    {
      "cell_type": "markdown",
      "metadata": {
        "id": "xywhjKtDRXqa",
        "colab_type": "text"
      },
      "source": [
        "# Обработка данных"
      ]
    },
    {
      "cell_type": "code",
      "metadata": {
        "id": "GZPZrtm1pTLb",
        "colab_type": "code",
        "colab": {}
      },
      "source": [
        "def split_train_val(datax, datay, p_val=0.2):\n",
        "    n = datax.shape[0]\n",
        "    sample = np.random.choice(n, n, False)\n",
        "    n = n-int(n*p_val)\n",
        "    return datax[sample[:n]], datax[sample[n:]], datay[sample[:n]], datay[sample[n:]]"
      ],
      "execution_count": null,
      "outputs": []
    },
    {
      "cell_type": "code",
      "metadata": {
        "id": "tvx4zkHSHxVX",
        "colab_type": "code",
        "colab": {}
      },
      "source": [
        "x_train_token = np.array(tokenizer.texts_to_sequences(x_train_all))\n",
        "y_train_all = np.array(y_train_all)"
      ],
      "execution_count": null,
      "outputs": []
    },
    {
      "cell_type": "code",
      "metadata": {
        "id": "bevR0gDBJwiL",
        "colab_type": "code",
        "colab": {
          "base_uri": "https://localhost:8080/",
          "height": 68
        },
        "outputId": "9f0302b7-30ad-43a6-a4e4-52f90ecc3d67"
      },
      "source": [
        "print(x_train_token[3])\n",
        "print(y_train_all[3])\n",
        "print(x_train_token.shape, y_train_all.shape)"
      ],
      "execution_count": null,
      "outputs": [
        {
          "output_type": "stream",
          "text": [
            "[3, 585, 904, 823, 125, 553, 44, 317, 762, 627]\n",
            "[0 0 1 1 0]\n",
            "(4879,) (4879, 5)\n"
          ],
          "name": "stdout"
        }
      ]
    },
    {
      "cell_type": "code",
      "metadata": {
        "id": "Qix0jE5ajmWF",
        "colab_type": "code",
        "colab": {
          "base_uri": "https://localhost:8080/",
          "height": 34
        },
        "outputId": "7371d8e5-de46-4b6c-fa3d-13b2531d5cee"
      },
      "source": [
        "# проверим какой делать длины заполнение нулями \n",
        "count_len = [len(x) for x in x_train_token]\n",
        "print('Средняя длина предложения - {}. Минимальная длина предложения - {}. Максимальная длина предложения - {}.'.format(np.median(count_len), np.min(count_len), np.max(count_len)))"
      ],
      "execution_count": null,
      "outputs": [
        {
          "output_type": "stream",
          "text": [
            "Средняя длина предложения - 9.0. Минимальная длина предложения - 0. Максимальная длина предложения - 269.\n"
          ],
          "name": "stdout"
        }
      ]
    },
    {
      "cell_type": "code",
      "metadata": {
        "id": "4IJZSMMJkByq",
        "colab_type": "code",
        "colab": {}
      },
      "source": [
        "# заполняем нулями и обрезаем\n",
        "sent_len=25\n",
        "X_train_zero = pad_sequences(x_train_token, maxlen=sent_len, padding='post', truncating='post')"
      ],
      "execution_count": null,
      "outputs": []
    },
    {
      "cell_type": "code",
      "metadata": {
        "id": "j_3uMiFikPAr",
        "colab_type": "code",
        "colab": {
          "base_uri": "https://localhost:8080/",
          "height": 68
        },
        "outputId": "c4f51f5f-3964-41f1-843c-53b8db517756"
      },
      "source": [
        "# смотрим что получилось\n",
        "print(X_train_zero[3], X_train_zero.shape)\n",
        "print(y_train_all[3], y_train_all.shape)"
      ],
      "execution_count": null,
      "outputs": [
        {
          "output_type": "stream",
          "text": [
            "[  3 585 904 823 125 553  44 317 762 627   0   0   0   0   0   0   0   0\n",
            "   0   0   0   0   0   0   0] (4879, 25)\n",
            "[0 0 1 1 0] (4879, 5)\n"
          ],
          "name": "stdout"
        }
      ]
    },
    {
      "cell_type": "code",
      "metadata": {
        "id": "Luibn6VtkcGN",
        "colab_type": "code",
        "colab": {}
      },
      "source": [
        "#x_sem_train, x_sem_test, y_sem_train, y_sem_test = train_test_split(X_train_zero, y_train_all, test_size = 0.20, random_state = 42)"
      ],
      "execution_count": null,
      "outputs": []
    },
    {
      "cell_type": "code",
      "metadata": {
        "id": "-zTreqk2qWOy",
        "colab_type": "code",
        "colab": {}
      },
      "source": [
        "x_sem_train, x_sem_test, y_sem_train, y_sem_test = split_train_val(X_train_zero, y_train_all) # этой  функцией лучше происходит разделение"
      ],
      "execution_count": null,
      "outputs": []
    },
    {
      "cell_type": "markdown",
      "metadata": {
        "id": "esQZA8PgyIMX",
        "colab_type": "text"
      },
      "source": [
        "# Создаем нейросеть (Вариант LSTM)"
      ]
    },
    {
      "cell_type": "code",
      "metadata": {
        "id": "PcPAY80aFw1K",
        "colab_type": "code",
        "colab": {}
      },
      "source": [
        "# настройки с которыми происходили изменения, пробы, тесты\n",
        "batch_size = 64\n",
        "epochs = 100\n",
        "embedding_size = 200\n",
        "count_lstm = 50"
      ],
      "execution_count": null,
      "outputs": []
    },
    {
      "cell_type": "code",
      "metadata": {
        "colab_type": "code",
        "id": "mS5vFipVFeLD",
        "colab": {
          "base_uri": "https://localhost:8080/",
          "height": 425
        },
        "outputId": "122ff4e2-c61f-4d74-fa65-e8554501a91c"
      },
      "source": [
        "model_sem = Sequential()\n",
        "model_sem.add(Embedding(num_characters, embedding_size, input_length=sent_len))\n",
        "model_sem.add(BatchNormalization())\n",
        "model_sem.add(Bidirectional(LSTM(count_lstm, return_sequences=True)))\n",
        "model_sem.add(GlobalMaxPool1D())\n",
        "model_sem.add(Dropout(0.3))\n",
        "model_sem.add(Dense(50, activation='relu'))\n",
        "model_sem.add(Dropout(0.3))\n",
        "model_sem.add(Dense(5, activation='sigmoid')) \n",
        "\n",
        "model_sem.compile(loss='binary_crossentropy', metrics=[AUC(num_thresholds=100)], optimizer=Adam(lr=1e-4)) # было num_thresholds=200 \n",
        "model_sem.summary()"
      ],
      "execution_count": null,
      "outputs": [
        {
          "output_type": "stream",
          "text": [
            "Model: \"sequential\"\n",
            "_________________________________________________________________\n",
            "Layer (type)                 Output Shape              Param #   \n",
            "=================================================================\n",
            "embedding (Embedding)        (None, 25, 200)           2400000   \n",
            "_________________________________________________________________\n",
            "batch_normalization (BatchNo (None, 25, 200)           800       \n",
            "_________________________________________________________________\n",
            "bidirectional (Bidirectional (None, 25, 100)           100400    \n",
            "_________________________________________________________________\n",
            "global_max_pooling1d (Global (None, 100)               0         \n",
            "_________________________________________________________________\n",
            "dropout (Dropout)            (None, 100)               0         \n",
            "_________________________________________________________________\n",
            "dense (Dense)                (None, 50)                5050      \n",
            "_________________________________________________________________\n",
            "dropout_1 (Dropout)          (None, 50)                0         \n",
            "_________________________________________________________________\n",
            "dense_1 (Dense)              (None, 5)                 255       \n",
            "=================================================================\n",
            "Total params: 2,506,505\n",
            "Trainable params: 2,506,105\n",
            "Non-trainable params: 400\n",
            "_________________________________________________________________\n"
          ],
          "name": "stdout"
        }
      ]
    },
    {
      "cell_type": "code",
      "metadata": {
        "id": "Pj_adOXMJT5y",
        "colab_type": "code",
        "colab": {}
      },
      "source": [
        "# настройка CallBack - оценивает Точность Валидации, с минимальным значением среди 7 последних значений, возвращает лучшие веса\n",
        "# взял как самый простой тип остановки, в остальных надо разбираться\n",
        "early_stop = EarlyStopping(monitor='val_accuracy', patience=10, mode='max', restore_best_weights = True)\n",
        "early_stop_auc = EarlyStopping(monitor='val_auc', patience=10, mode='max', restore_best_weights = True)"
      ],
      "execution_count": null,
      "outputs": []
    },
    {
      "cell_type": "code",
      "metadata": {
        "colab_type": "code",
        "id": "Sm1thf-HFeLL",
        "colab": {
          "base_uri": "https://localhost:8080/",
          "height": 1000
        },
        "outputId": "1377d2fa-638c-4c1f-ef3e-1fb9f90261cb"
      },
      "source": [
        "view_sem = model_sem.fit(x_sem_train, y_sem_train, batch_size=batch_size, epochs=epochs, validation_split=0.2, callbacks=early_stop_auc)"
      ],
      "execution_count": null,
      "outputs": [
        {
          "output_type": "stream",
          "text": [
            "Epoch 1/100\n",
            "49/49 [==============================] - 2s 42ms/step - loss: 0.6437 - auc: 0.4757 - val_loss: 0.6743 - val_auc: 0.4894\n",
            "Epoch 2/100\n",
            "49/49 [==============================] - 1s 28ms/step - loss: 0.5430 - auc: 0.5660 - val_loss: 0.6536 - val_auc: 0.6782\n",
            "Epoch 3/100\n",
            "49/49 [==============================] - 1s 28ms/step - loss: 0.4883 - auc: 0.6352 - val_loss: 0.6302 - val_auc: 0.7704\n",
            "Epoch 4/100\n",
            "49/49 [==============================] - 1s 28ms/step - loss: 0.4554 - auc: 0.6958 - val_loss: 0.6046 - val_auc: 0.7885\n",
            "Epoch 5/100\n",
            "49/49 [==============================] - 1s 28ms/step - loss: 0.4339 - auc: 0.7323 - val_loss: 0.5764 - val_auc: 0.7977\n",
            "Epoch 6/100\n",
            "49/49 [==============================] - 1s 29ms/step - loss: 0.4175 - auc: 0.7557 - val_loss: 0.5468 - val_auc: 0.8049\n",
            "Epoch 7/100\n",
            "49/49 [==============================] - 1s 28ms/step - loss: 0.4051 - auc: 0.7763 - val_loss: 0.5167 - val_auc: 0.8086\n",
            "Epoch 8/100\n",
            "49/49 [==============================] - 1s 28ms/step - loss: 0.3952 - auc: 0.7898 - val_loss: 0.4841 - val_auc: 0.8148\n",
            "Epoch 9/100\n",
            "49/49 [==============================] - 1s 28ms/step - loss: 0.3786 - auc: 0.8118 - val_loss: 0.4487 - val_auc: 0.8207\n",
            "Epoch 10/100\n",
            "49/49 [==============================] - 1s 28ms/step - loss: 0.3673 - auc: 0.8278 - val_loss: 0.4219 - val_auc: 0.8272\n",
            "Epoch 11/100\n",
            "49/49 [==============================] - 1s 28ms/step - loss: 0.3494 - auc: 0.8505 - val_loss: 0.3963 - val_auc: 0.8335\n",
            "Epoch 12/100\n",
            "49/49 [==============================] - 1s 27ms/step - loss: 0.3334 - auc: 0.8666 - val_loss: 0.3733 - val_auc: 0.8375\n",
            "Epoch 13/100\n",
            "49/49 [==============================] - 1s 28ms/step - loss: 0.3217 - auc: 0.8772 - val_loss: 0.3592 - val_auc: 0.8442\n",
            "Epoch 14/100\n",
            "49/49 [==============================] - 1s 27ms/step - loss: 0.3008 - auc: 0.8960 - val_loss: 0.3502 - val_auc: 0.8464\n",
            "Epoch 15/100\n",
            "49/49 [==============================] - 1s 28ms/step - loss: 0.2814 - auc: 0.9138 - val_loss: 0.3421 - val_auc: 0.8504\n",
            "Epoch 16/100\n",
            "49/49 [==============================] - 1s 28ms/step - loss: 0.2672 - auc: 0.9242 - val_loss: 0.3380 - val_auc: 0.8525\n",
            "Epoch 17/100\n",
            "49/49 [==============================] - 1s 27ms/step - loss: 0.2480 - auc: 0.9373 - val_loss: 0.3363 - val_auc: 0.8532\n",
            "Epoch 18/100\n",
            "49/49 [==============================] - 1s 27ms/step - loss: 0.2307 - auc: 0.9470 - val_loss: 0.3349 - val_auc: 0.8535\n",
            "Epoch 19/100\n",
            "49/49 [==============================] - 1s 28ms/step - loss: 0.2148 - auc: 0.9560 - val_loss: 0.3374 - val_auc: 0.8543\n",
            "Epoch 20/100\n",
            "49/49 [==============================] - 1s 27ms/step - loss: 0.1971 - auc: 0.9650 - val_loss: 0.3399 - val_auc: 0.8520\n",
            "Epoch 21/100\n",
            "49/49 [==============================] - 1s 28ms/step - loss: 0.1865 - auc: 0.9677 - val_loss: 0.3409 - val_auc: 0.8523\n",
            "Epoch 22/100\n",
            "49/49 [==============================] - 1s 27ms/step - loss: 0.1683 - auc: 0.9741 - val_loss: 0.3456 - val_auc: 0.8518\n",
            "Epoch 23/100\n",
            "49/49 [==============================] - 1s 28ms/step - loss: 0.1571 - auc: 0.9771 - val_loss: 0.3505 - val_auc: 0.8503\n",
            "Epoch 24/100\n",
            "49/49 [==============================] - 1s 28ms/step - loss: 0.1456 - auc: 0.9806 - val_loss: 0.3594 - val_auc: 0.8471\n",
            "Epoch 25/100\n",
            "49/49 [==============================] - 1s 28ms/step - loss: 0.1322 - auc: 0.9851 - val_loss: 0.3631 - val_auc: 0.8457\n",
            "Epoch 26/100\n",
            "49/49 [==============================] - 1s 28ms/step - loss: 0.1232 - auc: 0.9871 - val_loss: 0.3748 - val_auc: 0.8402\n",
            "Epoch 27/100\n",
            "49/49 [==============================] - 1s 28ms/step - loss: 0.1109 - auc: 0.9912 - val_loss: 0.3848 - val_auc: 0.8376\n",
            "Epoch 28/100\n",
            "49/49 [==============================] - 1s 28ms/step - loss: 0.1087 - auc: 0.9905 - val_loss: 0.3967 - val_auc: 0.8347\n",
            "Epoch 29/100\n",
            "49/49 [==============================] - 1s 28ms/step - loss: 0.1004 - auc: 0.9919 - val_loss: 0.4012 - val_auc: 0.8315\n"
          ],
          "name": "stdout"
        }
      ]
    },
    {
      "cell_type": "code",
      "metadata": {
        "colab_type": "code",
        "id": "4WUUdYIDFeLN",
        "colab": {
          "base_uri": "https://localhost:8080/",
          "height": 279
        },
        "outputId": "fd5299e5-caa4-4ddb-e2cd-d544c31b2970"
      },
      "source": [
        "# график прогрессии обучения нейросети в Matplotlib\n",
        "plt.plot(view_sem.history['auc'], \n",
        "         label='Доля верных ответов на обучающем наборе')\n",
        "plt.plot(view_sem.history['val_auc'], \n",
        "         label='Доля верных ответов на проверочном наборе')\n",
        "plt.xlabel('Эпоха обучения')\n",
        "plt.ylabel('Доля верных ответов')\n",
        "plt.legend(loc='best')\n",
        "plt.show()"
      ],
      "execution_count": null,
      "outputs": [
        {
          "output_type": "display_data",
          "data": {
            "image/png": "[encoded data removed]",
            "text/plain": [
              "<Figure size 432x288 with 1 Axes>"
            ]
          },
          "metadata": {
            "tags": [],
            "needs_background": "light"
          }
        }
      ]
    },
    {
      "cell_type": "code",
      "metadata": {
        "id": "W8q6YD5ur0qB",
        "colab_type": "code",
        "colab": {
          "base_uri": "https://localhost:8080/",
          "height": 1000
        },
        "outputId": "1d83f29a-8993-4a57-9e94-fad6f2a782d7"
      },
      "source": [
        "# Compute ROC curve and ROC area for each class\n",
        "fpr = dict()\n",
        "tpr = dict()\n",
        "roc_auc = dict()\n",
        "n_classes = y_sem_train.shape[1]\n",
        "for i in range(n_classes):\n",
        "    fpr[i], tpr[i], _ = roc_curve(y_sem_test[:, i], test_predictions_baseline[:, i])\n",
        "    roc_auc[i] = auc(fpr[i], tpr[i])\n",
        "\n",
        "# Compute micro-average ROC curve and ROC area\n",
        "fpr[\"micro\"], tpr[\"micro\"], _ = roc_curve(y_sem_test.ravel(), test_predictions_baseline.ravel())\n",
        "roc_auc[\"micro\"] = auc(fpr[\"micro\"], tpr[\"micro\"])\n",
        "\n",
        "# Plot of a ROC curve for a specific class\n",
        "plt.figure(figsize=(8,8))\n",
        "plt.plot(fpr[2], tpr[2], label='ROC curve (area = %0.2f)' % roc_auc[2])\n",
        "plt.plot([0, 1], [0, 1], 'k--')\n",
        "plt.xlim([0.0, 1.0])\n",
        "plt.ylim([0.0, 1.05])\n",
        "plt.xlabel('False Positive Rate')\n",
        "plt.ylabel('True Positive Rate')\n",
        "plt.title('Receiver operating characteristic example')\n",
        "plt.legend(loc=\"lower right\")\n",
        "plt.show()\n",
        "\n",
        "# Plot ROC curve\n",
        "plt.figure(figsize=(8,8))\n",
        "plt.plot(fpr[\"micro\"], tpr[\"micro\"],\n",
        "         label='micro-average ROC curve (area = {0:0.2f})'\n",
        "               ''.format(roc_auc[\"micro\"]))\n",
        "for i in range(n_classes):\n",
        "    plt.plot(fpr[i], tpr[i], label='ROC curve of class {0} (area = {1:0.2f})'\n",
        "                                   ''.format(i, roc_auc[i]))\n",
        "\n",
        "plt.plot([0, 1], [0, 1], 'k--')\n",
        "plt.xlim([0.0, 1.0])\n",
        "plt.ylim([0.0, 1.05])\n",
        "plt.xlabel('False Positive Rate')\n",
        "plt.ylabel('True Positive Rate')\n",
        "plt.title('Some extension of Receiver operating characteristic to multi-class')\n",
        "plt.legend(loc=\"lower right\")\n",
        "plt.show()"
      ],
      "execution_count": null,
      "outputs": [
        {
          "output_type": "display_data",
          "data": {
            "image/png": "[encoded data removed]",
            "text/plain": [
              "<Figure size 576x576 with 1 Axes>"
            ]
          },
          "metadata": {
            "tags": [],
            "needs_background": "light"
          }
        },
        {
          "output_type": "display_data",
          "data": {
            "image/png": "[encoded data removed]",
            "text/plain": [
              "<Figure size 576x576 with 1 Axes>"
            ]
          },
          "metadata": {
            "tags": [],
            "needs_background": "light"
          }
        }
      ]
    },
    {
      "cell_type": "code",
      "metadata": {
        "id": "KWjJ4jSPWeZg",
        "colab_type": "code",
        "colab": {}
      },
      "source": [
        "train_predictions_baseline = model_sem.predict(x_sem_train, batch_size=batch_size)\n",
        "test_predictions_baseline = model_sem.predict(x_sem_test, batch_size=batch_size)"
      ],
      "execution_count": null,
      "outputs": []
    },
    {
      "cell_type": "code",
      "metadata": {
        "id": "Qb1GISIZwoOo",
        "colab_type": "code",
        "colab": {
          "base_uri": "https://localhost:8080/",
          "height": 68
        },
        "outputId": "85c9fa46-c10a-4234-af6f-a65500abeec9"
      },
      "source": [
        "# Вычисляем результаты сети на тестовом наборе\n",
        "scores = model_sem.evaluate(x_sem_test, y_sem_test, verbose=1, return_dict=True)\n",
        "# scores состоит из двух знанчений\n",
        "# scores[0] - loss сети на тестовой выборке\n",
        "# scores[1] - процент правильно распознанных примеров на тестовой выборке\n",
        "print(scores)\n",
        "print(\"Доля верных ответов на тестовых данных, в процентах: \", round(scores['auc'] * 100, 4), \"%\", sep=\"\")"
      ],
      "execution_count": null,
      "outputs": [
        {
          "output_type": "stream",
          "text": [
            "31/31 [==============================] - 0s 4ms/step - loss: 0.3463 - auc: 0.8538\n",
            "{'loss': 0.34632018208503723, 'auc': 0.8537520170211792}\n",
            "Доля верных ответов на тестовых данных, в процентах: 85.3752%\n"
          ],
          "name": "stdout"
        }
      ]
    },
    {
      "cell_type": "code",
      "metadata": {
        "id": "cnvvnderpsdy",
        "colab_type": "code",
        "colab": {
          "base_uri": "https://localhost:8080/",
          "height": 51
        },
        "outputId": "ef76c46f-dda3-475d-8f29-6ba0938fec15"
      },
      "source": [
        "# предсказываем и выводим результат на экран\n",
        "b = 20\n",
        "prediction_p = model_sem.predict(X_train_zero[b, None])\n",
        "print(prediction_p.round(1))\n",
        "print(y_train_all[b])"
      ],
      "execution_count": null,
      "outputs": [
        {
          "output_type": "stream",
          "text": [
            "[[0.1 0.  0.1 0.9 0. ]]\n",
            "[0 0 0 1 0]\n"
          ],
          "name": "stdout"
        }
      ]
    },
    {
      "cell_type": "code",
      "metadata": {
        "colab_type": "code",
        "id": "JXkzUUw2FeLP",
        "colab": {}
      },
      "source": [
        "# сохраняем веса\n",
        "model_sem.save_weights('/content/drive/My Drive/Colab Notebooks/NLP course/model_sem.h5')"
      ],
      "execution_count": null,
      "outputs": []
    },
    {
      "cell_type": "markdown",
      "metadata": {
        "id": "OrYElLbf_UbX",
        "colab_type": "text"
      },
      "source": [
        "# **Рекуррентные сети очень хорошо себя показывают при решении задач с текстом. Главное правильно понять задачу, и применить правильные методы. Не стоит перегружать сеть большими параметрами, слоями и сложностью архитектуры если она показывает достаточную точность**"
      ]
    }
  ]
}
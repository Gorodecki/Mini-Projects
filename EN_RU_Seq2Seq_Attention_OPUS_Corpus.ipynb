{
  "nbformat": 4,
  "nbformat_minor": 0,
  "metadata": {
    "colab": {
      "name": "EN-RU_Seq2Seq_Attention_Corpus.ipynb",
      "provenance": [],
      "collapsed_sections": [],
      "machine_shape": "hm",
      "include_colab_link": true
    },
    "kernelspec": {
      "name": "python3",
      "display_name": "Python 3"
    },
    "accelerator": "GPU"
  },
  "cells": [
    {
      "cell_type": "markdown",
      "metadata": {
        "id": "view-in-github",
        "colab_type": "text"
      },
      "source": [
        "<a href=\"https://colab.research.google.com/github/Gorodecki/Projects/blob/master/EN_RU_Seq2Seq_Attention_OPUS_Corpus.ipynb\" target=\"_parent\"><img src=\"https://colab.research.google.com/assets/colab-badge.svg\" alt=\"Open In Colab\"/></a>"
      ]
    },
    {
      "cell_type": "markdown",
      "metadata": {
        "id": "iM74UUqJRqar",
        "colab_type": "text"
      },
      "source": [
        "# Перевод текста.\n",
        "\n",
        "\n",
        "> Использование seq2seq модели с вниманием на корпусе OPUS параллельного перевода\n",
        "\n"
      ]
    },
    {
      "cell_type": "code",
      "metadata": {
        "id": "XtIjaRxz3Drh",
        "colab_type": "code",
        "colab": {}
      },
      "source": [
        "from tensorflow.keras.layers import Dense, Conv1D, MaxPool1D, GlobalMaxPooling1D, LSTM, GRU, Bidirectional, Embedding, Input, Concatenate, Attention, Reshape, Lambda, concatenate, Dropout, Flatten\n",
        "from tensorflow.keras.models import Sequential, Model, load_model\n",
        "from tensorflow.keras.preprocessing.text import Tokenizer\n",
        "from tensorflow.keras.preprocessing.sequence import pad_sequences\n",
        "from tensorflow.keras.utils import to_categorical, plot_model\n",
        "from tensorflow.keras.optimizers import RMSprop, Adam\n",
        "from tensorflow.keras.callbacks import EarlyStopping\n",
        "import tensorflow.keras.backend as K\n",
        "from keras.regularizers import l2, l1\n",
        "\n",
        "from sklearn.model_selection import train_test_split\n",
        "import pandas as pd\n",
        "import numpy as np\n",
        "import matplotlib.pyplot as plt\n",
        "import re\n",
        "import yaml\n",
        "import xml.etree.ElementTree as ET"
      ],
      "execution_count": 2,
      "outputs": []
    },
    {
      "cell_type": "markdown",
      "metadata": {
        "id": "ViDsWObQ9o7o",
        "colab_type": "text"
      },
      "source": [
        "# Парсинг"
      ]
    },
    {
      "cell_type": "code",
      "metadata": {
        "id": "nTo-jNHfSwyu",
        "colab_type": "code",
        "colab": {
          "base_uri": "https://localhost:8080/",
          "height": 102
        },
        "outputId": "fc443ed4-af47-4b34-f7f4-354d36701e43"
      },
      "source": [
        "!pip install opustools-pkg\n",
        "import opustools_pkg as opus"
      ],
      "execution_count": 3,
      "outputs": [
        {
          "output_type": "stream",
          "text": [
            "Collecting opustools-pkg\n",
            "\u001b[?25l  Downloading https://files.pythonhosted.org/packages/6c/9f/e829a0cceccc603450cd18e1ff80807b6237a88d9a8df2c0bb320796e900/opustools_pkg-0.0.52-py3-none-any.whl (80kB)\n",
            "\r\u001b[K     |████                            | 10kB 22.9MB/s eta 0:00:01\r\u001b[K     |████████                        | 20kB 2.9MB/s eta 0:00:01\r\u001b[K     |████████████▏                   | 30kB 3.7MB/s eta 0:00:01\r\u001b[K     |████████████████▏               | 40kB 4.0MB/s eta 0:00:01\r\u001b[K     |████████████████████▎           | 51kB 3.4MB/s eta 0:00:01\r\u001b[K     |████████████████████████▎       | 61kB 3.9MB/s eta 0:00:01\r\u001b[K     |████████████████████████████▎   | 71kB 4.1MB/s eta 0:00:01\r\u001b[K     |████████████████████████████████| 81kB 3.3MB/s \n",
            "\u001b[?25hInstalling collected packages: opustools-pkg\n",
            "Successfully installed opustools-pkg-0.0.52\n"
          ],
          "name": "stdout"
        }
      ]
    },
    {
      "cell_type": "code",
      "metadata": {
        "id": "grlVGCm9SyZK",
        "colab_type": "code",
        "colab": {
          "base_uri": "https://localhost:8080/",
          "height": 204
        },
        "outputId": "671b824c-2890-4ea6-ea75-0f401be05d8e"
      },
      "source": [
        "# скачиваем, распаковываем корпус и парсим в два файла, в которых количество предложений одинаково\n",
        "!opus_read -s 'en' -t 'ru' -d 'Books' -w 'source.txt' 'target.txt' -wm 'moses' -q "
      ],
      "execution_count": 4,
      "outputs": [
        {
          "output_type": "stream",
          "text": [
            "\n",
            "Alignment file /proj/nlpl/data/OPUS/Books/latest/xml/en-ru.xml.gz not found. The following files are available for downloading:\n",
            "\n",
            " 156 KB https://object.pouta.csc.fi/OPUS-Books/v1/xml/en-ru.xml.gz\n",
            "  71 MB https://object.pouta.csc.fi/OPUS-Books/v1/xml/en.zip\n",
            "   3 MB https://object.pouta.csc.fi/OPUS-Books/v1/xml/ru.zip\n",
            "\n",
            "  75 MB Total size\n",
            "./Books_latest_xml_en-ru.xml.gz ... 100% of 156 KB\n",
            "./Books_latest_xml_en.zip ... 100% of 71 MB\n",
            "./Books_latest_xml_ru.zip ... 100% of 3 MB\n"
          ],
          "name": "stdout"
        }
      ]
    },
    {
      "cell_type": "code",
      "metadata": {
        "id": "jXRxZxjkTzdQ",
        "colab_type": "code",
        "colab": {}
      },
      "source": [
        "from google.colab import drive\n",
        "drive.mount('/content/drive/')"
      ],
      "execution_count": null,
      "outputs": []
    },
    {
      "cell_type": "code",
      "metadata": {
        "id": "f72H5-7w3mFp",
        "colab_type": "code",
        "colab": {}
      },
      "source": [
        "tree = ET.parse('/content/drive/My Drive/en-ru.tmx')\n",
        "root = tree.getroot()"
      ],
      "execution_count": 7,
      "outputs": []
    },
    {
      "cell_type": "code",
      "metadata": {
        "id": "KOvTx-vIqRi-",
        "colab_type": "code",
        "colab": {}
      },
      "source": [
        "# seg_ru = '{http://www.w3.org/XML/1998/namespace}lang': 'ru'\n",
        "# seg_en = '{http://www.w3.org/XML/1998/namespace}lang': 'en'"
      ],
      "execution_count": 8,
      "outputs": []
    },
    {
      "cell_type": "code",
      "metadata": {
        "id": "Ktbsqyz_y9XU",
        "colab_type": "code",
        "colab": {}
      },
      "source": [
        "en = []\n",
        "rus = [] \n",
        "text = []\n",
        "# Проходим по тегам TMX\n",
        "for level_1 in root[1]:\n",
        "  for level_2 in level_1:\n",
        "    for seg in level_2:\n",
        "        text.append(seg.text) # .text метод извлекает содержимое элемента\n",
        "\n",
        "# Разделяем полученный текст на рус и англ\n",
        "for i in range(len(text)):\n",
        "  if i%2:\n",
        "    rus.append(text[i])\n",
        "  else: \n",
        "    en.append(text[i])"
      ],
      "execution_count": 9,
      "outputs": []
    },
    {
      "cell_type": "code",
      "metadata": {
        "id": "3oAOT-s_y9LS",
        "colab_type": "code",
        "colab": {
          "base_uri": "https://localhost:8080/",
          "height": 374
        },
        "outputId": "1755d2ec-a779-4df6-a07b-cad95db3250b"
      },
      "source": [
        "rus[:10], en[:10], len(text)"
      ],
      "execution_count": 10,
      "outputs": [
        {
          "output_type": "execute_result",
          "data": {
            "text/plain": [
              "(['Один раз в жизни я делаю хорошее дело... И оно бесполезно.',\n",
              "  'Давайте что-нибудь попробуем!',\n",
              "  'Давайте что-нибудь попробуем.',\n",
              "  'Мне пора идти спать.',\n",
              "  'Мне нужно идти спать.',\n",
              "  'Я должен ложиться спать.',\n",
              "  'Сегодня 18 июня, и это день рождения Мюриэл!',\n",
              "  'Мюриэл сейчас 20.',\n",
              "  'Пароль «Muiriel».',\n",
              "  'Я скоро вернусь.'],\n",
              " [\"For once in my life I'm doing a good deed... And it is useless.\",\n",
              "  \"Let's try something.\",\n",
              "  \"Let's try something.\",\n",
              "  'I have to go to sleep.',\n",
              "  'I have to go to sleep.',\n",
              "  'I have to go to sleep.',\n",
              "  \"Today is June 18th and it is Muiriel's birthday!\",\n",
              "  'Muiriel is 20 now.',\n",
              "  'The password is \"Muiriel\".',\n",
              "  'I will be back soon.'],\n",
              " 974384)"
            ]
          },
          "metadata": {
            "tags": []
          },
          "execution_count": 10
        }
      ]
    },
    {
      "cell_type": "code",
      "metadata": {
        "id": "L9NwDDBi6EVP",
        "colab_type": "code",
        "colab": {
          "base_uri": "https://localhost:8080/",
          "height": 437
        },
        "outputId": "0b64c365-2ba4-49d3-86f6-13ce53af4b32"
      },
      "source": [
        "# Посмотрим какую выбрать длину предложения\n",
        "size = []\n",
        "for i in rus:\n",
        "  size.append(len(i.split()))\n",
        "plt.figure(figsize=(20,3))\n",
        "plt.title('Длина предложений в русском корпусе')\n",
        "plt.hist(size, bins=50)\n",
        "plt.show()\n",
        "\n",
        "size_ = []\n",
        "for i in en:\n",
        "  size_.append(len(i.split()))\n",
        "plt.figure(figsize=(20,3))\n",
        "plt.title('Длина предложений в английском корпусе')\n",
        "plt.hist(size, bins=50)\n",
        "plt.show()\n"
      ],
      "execution_count": 11,
      "outputs": [
        {
          "output_type": "display_data",
          "data": {
            "image/png": "[encoded data removed]",
            "text/plain": [
              "<Figure size 1440x216 with 1 Axes>"
            ]
          },
          "metadata": {
            "tags": [],
            "needs_background": "light"
          }
        },
        {
          "output_type": "display_data",
          "data": {
            "image/png": "[encoded data removed]",
            "text/plain": [
              "<Figure size 1440x216 with 1 Axes>"
            ]
          },
          "metadata": {
            "tags": [],
            "needs_background": "light"
          }
        }
      ]
    },
    {
      "cell_type": "code",
      "metadata": {
        "id": "Ci-e6QLU7Fys",
        "colab_type": "code",
        "colab": {}
      },
      "source": [
        "enc_in = [q + '<END>' for q in rus]"
      ],
      "execution_count": 12,
      "outputs": []
    },
    {
      "cell_type": "code",
      "metadata": {
        "id": "5MDg6kFG7OhQ",
        "colab_type": "code",
        "colab": {
          "base_uri": "https://localhost:8080/",
          "height": 187
        },
        "outputId": "c4445cfb-b458-4f4f-fb4d-bd1c4dc597ff"
      },
      "source": [
        "enc_in[:10]"
      ],
      "execution_count": 13,
      "outputs": [
        {
          "output_type": "execute_result",
          "data": {
            "text/plain": [
              "['Один раз в жизни я делаю хорошее дело... И оно бесполезно.<END>',\n",
              " 'Давайте что-нибудь попробуем!<END>',\n",
              " 'Давайте что-нибудь попробуем.<END>',\n",
              " 'Мне пора идти спать.<END>',\n",
              " 'Мне нужно идти спать.<END>',\n",
              " 'Я должен ложиться спать.<END>',\n",
              " 'Сегодня 18 июня, и это день рождения Мюриэл!<END>',\n",
              " 'Мюриэл сейчас 20.<END>',\n",
              " 'Пароль «Muiriel».<END>',\n",
              " 'Я скоро вернусь.<END>']"
            ]
          },
          "metadata": {
            "tags": []
          },
          "execution_count": 13
        }
      ]
    },
    {
      "cell_type": "code",
      "metadata": {
        "id": "uHGvTUpQ7Sg-",
        "colab_type": "code",
        "colab": {}
      },
      "source": [
        "decoder_in = ['<START> ' + a for a in en]\n",
        "decoder_out = [a + ' <END>' for a in en]"
      ],
      "execution_count": 14,
      "outputs": []
    },
    {
      "cell_type": "code",
      "metadata": {
        "id": "esq-ubuj7dnd",
        "colab_type": "code",
        "colab": {
          "base_uri": "https://localhost:8080/",
          "height": 187
        },
        "outputId": "2c02e375-cfd5-44a4-d719-bee5cfd3e1a3"
      },
      "source": [
        "decoder_in[:10]"
      ],
      "execution_count": 15,
      "outputs": [
        {
          "output_type": "execute_result",
          "data": {
            "text/plain": [
              "[\"<START> For once in my life I'm doing a good deed... And it is useless.\",\n",
              " \"<START> Let's try something.\",\n",
              " \"<START> Let's try something.\",\n",
              " '<START> I have to go to sleep.',\n",
              " '<START> I have to go to sleep.',\n",
              " '<START> I have to go to sleep.',\n",
              " \"<START> Today is June 18th and it is Muiriel's birthday!\",\n",
              " '<START> Muiriel is 20 now.',\n",
              " '<START> The password is \"Muiriel\".',\n",
              " '<START> I will be back soon.']"
            ]
          },
          "metadata": {
            "tags": []
          },
          "execution_count": 15
        }
      ]
    },
    {
      "cell_type": "code",
      "metadata": {
        "id": "pU6Ps6pX7ilK",
        "colab_type": "code",
        "colab": {
          "base_uri": "https://localhost:8080/",
          "height": 187
        },
        "outputId": "dc5c3488-aa52-436f-cc27-7552ec0a9fe8"
      },
      "source": [
        "decoder_out[:10]"
      ],
      "execution_count": 16,
      "outputs": [
        {
          "output_type": "execute_result",
          "data": {
            "text/plain": [
              "[\"For once in my life I'm doing a good deed... And it is useless. <END>\",\n",
              " \"Let's try something. <END>\",\n",
              " \"Let's try something. <END>\",\n",
              " 'I have to go to sleep. <END>',\n",
              " 'I have to go to sleep. <END>',\n",
              " 'I have to go to sleep. <END>',\n",
              " \"Today is June 18th and it is Muiriel's birthday! <END>\",\n",
              " 'Muiriel is 20 now. <END>',\n",
              " 'The password is \"Muiriel\". <END>',\n",
              " 'I will be back soon. <END>']"
            ]
          },
          "metadata": {
            "tags": []
          },
          "execution_count": 16
        }
      ]
    },
    {
      "cell_type": "code",
      "metadata": {
        "id": "93y-GY-q6t6n",
        "colab_type": "code",
        "colab": {}
      },
      "source": [
        "num_words = 10000\n",
        "tokenizer = Tokenizer(num_words, filters='!\"#$%&()*+,-./:;=?@[\\\\]^_`{|}~\\t\\n', oov_token='<UNK>')"
      ],
      "execution_count": 17,
      "outputs": []
    },
    {
      "cell_type": "code",
      "metadata": {
        "id": "Uni3eWLo692T",
        "colab_type": "code",
        "colab": {}
      },
      "source": [
        "tokenizer.fit_on_texts(enc_in)\n",
        "tokenizer.fit_on_texts(decoder_in)\n",
        "tokenizer.fit_on_texts(decoder_out)"
      ],
      "execution_count": 18,
      "outputs": []
    },
    {
      "cell_type": "code",
      "metadata": {
        "id": "tuVoo6lJ7pqI",
        "colab_type": "code",
        "colab": {
          "base_uri": "https://localhost:8080/",
          "height": 187
        },
        "outputId": "186289b2-c567-4313-b87a-3e0e567f0569"
      },
      "source": [
        "list(tokenizer.index_word.items())[:10]"
      ],
      "execution_count": 19,
      "outputs": [
        {
          "output_type": "execute_result",
          "data": {
            "text/plain": [
              "[(1, '<UNK>'),\n",
              " (2, '<end>'),\n",
              " (3, '<start>'),\n",
              " (4, 'i'),\n",
              " (5, 'you'),\n",
              " (6, 'to'),\n",
              " (7, 'tom'),\n",
              " (8, 'the'),\n",
              " (9, 'a'),\n",
              " (10, 'я')]"
            ]
          },
          "metadata": {
            "tags": []
          },
          "execution_count": 19
        }
      ]
    },
    {
      "cell_type": "code",
      "metadata": {
        "id": "_Y0eRqNi8Vmm",
        "colab_type": "code",
        "colab": {}
      },
      "source": [
        "X_enc = tokenizer.texts_to_sequences(enc_in)"
      ],
      "execution_count": 20,
      "outputs": []
    },
    {
      "cell_type": "code",
      "metadata": {
        "id": "2OJNBs1g81zm",
        "colab_type": "code",
        "colab": {}
      },
      "source": [
        "X_dec = tokenizer.texts_to_sequences(decoder_in)\n",
        "Y = tokenizer.texts_to_sequences(decoder_out)"
      ],
      "execution_count": 21,
      "outputs": []
    },
    {
      "cell_type": "code",
      "metadata": {
        "id": "pDk35JOy_V2l",
        "colab_type": "code",
        "colab": {
          "base_uri": "https://localhost:8080/",
          "height": 34
        },
        "outputId": "c9e51e3d-74fe-465c-8fcd-d7e7457095bf"
      },
      "source": [
        "# Находим длинные предложения в енкодере\n",
        "threshold = 16\n",
        "idx_q = [len(y) < threshold for y in X_enc]\n",
        "sum(idx_q)"
      ],
      "execution_count": 22,
      "outputs": [
        {
          "output_type": "execute_result",
          "data": {
            "text/plain": [
              "483489"
            ]
          },
          "metadata": {
            "tags": []
          },
          "execution_count": 22
        }
      ]
    },
    {
      "cell_type": "code",
      "metadata": {
        "colab_type": "code",
        "id": "TQQKvDR8EPvl",
        "colab": {}
      },
      "source": [
        "X_enc = np.array(X_enc)[idx_q]\n",
        "X_dec = np.array(X_dec)[idx_q]\n",
        "Y = np.array(Y)[idx_q]"
      ],
      "execution_count": 23,
      "outputs": []
    },
    {
      "cell_type": "code",
      "metadata": {
        "colab_type": "code",
        "id": "j4MQEM5WEPvp",
        "colab": {
          "base_uri": "https://localhost:8080/",
          "height": 34
        },
        "outputId": "3bf8c11a-9c67-4b02-afa4-631b38218958"
      },
      "source": [
        "# Находим длинные предложения в декодере\n",
        "idx_a = [len(y) < threshold for y in X_dec]\n",
        "sum(idx_a)"
      ],
      "execution_count": 24,
      "outputs": [
        {
          "output_type": "execute_result",
          "data": {
            "text/plain": [
              "480598"
            ]
          },
          "metadata": {
            "tags": []
          },
          "execution_count": 24
        }
      ]
    },
    {
      "cell_type": "code",
      "metadata": {
        "colab_type": "code",
        "id": "vFdHTyUlEPvw",
        "colab": {}
      },
      "source": [
        "X_enc = X_enc[idx_a]\n",
        "X_dec = X_dec[idx_a]\n",
        "Y = Y[idx_a]"
      ],
      "execution_count": 25,
      "outputs": []
    },
    {
      "cell_type": "code",
      "metadata": {
        "id": "lbBNHsH-8ezq",
        "colab_type": "code",
        "colab": {
          "base_uri": "https://localhost:8080/",
          "height": 34
        },
        "outputId": "0fb9512e-c4e6-402b-8a61-8ed4f1ef7f44"
      },
      "source": [
        "max_q_len = max([len(el) for el in X_enc]); max_q_len"
      ],
      "execution_count": 26,
      "outputs": [
        {
          "output_type": "execute_result",
          "data": {
            "text/plain": [
              "15"
            ]
          },
          "metadata": {
            "tags": []
          },
          "execution_count": 26
        }
      ]
    },
    {
      "cell_type": "code",
      "metadata": {
        "id": "xMUm4x7r8ga3",
        "colab_type": "code",
        "colab": {
          "base_uri": "https://localhost:8080/",
          "height": 34
        },
        "outputId": "4f4549fb-ae34-43ed-c744-9ef584320c06"
      },
      "source": [
        "max_a_len = max([len(el) for el in X_dec]); max_a_len"
      ],
      "execution_count": 27,
      "outputs": [
        {
          "output_type": "execute_result",
          "data": {
            "text/plain": [
              "15"
            ]
          },
          "metadata": {
            "tags": []
          },
          "execution_count": 27
        }
      ]
    },
    {
      "cell_type": "code",
      "metadata": {
        "id": "lQ4jCBPQ8-TI",
        "colab_type": "code",
        "colab": {}
      },
      "source": [
        "X_enc = pad_sequences(X_enc, max_q_len, padding='post', truncating='post')\n",
        "X_dec = pad_sequences(X_dec, max_a_len, padding='post', truncating='post')\n",
        "Y = pad_sequences(Y, max_a_len, padding='post', truncating='post')"
      ],
      "execution_count": 28,
      "outputs": []
    },
    {
      "cell_type": "code",
      "metadata": {
        "id": "7MuQ_t_f53CZ",
        "colab_type": "code",
        "colab": {
          "base_uri": "https://localhost:8080/",
          "height": 68
        },
        "outputId": "54b6ffe3-f0b5-479c-cf45-fb5edc3717d8"
      },
      "source": [
        "print(X_enc.shape)\n",
        "print(X_dec.shape)\n",
        "print(Y.shape)"
      ],
      "execution_count": 29,
      "outputs": [
        {
          "output_type": "stream",
          "text": [
            "(480598, 15)\n",
            "(480598, 15)\n",
            "(480598, 15)\n"
          ],
          "name": "stdout"
        }
      ]
    },
    {
      "cell_type": "markdown",
      "metadata": {
        "id": "00DRIod5vqsR",
        "colab_type": "text"
      },
      "source": [
        "# Function"
      ]
    },
    {
      "cell_type": "code",
      "metadata": {
        "colab_type": "code",
        "id": "SapUO2jFvjz0",
        "colab": {}
      },
      "source": [
        "def decode_sequence(strr): \n",
        "  \"\"\"\n",
        "  Выводит сгенерированный ответ на вопрос.\n",
        "  Подаем строку\n",
        "  Возвращает строку\n",
        "  \"\"\"\n",
        "\n",
        "  strr = strr + ' <end>'\n",
        "  example = pad_sequences(tokenizer.texts_to_sequences([strr]), maxlen=max_q_len, padding='post')\n",
        "\n",
        "  # возвращаем состояние [h, c]\n",
        "  states_value, attention = encoder_model.predict(example)\n",
        "\n",
        "  # создаём массив длиной pad+1\n",
        "  target_token = np.zeros((1,1))\n",
        "  # присваиваем первому символу \"старт\"\n",
        "  target_token[0,0] = tokenizer.word_index['<start>']\n",
        "\n",
        "\n",
        "  # флаг остановки\n",
        "  Flag = False\n",
        "  # обнуляем слово\n",
        "  decoded_sentence = ''\n",
        "\n",
        "  while not Flag:\n",
        "    pred, *states_value = decoder_model.predict([attention, target_token] + states_value)\n",
        "    \n",
        "    # переводим декодированный токен в слово \n",
        "    token_pred = np.argmax(pred, axis=-1) #\n",
        "    \n",
        "    #print(token_pred)\n",
        "    sampled_char = tokenizer.index_word[int(token_pred)]\n",
        "    #print(sampled_char)\n",
        "    decoded_sentence += sampled_char+' '\n",
        "\n",
        "    # если встретили тег окончания предложения или привысили его длину\n",
        "    if (sampled_char == '<end>' or len(decoded_sentence.split()) > max_a_len):\n",
        "      Flag = True\n",
        "      \n",
        "\n",
        "    target_token[0,0] = token_pred\n",
        "\n",
        "  print('Ответ:', decoded_sentence[:-6]) "
      ],
      "execution_count": 30,
      "outputs": []
    },
    {
      "cell_type": "code",
      "metadata": {
        "colab_type": "code",
        "id": "QoYtbcuZvj0E",
        "colab": {}
      },
      "source": [
        "def pred_train(strr): \n",
        "  \"\"\"\n",
        "  Функция для подсчета ошибки, возвращает последовательность токенов, как в decoder_out\n",
        "  \"\"\"\n",
        "\n",
        "  # возвращаем состояние [h, c]\n",
        "  states_value, attention = encoder_model.predict(strr)\n",
        "\n",
        "  # создаём массив длиной pad+1\n",
        "  target_token = np.zeros((1,1))\n",
        "  # присваиваем первому символу \"старт\"\n",
        "  target_token[0,0] = tokenizer.word_index['<start>']\n",
        "  # флаг остановки\n",
        "  Flag = False\n",
        "  # обнуляем слово\n",
        "  decoded_sentence = []\n",
        "\n",
        "  while not Flag:\n",
        "    pred, *states_value = decoder_model.predict([attention, target_token] + states_value)\n",
        "    \n",
        "    token_pred = np.argmax(pred, axis=-1) #\n",
        "    decoded_sentence.append(token_pred[0][0])\n",
        "\n",
        "    if (token_pred == tokenizer.word_index['<end>'] or len(decoded_sentence) > max_a_len):\n",
        "      Flag = True\n",
        "    target_token[0,0] = token_pred\n",
        "  return decoded_sentence\n",
        "\n",
        "\n",
        "\n",
        "from tensorflow.keras.metrics import Accuracy\n",
        "\n",
        "# Сравниваем pred и Y \n",
        "def metric(n=100, X_enc=X_enc, Y=Y, max_q_len=max_q_len):\n",
        "  \"\"\"\n",
        "  Оценка точности, сколько верно предсказано токенов\n",
        "  \"\"\"\n",
        "\n",
        "  pred = []\n",
        "  summ = []\n",
        "  for i in range(n):\n",
        "    pred.append(pred_train(X_enc[None, i]))\n",
        "  pred_1 = pad_sequences(pred, maxlen=max_q_len, padding='post')\n",
        "  acc = Accuracy()\n",
        "  acc.update_state(pred_1, Y[:n])\n",
        "  return acc.result().numpy()"
      ],
      "execution_count": 31,
      "outputs": []
    },
    {
      "cell_type": "code",
      "metadata": {
        "id": "OiaSWz1lMlTn",
        "colab_type": "code",
        "colab": {}
      },
      "source": [
        "def att_for_plot(sentence, enc_seq_len = 15, dec_seq_len = 15): \n",
        "  \"\"\"\n",
        "  Функция для матрицы внимания\n",
        "  sentence = строка (запрос)\n",
        "  enc_seq_len = длина encoder\n",
        "  dec_seq_len = длина decoder\n",
        "  возвращает матрицу attention не транспонированную, строки encoder и decoder\n",
        "  \"\"\"\n",
        "\n",
        "  \n",
        "  attention_plot = np.zeros((enc_seq_len, dec_seq_len))\n",
        "\n",
        "  strr = sentence + ' <end>'\n",
        "  example = pad_sequences(tokenizer.texts_to_sequences([strr]), maxlen=max_q_len, padding='post')\n",
        "\n",
        "  # возвращаем состояние [h, c]\n",
        "  states_value, attention = encoder_model_.predict(example)\n",
        "\n",
        "  # создаём массив длиной pad+1\n",
        "  target_token = np.zeros((1,1))\n",
        "  # присваиваем первому символу \"старт\"\n",
        "  target_token[0,0] = tokenizer.word_index['<start>']\n",
        "\n",
        "\n",
        "  # флаг остановки\n",
        "  Flag = False\n",
        "  # обнуляем предложение\n",
        "  result = ''\n",
        "  for t in range(enc_seq_len+1):\n",
        "    if not Flag:\n",
        "      pred, att, *states_value = decoder_model_.predict([attention, target_token] + states_value)\n",
        "      \n",
        "\n",
        " \n",
        "      attention_plot[t] = att\n",
        "      # print(att)\n",
        "\n",
        "      # переводим декодированный токен в слово \n",
        "      token_pred = np.argmax(pred, axis=-1) #\n",
        "      \n",
        "      #print(token_pred)\n",
        "      sampled_word = tokenizer.index_word[int(token_pred)]\n",
        "      result += sampled_word+' '\n",
        "\n",
        "      # если находим тег окончания или превысили длину предложения\n",
        "      if (sampled_char == '<end>' or len(result.split()) > max_a_len):\n",
        "        Flag = True\n",
        "        \n",
        "\n",
        "      target_token[0,0] = token_pred\n",
        "  return attention_plot, result[:-1], strr\n",
        "\n",
        "def plot_attention(attention, sentence, predicted_sentence):\n",
        "  \"\"\"\n",
        "  matshow attention\n",
        "  \"\"\"\n",
        "  fig = plt.figure(figsize=(10,10))\n",
        "  \n",
        "  ax = fig.add_subplot(1, 1, 1)\n",
        "  ax.matshow(attention)\n",
        "  ax.set_xticklabels(sentence, rotation=90) \n",
        "  ax.set_yticklabels(predicted_sentence) \n",
        "  ax.set_xticks(np.arange(len(sentence)))\n",
        "  ax.set_yticks(np.arange(len(predicted_sentence)))\n",
        "  plt.show()\n",
        "\n",
        "def plot_heatmaps(strr):\n",
        "  \"\"\"\n",
        "  Построение матрицы внимания\n",
        "  \"\"\"\n",
        "  attention_sentence, result, sentence = att_for_plot(strr)\n",
        "  attention_plot = attention_sentence[:len(result.split(' ')), :len(sentence.split(' '))]\n",
        "  print('Запрос: ', strr)\n",
        "  print('Ответ:  ', result)\n",
        "  # decode_sequence(strr)\n",
        "  plot_attention(attention_plot.T, result.split(' '), sentence.split(' '))"
      ],
      "execution_count": 32,
      "outputs": []
    },
    {
      "cell_type": "markdown",
      "metadata": {
        "id": "wXsg8qTgcmG8",
        "colab_type": "text"
      },
      "source": [
        "#Attention"
      ]
    },
    {
      "cell_type": "code",
      "metadata": {
        "colab_type": "code",
        "id": "gozicnbavQB4",
        "colab": {}
      },
      "source": [
        "# Параметры\n",
        "enc_seq_len = 15\n",
        "dec_seq_len = 15\n",
        "hidden_dim = 256\n",
        "emb_size = 64\n",
        "\n",
        "# Енкодер\n",
        "encoder_input = Input((enc_seq_len,))\n",
        "enc_emb = Embedding(num_words, emb_size, name='enc_emb')(encoder_input)\n",
        "ys, *final_states = LSTM(hidden_dim, return_state=True, return_sequences=True, name='enc_lstm')(enc_emb)\n",
        "\n",
        "\n",
        "ys_reshaped = Reshape((1, enc_seq_len, hidden_dim))(ys)\n",
        "ys_repeated = Lambda(lambda l: K.repeat_elements(l, dec_seq_len, 1))(ys_reshaped)\n",
        "\n",
        "# Декодер\n",
        "decoder_input = Input((dec_seq_len,))\n",
        "dec_emb = Embedding(num_words, emb_size, name='emb')(decoder_input)\n",
        "\n",
        "dec_lstm = LSTM(hidden_dim, return_sequences=True, name='dec_lstm')(dec_emb, initial_state = final_states)\n",
        "\n",
        "# Attention\n",
        "dec_lstm_reshaped = Reshape((dec_seq_len, 1, hidden_dim))(dec_lstm)\n",
        "conc = concatenate([ys_repeated, dec_lstm_reshaped], axis=-2)\n",
        "conc_reshaped = Reshape((dec_seq_len, hidden_dim*(enc_seq_len+1)))(conc)\n",
        "\n",
        "gates = Dense(enc_seq_len, activation='softmax', kernel_regularizer=l1(0.001), bias_regularizer=l1(0.001), name= 'dense_att')(conc_reshaped)\n",
        "gates_reshaped = Reshape((dec_seq_len, enc_seq_len, 1))(gates)\n",
        "gates_repeated = Lambda(lambda l: K.repeat_elements(l, hidden_dim, -1))(gates_reshaped)\n",
        "\n",
        "dot_product = Lambda(lambda xy: K.sum(xy[0]*xy[1], axis=-2))([ys_repeated, gates_repeated])\n",
        "attentive_state = concatenate([dec_lstm, dot_product])\n",
        "\n",
        "# Выход\n",
        "word_probabilities = Dense(num_words, activation='softmax', name= 'dense')(attentive_state)\n",
        "\n",
        "\n",
        "model = Model([encoder_input, decoder_input], [word_probabilities])"
      ],
      "execution_count": 33,
      "outputs": []
    },
    {
      "cell_type": "code",
      "metadata": {
        "colab_type": "code",
        "id": "l8hGfMClvQCS",
        "colab": {}
      },
      "source": [
        "# Долго учится...\n",
        "callback_ = EarlyStopping(monitor='val_accuracy', patience=2)\n",
        "model.compile(loss='sparse_categorical_crossentropy', metrics=['accuracy'], optimizer=RMSprop(lr = 0.01))\n",
        "model.fit([X_enc, X_dec], Y, epochs=5, callbacks=callback_,  batch_size=64, validation_split=0.2)"
      ],
      "execution_count": null,
      "outputs": []
    },
    {
      "cell_type": "code",
      "metadata": {
        "colab_type": "code",
        "id": "hFDf3NuNvQCZ",
        "colab": {
          "base_uri": "https://localhost:8080/",
          "height": 204
        },
        "outputId": "7b5cb3bb-b190-4507-aaa4-a556312bdd8d"
      },
      "source": [
        "# И ещё долго учится...\n",
        "# model.compile(loss='sparse_categorical_crossentropy', metrics=['accuracy'], optimizer=RMSprop(lr = 0.001))\n",
        "# model.fit([X_enc, X_dec], Y, epochs=20, callbacks=callback_,  batch_size=64, validation_split=0.2)"
      ],
      "execution_count": null,
      "outputs": [
        {
          "output_type": "stream",
          "text": [
            "Epoch 1/20\n",
            "6008/6008 [==============================] - 262s 44ms/step - loss: 0.7806 - accuracy: 0.8658 - val_loss: 0.7694 - val_accuracy: 0.8641\n",
            "Epoch 2/20\n",
            "6008/6008 [==============================] - 261s 43ms/step - loss: 0.7697 - accuracy: 0.8689 - val_loss: 0.7758 - val_accuracy: 0.8637\n",
            "Epoch 3/20\n",
            "6008/6008 [==============================] - 261s 43ms/step - loss: 0.7703 - accuracy: 0.8700 - val_loss: 0.8075 - val_accuracy: 0.8583\n",
            "Epoch 4/20\n",
            "6008/6008 [==============================] - 262s 44ms/step - loss: 0.7737 - accuracy: 0.8705 - val_loss: 0.7910 - val_accuracy: 0.8633\n",
            "Epoch 5/20\n",
            "6008/6008 [==============================] - 262s 44ms/step - loss: 0.7758 - accuracy: 0.8709 - val_loss: 0.8076 - val_accuracy: 0.8606\n"
          ],
          "name": "stdout"
        },
        {
          "output_type": "execute_result",
          "data": {
            "text/plain": [
              "<tensorflow.python.keras.callbacks.History at 0x7f1ffef667f0>"
            ]
          },
          "metadata": {
            "tags": []
          },
          "execution_count": 33
        }
      ]
    },
    {
      "cell_type": "code",
      "metadata": {
        "id": "vUCQ3De9vTky",
        "colab_type": "code",
        "colab": {}
      },
      "source": [
        "# Загрузим веса\n",
        "# model.save('/content/drive/My Drive/attention/seq2seq_att_0.h5')\n",
        "# model.save_weights('/content/drive/My Drive/attention/seq2seq_att_0_weights.h5')\n",
        "# model = load_model('/content/drive/My Drive/attention/seq2seq_att_0.h5')"
      ],
      "execution_count": null,
      "outputs": []
    },
    {
      "cell_type": "markdown",
      "metadata": {
        "id": "_js0Wjjo9xE7",
        "colab_type": "text"
      },
      "source": [
        "# Inference"
      ]
    },
    {
      "cell_type": "code",
      "metadata": {
        "colab_type": "code",
        "id": "2FXQyjE_vjzq",
        "colab": {}
      },
      "source": [
        "enc_seq_len = 15\n",
        "dec_seq_len = 1 \n",
        "# Input\n",
        "encoder_reshaped = Input((dec_seq_len, enc_seq_len,hidden_dim,))\n",
        "decoder_state_input_h = Input((hidden_dim,))\n",
        "decoder_state_input_c = Input((hidden_dim,))\n",
        "final_st = [decoder_state_input_h, decoder_state_input_c]\n",
        "decoder_input = Input((dec_seq_len,))\n",
        "\n",
        "# Декодер\n",
        "dec_emb = Embedding(num_words, emb_size, name='emb')(decoder_input)\n",
        "dec_lstm, *states_value = LSTM(hidden_dim, return_state=True, name='dec_lstm')(dec_emb, initial_state = final_st)\n",
        "\n",
        "# attention\n",
        "dec_resh = Reshape((dec_seq_len, hidden_dim))(dec_lstm)\n",
        "dec_lstm_reshaped = Reshape((dec_seq_len, 1, hidden_dim))(dec_resh)\n",
        "conc = concatenate([encoder_reshaped, dec_lstm_reshaped], axis=-2)\n",
        "conc_reshaped = Reshape((dec_seq_len, hidden_dim*(enc_seq_len+1)))(conc)\n",
        "\n",
        "gates = Dense(enc_seq_len, activation='softmax', name= 'dense_att')(conc_reshaped)\n",
        "gates_reshaped = Reshape((dec_seq_len, enc_seq_len, 1))(gates)\n",
        "gates_repeated = Lambda(lambda l: K.repeat_elements(l, hidden_dim, -1))(gates_reshaped)\n",
        "\n",
        "dot_product = Lambda(lambda xy: K.sum(xy[0]*xy[1], axis=-2))([encoder_reshaped, gates_repeated])\n",
        "\n",
        "attentive_state = concatenate([dec_resh, dot_product])\n",
        "\n",
        "# Выход\n",
        "word_probabilities = Dense(num_words, activation='softmax', name= 'dense')(attentive_state)\n",
        "\n",
        "# Создаем модели\n",
        "decoder_model = Model([encoder_reshaped, decoder_input]+final_st, [word_probabilities] + states_value)\n",
        "encoder_model = Model(encoder_input, [final_states, ys_reshaped])\n",
        "\n",
        "# Переносим веса\n",
        "for name in ['emb', 'dec_lstm', 'dense', 'dense_att']:\n",
        "  decoder_model.get_layer(name=name).set_weights(model.get_layer(name=name).get_weights())\n",
        "\n",
        "# Если веса загружали то веса енкодера нужно тоже перенести \n",
        "for name in ['enc_emb', 'enc_lstm']:\n",
        "  encoder_model.get_layer(name=name).set_weights(model.get_layer(name=name).get_weights())\n"
      ],
      "execution_count": null,
      "outputs": []
    },
    {
      "cell_type": "code",
      "metadata": {
        "colab_type": "code",
        "id": "Bn4C19d8vjz4",
        "colab": {
          "base_uri": "https://localhost:8080/",
          "height": 34
        },
        "outputId": "3958eac3-c2d6-4dce-a3a7-82d327e070af"
      },
      "source": [
        "print('Верно предсказано токенов: ', round(metric(100)*100, 2), '%', sep='')"
      ],
      "execution_count": null,
      "outputs": [
        {
          "output_type": "stream",
          "text": [
            "Верно предсказано токенов: 69.67%\n"
          ],
          "name": "stdout"
        }
      ]
    },
    {
      "cell_type": "code",
      "metadata": {
        "colab_type": "code",
        "id": "jgYu2KVRvjz8",
        "colab": {
          "base_uri": "https://localhost:8080/",
          "height": 34
        },
        "outputId": "1d05945b-10fa-4ef1-b94e-4f144b669daf"
      },
      "source": [
        "decode_sequence('какой вкусный пирог')"
      ],
      "execution_count": null,
      "outputs": [
        {
          "output_type": "stream",
          "text": [
            "Ответ: what a cake is \n"
          ],
          "name": "stdout"
        }
      ]
    },
    {
      "cell_type": "code",
      "metadata": {
        "colab_type": "code",
        "id": "l_tb4NCZvj0A",
        "colab": {
          "base_uri": "https://localhost:8080/",
          "height": 697
        },
        "outputId": "a75305e8-c8a7-43fa-efd3-08d25fd9da79"
      },
      "source": [
        "for n in range(1, 50, 5):\n",
        "  print('------', enc_in[n][:-5])\n",
        "  decode_sequence(enc_in[n])\n",
        "  print('------', decoder_out[n][:-5])\n",
        "  print('-'*40)"
      ],
      "execution_count": null,
      "outputs": [
        {
          "output_type": "stream",
          "text": [
            "------ Давайте что-нибудь попробуем!\n",
            "Ответ: let's try something \n",
            "------ Let's try something. \n",
            "----------------------------------------\n",
            "------ Сегодня 18 июня, и это день рождения Мюриэл!\n",
            "Ответ: today is a <UNK> and it's a birthday it \n",
            "------ Today is June 18th and it is Muiriel's birthday! \n",
            "----------------------------------------\n",
            "------ Я скоро.\n",
            "Ответ: i'll be back soon \n",
            "------ I will be back soon. \n",
            "----------------------------------------\n",
            "------ Не знаю, что и сказать.\n",
            "Ответ: i don't know what to say \n",
            "------ I just don't know what to say. \n",
            "----------------------------------------\n",
            "------ Это новая фотография?\n",
            "Ответ: this is a new picture \n",
            "------ Is it a recent picture? \n",
            "----------------------------------------\n",
            "------ Образование в этом мире меня разочаровывает.\n",
            "Ответ: education is the wish of my health \n",
            "------ Education in this world disappoints me. \n",
            "----------------------------------------\n",
            "------ Ты у меня на пути.\n",
            "Ответ: you're on my way \n",
            "------ You are in my way. \n",
            "----------------------------------------\n",
            "------ Я, может, скоро сдамся и вместо этого пойду вздремну.\n",
            "Ответ: i may go and watch instead and i'll go instead \n",
            "------ I may give up soon and just nap instead. \n",
            "----------------------------------------\n",
            "------ Этого не случится.\n",
            "Ответ: this won't happen \n",
            "------ That won't happen. \n",
            "----------------------------------------\n",
            "------ Я постараюсь не мешать тебе учиться.\n",
            "Ответ: i will not try to study at you study \n",
            "------ I'll do my best not to disturb your studying. \n",
            "----------------------------------------\n"
          ],
          "name": "stdout"
        }
      ]
    },
    {
      "cell_type": "markdown",
      "metadata": {
        "id": "-3gRxJtswNqT",
        "colab_type": "text"
      },
      "source": [
        "# Матрица внимания"
      ]
    },
    {
      "cell_type": "code",
      "metadata": {
        "id": "zZDm8yENdIG0",
        "colab_type": "code",
        "colab": {}
      },
      "source": [
        "# Инференс с матрицей attention\n",
        "\n",
        "enc_seq_len = 15\n",
        "dec_seq_len = 1 \n",
        "\n",
        "# Input\n",
        "encoder_reshaped = Input((dec_seq_len, enc_seq_len,hidden_dim,))\n",
        "decoder_state_input_h = Input((hidden_dim,))\n",
        "decoder_state_input_c = Input((hidden_dim,))\n",
        "final_st = [decoder_state_input_h, decoder_state_input_c]\n",
        "decoder_input = Input((dec_seq_len,))\n",
        "\n",
        "# Декодер\n",
        "dec_emb = Embedding(num_words, emb_size, name='emb')(decoder_input)\n",
        "dec_lstm, *states_value = LSTM(hidden_dim, return_state=True, name='dec_lstm')(dec_emb, initial_state = final_st)\n",
        "\n",
        "# Attention\n",
        "dec_resh = Reshape((dec_seq_len, hidden_dim))(dec_lstm)\n",
        "dec_lstm_reshaped = Reshape((dec_seq_len, 1, hidden_dim))(dec_resh)\n",
        "conc = concatenate([encoder_reshaped, dec_lstm_reshaped], axis=-2)\n",
        "conc_reshaped = Reshape((dec_seq_len, hidden_dim*(enc_seq_len+1)))(conc)\n",
        "\n",
        "# Выход с Dense нужен для матрицы внимания\n",
        "gates = Dense(enc_seq_len, activation='softmax', kernel_regularizer=l2(0.001), bias_regularizer=l2(0.001), name= 'dense_att')(conc_reshaped)\n",
        "\n",
        "gates_reshaped = Reshape((dec_seq_len, enc_seq_len, 1))(gates)\n",
        "gates_repeated = Lambda(lambda l: K.repeat_elements(l, hidden_dim, -1))(gates_reshaped)\n",
        "\n",
        "dot_product = Lambda(lambda xy: K.sum(xy[0]*xy[1], axis=-2))([encoder_reshaped, gates_repeated])\n",
        "\n",
        "attentive_state = concatenate([dec_resh, dot_product])\n",
        "\n",
        "# Выход для inference\n",
        "word_probabilities = Dense(num_words, activation='softmax', name= 'dense')(attentive_state)\n",
        "\n",
        "# Создаем модели\n",
        "decoder_model_ = Model([encoder_reshaped, decoder_input]+final_st, [word_probabilities, gates] + states_value)\n",
        "encoder_model_ = Model(encoder_input, [final_states, ys_reshaped])\n",
        "\n",
        "for name in ['emb', 'dec_lstm', 'dense', 'dense_att']:\n",
        "  decoder_model_.get_layer(name=name).set_weights(model.get_layer(name=name).get_weights())\n",
        "for name in ['enc_emb', 'enc_lstm']:\n",
        "  encoder_model_.get_layer(name=name).set_weights(model.get_layer(name=name).get_weights())"
      ],
      "execution_count": null,
      "outputs": []
    },
    {
      "cell_type": "code",
      "metadata": {
        "id": "6amz4A82Qfql",
        "colab_type": "code",
        "colab": {
          "base_uri": "https://localhost:8080/",
          "height": 557
        },
        "outputId": "fe3211dc-c3a9-4b35-e7b1-dc5a79c57a36"
      },
      "source": [
        "# strr = 'Один раз в жизни я делаю хорошее дело... И оно бесполезно.'\n",
        "strr = 'Привет как дела'\n",
        "# strr = 'Образование в этом мире меня разочаровывает'\n",
        "plot_heatmaps(strr)"
      ],
      "execution_count": null,
      "outputs": [
        {
          "output_type": "stream",
          "text": [
            "Запрос:  Привет как дела\n",
            "Ответ:   hi how are you <end>\n"
          ],
          "name": "stdout"
        },
        {
          "output_type": "display_data",
          "data": {
            "image/png": "[encoded data removed]",
            "text/plain": [
              "<Figure size 720x720 with 1 Axes>"
            ]
          },
          "metadata": {
            "tags": [],
            "needs_background": "light"
          }
        }
      ]
    }
  ]
}